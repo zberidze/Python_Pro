{
 "cells": [
  {
   "cell_type": "markdown",
   "id": "ff6289a1",
   "metadata": {},
   "source": [
    "staticmethod в Python\n",
    "\n",
    "@staticmethod – используется для создания метода, который ничего не знает о классе или экземпляре, через который он был вызван. Он просто получает переданные аргументы, без неявного первого аргумента, и его определение неизменяемо через наследование.\n",
    "\n",
    "Проще говоря, @staticmethod – это вроде обычной функции, определенной внутри класса, которая не имеет доступа к экземпляру, поэтому ее можно вызывать без создания экземпляра класса.|"
   ]
  },
  {
   "cell_type": "markdown",
   "id": "3362f6c9",
   "metadata": {},
   "source": [
    "Вы можете заметить, что статический метод не принимает self в качестве первого аргумента для метода."
   ]
  },
  {
   "cell_type": "code",
   "execution_count": 1,
   "id": "d70d986f",
   "metadata": {},
   "outputs": [],
   "source": [
    "class Myclass():\n",
    "    @staticmethod\n",
    "    def staticmethod():\n",
    "        print('static method called')"
   ]
  },
  {
   "cell_type": "code",
   "execution_count": 2,
   "id": "cf90aebc",
   "metadata": {},
   "outputs": [
    {
     "name": "stdout",
     "output_type": "stream",
     "text": [
      "static method called\n"
     ]
    }
   ],
   "source": [
    "Myclass.staticmethod()"
   ]
  },
  {
   "cell_type": "code",
   "execution_count": 3,
   "id": "65c94be7",
   "metadata": {},
   "outputs": [
    {
     "name": "stdout",
     "output_type": "stream",
     "text": [
      "static method called\n"
     ]
    }
   ],
   "source": [
    "my_obj = Myclass()\n",
    "my_obj.staticmethod()"
   ]
  },
  {
   "cell_type": "markdown",
   "id": "5970a305",
   "metadata": {},
   "source": [
    "Статический метод помогает в достижении инкапсуляции в классе, поскольку он не знает о состоянии текущего экземпляра. Кроме того, статические методы делают код более читабельным и повторно используемым, а также более удобным для импорта по сравнению с обычными функциями, поскольку каждую функцию не нужно отдельно импортировать."
   ]
  },
  {
   "cell_type": "code",
   "execution_count": 4,
   "id": "867a543b",
   "metadata": {},
   "outputs": [],
   "source": [
    "class Person():\n",
    "    @staticmethod\n",
    "    def is_adult(age):\n",
    "        if age > 18:\n",
    "            return True\n",
    "        else:\n",
    "            return False"
   ]
  },
  {
   "cell_type": "code",
   "execution_count": 5,
   "id": "6a0717d4",
   "metadata": {},
   "outputs": [
    {
     "data": {
      "text/plain": [
       "True"
      ]
     },
     "execution_count": 5,
     "metadata": {},
     "output_type": "execute_result"
    }
   ],
   "source": [
    "Person.is_adult(23)"
   ]
  },
  {
   "cell_type": "markdown",
   "id": "3dd45e1b",
   "metadata": {},
   "source": [
    "Classmethod в Python\n",
    "\n",
    "@classmethod – это метод, который получает класс в качестве неявного первого аргумента, точно так же, как обычный метод экземпляра получает экземпляр. Это означает, что вы можете использовать класс и его свойства внутри этого метода, а не конкретного экземпляра.\n",
    "\n",
    "Проще говоря, @classmethod – это обычный метод класса, имеющий доступ ко всем атрибутам класса, через который он был вызван. Следовательно, classmethod – это метод, который привязан к классу, а не к экземпляру класса."
   ]
  },
  {
   "cell_type": "code",
   "execution_count": 6,
   "id": "548e4416",
   "metadata": {},
   "outputs": [],
   "source": [
    "class MyClass:\n",
    "    @classmethod\n",
    "    def classmethod(cls):\n",
    "        print('Class method called')"
   ]
  },
  {
   "cell_type": "code",
   "execution_count": 7,
   "id": "fc3626cf",
   "metadata": {},
   "outputs": [
    {
     "name": "stdout",
     "output_type": "stream",
     "text": [
      "Class method called\n"
     ]
    }
   ],
   "source": [
    "MyClass.classmethod()"
   ]
  },
  {
   "cell_type": "markdown",
   "id": "c1c4cc04",
   "metadata": {},
   "source": [
    "@classmethod используется, когда вам нужно получить методы, не относящиеся к какому-либо конкретному экземпляру, но тем не менее, каким-то образом привязанные к классу. Самое интересное в них то, что их можно переопределить дочерними классами.\n",
    "\n",
    "Поэтому, если вы хотите получить доступ к свойству класса в целом, а не к свойству конкретного экземпляра этого класса, используйте classmethod."
   ]
  },
  {
   "cell_type": "code",
   "execution_count": 8,
   "id": "f6b01d8c",
   "metadata": {},
   "outputs": [
    {
     "name": "stdout",
     "output_type": "stream",
     "text": [
      "Total objects:  3\n"
     ]
    }
   ],
   "source": [
    "class MyClass():\n",
    "    \n",
    "    TOTAL_OBJECTS=0\n",
    "    \n",
    "    def __init__(self):\n",
    "        MyClass.TOTAL_OBJECTS = MyClass.TOTAL_OBJECTS+1\n",
    "       \n",
    "    @classmethod\n",
    "    def total_objects(cls):\n",
    "        print(\"Total objects: \",cls.TOTAL_OBJECTS)\n",
    "# Создаем объекты        \n",
    "my_obj1 = MyClass()\n",
    "my_obj2 = MyClass()\n",
    "my_obj3 = MyClass()\n",
    "# Вызываем classmethod \n",
    "MyClass.total_objects()"
   ]
  },
  {
   "cell_type": "markdown",
   "id": "0bb12acd",
   "metadata": {},
   "source": [
    "Теперь, если мы унаследуем этот класс в дочерний класс и объявим там переменную TOTAL_OBJECTS и вызовем метод класса из дочернего класса, он вернет общее количество объектов для дочернего класса."
   ]
  },
  {
   "cell_type": "code",
   "execution_count": 9,
   "id": "12dcd426",
   "metadata": {},
   "outputs": [
    {
     "name": "stdout",
     "output_type": "stream",
     "text": [
      "Total objects:  0\n"
     ]
    }
   ],
   "source": [
    "class MyClass():\n",
    "    \n",
    "    TOTAL_OBJECTS=0\n",
    "    \n",
    "    def __init__(self):\n",
    "        MyClass.TOTAL_OBJECTS = MyClass.TOTAL_OBJECTS+1\n",
    "       \n",
    "    @classmethod\n",
    "    def total_objects(cls):\n",
    "        print(\"Total objects: \", cls.TOTAL_OBJECTS)\n",
    "# Создаем объекты родительского класса       \n",
    "my_obj1 = MyClass()\n",
    "my_obj2 = MyClass()\n",
    "# Создаем дочерний класс\n",
    "class ChildClass(MyClass):\n",
    "    TOTAL_OBJECTS=0    \n",
    "    pass\n",
    "ChildClass.total_objects()"
   ]
  },
  {
   "cell_type": "markdown",
   "id": "46275b9d",
   "metadata": {},
   "source": [
    "@classmethod используется в суперклассе для определения того, как метод должен вести себя, когда он вызывается разными дочерними классами. В то время как @staticmethod используется, когда мы хотим вернуть одно и то же, независимо от вызываемого дочернего класса.\n",
    "\n",
    "Также имейте в виду, что вызов @classmethod включает в себя дополнительное выделение памяти, чего нет при вызове @staticmethod или обычной функции."
   ]
  },
  {
   "cell_type": "code",
   "execution_count": null,
   "id": "352bd9a9",
   "metadata": {},
   "outputs": [],
   "source": []
  }
 ],
 "metadata": {
  "kernelspec": {
   "display_name": "Python 3 (ipykernel)",
   "language": "python",
   "name": "python3"
  },
  "language_info": {
   "codemirror_mode": {
    "name": "ipython",
    "version": 3
   },
   "file_extension": ".py",
   "mimetype": "text/x-python",
   "name": "python",
   "nbconvert_exporter": "python",
   "pygments_lexer": "ipython3",
   "version": "3.9.13"
  }
 },
 "nbformat": 4,
 "nbformat_minor": 5
}
