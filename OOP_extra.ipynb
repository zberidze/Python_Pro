{
  "nbformat": 4,
  "nbformat_minor": 0,
  "metadata": {
    "colab": {
      "provenance": []
    },
    "kernelspec": {
      "name": "python3",
      "display_name": "Python 3"
    },
    "language_info": {
      "name": "python"
    }
  },
  "cells": [
    {
      "cell_type": "code",
      "source": [
        "class Animal():\n",
        "  class_name = \"Animal\"\n",
        "class Dog(Animal):\n",
        "  my_name=\"Dog\" \n",
        "\n",
        "dog=Dog()\n",
        "dog   \n"
      ],
      "metadata": {
        "colab": {
          "base_uri": "https://localhost:8080/"
        },
        "id": "O8uOArShM2zG",
        "outputId": "cf607c43-035e-4f6d-ec01-fed15ccd2b64"
      },
      "execution_count": null,
      "outputs": [
        {
          "output_type": "execute_result",
          "data": {
            "text/plain": [
              "<__main__.Dog at 0x7f35f83f6b80>"
            ]
          },
          "metadata": {},
          "execution_count": 1
        }
      ]
    },
    {
      "cell_type": "code",
      "execution_count": null,
      "metadata": {
        "id": "Fxj1a1Mq0cBU",
        "colab": {
          "base_uri": "https://localhost:8080/",
          "height": 35
        },
        "outputId": "d314186c-5ba1-4f1c-dfe4-b17701097f5e"
      },
      "outputs": [
        {
          "output_type": "execute_result",
          "data": {
            "text/plain": [
              "'Animal'"
            ],
            "application/vnd.google.colaboratory.intrinsic+json": {
              "type": "string"
            }
          },
          "metadata": {},
          "execution_count": 2
        }
      ],
      "source": [
        "dog.class_name"
      ]
    },
    {
      "cell_type": "code",
      "source": [
        "dog.my_name"
      ],
      "metadata": {
        "colab": {
          "base_uri": "https://localhost:8080/",
          "height": 35
        },
        "id": "XA9e8S6TNQ6r",
        "outputId": "2585c449-2bf2-4114-a9f1-800f57c528c5"
      },
      "execution_count": null,
      "outputs": [
        {
          "output_type": "execute_result",
          "data": {
            "text/plain": [
              "'Dog'"
            ],
            "application/vnd.google.colaboratory.intrinsic+json": {
              "type": "string"
            }
          },
          "metadata": {},
          "execution_count": 3
        }
      ]
    },
    {
      "cell_type": "code",
      "source": [
        "class Animal():\n",
        "  def move(self):\n",
        "    print(\"MOVED\")\n",
        "class Dog(Animal):\n",
        "  def move(self):\n",
        "    print(\"go\")\n",
        "animal=Animal()\n",
        "animal.move()"
      ],
      "metadata": {
        "colab": {
          "base_uri": "https://localhost:8080/"
        },
        "id": "GD9myxxINTZp",
        "outputId": "bcf1aa94-3d8e-4303-f3c2-a070b84f9b3a"
      },
      "execution_count": null,
      "outputs": [
        {
          "output_type": "stream",
          "name": "stdout",
          "text": [
            "MOVED\n"
          ]
        }
      ]
    },
    {
      "cell_type": "code",
      "source": [
        "dog=Dog()\n",
        "dog.move()"
      ],
      "metadata": {
        "colab": {
          "base_uri": "https://localhost:8080/"
        },
        "id": "jUNLFFT9Od4U",
        "outputId": "43f8f98b-6135-4772-ab8a-e3e3522448d7"
      },
      "execution_count": null,
      "outputs": [
        {
          "output_type": "stream",
          "name": "stdout",
          "text": [
            "go\n"
          ]
        }
      ]
    },
    {
      "cell_type": "code",
      "source": [
        "class Animal():\n",
        "  def move(self):\n",
        "    raise NotImplementedError(\"safari\")\n",
        "class Dog(Animal):\n",
        "  def move(self):\n",
        "    print(\"go\")\n",
        "animal=Animal()\n",
        "animal.move()"
      ],
      "metadata": {
        "colab": {
          "base_uri": "https://localhost:8080/",
          "height": 321
        },
        "id": "HF6tANMgOiFb",
        "outputId": "3bd9c6c2-fa62-4d24-9e05-61356c6a10b7"
      },
      "execution_count": null,
      "outputs": [
        {
          "output_type": "error",
          "ename": "NotImplementedError",
          "evalue": "ignored",
          "traceback": [
            "\u001b[0;31m---------------------------------------------------------------------------\u001b[0m",
            "\u001b[0;31mNotImplementedError\u001b[0m                       Traceback (most recent call last)",
            "\u001b[0;32m<ipython-input-7-7650546ae10b>\u001b[0m in \u001b[0;36m<cell line: 8>\u001b[0;34m()\u001b[0m\n\u001b[1;32m      6\u001b[0m     \u001b[0mprint\u001b[0m\u001b[0;34m(\u001b[0m\u001b[0;34m\"go\"\u001b[0m\u001b[0;34m)\u001b[0m\u001b[0;34m\u001b[0m\u001b[0;34m\u001b[0m\u001b[0m\n\u001b[1;32m      7\u001b[0m \u001b[0manimal\u001b[0m\u001b[0;34m=\u001b[0m\u001b[0mAnimal\u001b[0m\u001b[0;34m(\u001b[0m\u001b[0;34m)\u001b[0m\u001b[0;34m\u001b[0m\u001b[0;34m\u001b[0m\u001b[0m\n\u001b[0;32m----> 8\u001b[0;31m \u001b[0manimal\u001b[0m\u001b[0;34m.\u001b[0m\u001b[0mmove\u001b[0m\u001b[0;34m(\u001b[0m\u001b[0;34m)\u001b[0m\u001b[0;34m\u001b[0m\u001b[0;34m\u001b[0m\u001b[0m\n\u001b[0m",
            "\u001b[0;32m<ipython-input-7-7650546ae10b>\u001b[0m in \u001b[0;36mmove\u001b[0;34m(self)\u001b[0m\n\u001b[1;32m      1\u001b[0m \u001b[0;32mclass\u001b[0m \u001b[0mAnimal\u001b[0m\u001b[0;34m(\u001b[0m\u001b[0;34m)\u001b[0m\u001b[0;34m:\u001b[0m\u001b[0;34m\u001b[0m\u001b[0;34m\u001b[0m\u001b[0m\n\u001b[1;32m      2\u001b[0m   \u001b[0;32mdef\u001b[0m \u001b[0mmove\u001b[0m\u001b[0;34m(\u001b[0m\u001b[0mself\u001b[0m\u001b[0;34m)\u001b[0m\u001b[0;34m:\u001b[0m\u001b[0;34m\u001b[0m\u001b[0;34m\u001b[0m\u001b[0m\n\u001b[0;32m----> 3\u001b[0;31m     \u001b[0;32mraise\u001b[0m \u001b[0mNotImplementedError\u001b[0m\u001b[0;34m(\u001b[0m\u001b[0;34m\"safari\"\u001b[0m\u001b[0;34m)\u001b[0m\u001b[0;34m\u001b[0m\u001b[0;34m\u001b[0m\u001b[0m\n\u001b[0m\u001b[1;32m      4\u001b[0m \u001b[0;32mclass\u001b[0m \u001b[0mDog\u001b[0m\u001b[0;34m(\u001b[0m\u001b[0mAnimal\u001b[0m\u001b[0;34m)\u001b[0m\u001b[0;34m:\u001b[0m\u001b[0;34m\u001b[0m\u001b[0;34m\u001b[0m\u001b[0m\n\u001b[1;32m      5\u001b[0m   \u001b[0;32mdef\u001b[0m \u001b[0mmove\u001b[0m\u001b[0;34m(\u001b[0m\u001b[0mself\u001b[0m\u001b[0;34m)\u001b[0m\u001b[0;34m:\u001b[0m\u001b[0;34m\u001b[0m\u001b[0;34m\u001b[0m\u001b[0m\n",
            "\u001b[0;31mNotImplementedError\u001b[0m: safari"
          ]
        }
      ]
    },
    {
      "cell_type": "code",
      "source": [
        "class Parent():\n",
        "  def __init__(self):\n",
        "    print(\"parent init\")\n",
        "    self._num_child=10\n",
        "  def method(self):\n",
        "    print(\"parent method\")\n",
        "\n",
        "class Child(Parent):\n",
        "  def __init__(self,num):\n",
        "    Parent.__init__(self)\n",
        "    self.__number=num\n",
        "\n",
        "  def method(self):\n",
        "    super(Child,self).method()\n",
        "    print(f'i {self.__number} th child in family')\n",
        "    print(f\"i have{self._num_child-1} brother and sister\")  \n",
        "\n",
        "child=Child(5)\n",
        "child.method()    \n"
      ],
      "metadata": {
        "colab": {
          "base_uri": "https://localhost:8080/"
        },
        "id": "lxvRnNGiEdyG",
        "outputId": "151c5db6-a02b-4104-a374-e9a8358b54e1"
      },
      "execution_count": null,
      "outputs": [
        {
          "output_type": "stream",
          "name": "stdout",
          "text": [
            "parent init\n",
            "parent method\n",
            "i 5 th child in family\n",
            "i have9 brother and sister\n"
          ]
        }
      ]
    },
    {
      "cell_type": "code",
      "source": [
        "class Parent():\n",
        "  def __init__(self):\n",
        "    print(\"parent init\")\n",
        "    self._num_child=10\n",
        "  def method(self):\n",
        "    print(\"parent method\")\n",
        "\n",
        "class Child(Parent):\n",
        "  def __init__(self,num):\n",
        "    Parent.__init__(self)\n",
        "    self.__number=num\n",
        "\n",
        "  def method(self):\n",
        "    #super(Child,self).method()\n",
        "    print(f'i {self.__number} th child in family')\n",
        "    print(f\"i have{self._num_child-1} brother and sister\")  \n",
        "\n",
        "child=Child(5)\n",
        "child.method()    \n"
      ],
      "metadata": {
        "colab": {
          "base_uri": "https://localhost:8080/"
        },
        "id": "6-cQBsJ8LRI4",
        "outputId": "c05933fb-345f-41dd-eeeb-ce65a8bc02d1"
      },
      "execution_count": null,
      "outputs": [
        {
          "output_type": "stream",
          "name": "stdout",
          "text": [
            "parent init\n",
            "i 5 th child in family\n",
            "i have9 brother and sister\n"
          ]
        }
      ]
    },
    {
      "cell_type": "code",
      "source": [
        "class English:\n",
        "  def greeting(self):\n",
        "    print(\"hello\")\n",
        "\n",
        "class French:\n",
        "  def greeting(self):\n",
        "    print(\"bonjour\")    \n",
        "\n",
        "def intro(language):\n",
        "  language.greeting()\n",
        "\n",
        "john=English()\n",
        "gerard=French()\n",
        "\n",
        "intro(john),intro(gerard)"
      ],
      "metadata": {
        "colab": {
          "base_uri": "https://localhost:8080/"
        },
        "id": "fFXUGK2NNHZE",
        "outputId": "5ace1883-7d40-4ffc-87f8-c85bbc3f13ac"
      },
      "execution_count": null,
      "outputs": [
        {
          "output_type": "stream",
          "name": "stdout",
          "text": [
            "hello\n",
            "bonjour\n"
          ]
        },
        {
          "output_type": "execute_result",
          "data": {
            "text/plain": [
              "(None, None)"
            ]
          },
          "metadata": {},
          "execution_count": 16
        }
      ]
    },
    {
      "cell_type": "code",
      "source": [
        "list(range(2,11))"
      ],
      "metadata": {
        "colab": {
          "base_uri": "https://localhost:8080/"
        },
        "id": "FjC4XiQQU6Ri",
        "outputId": "c5d5a0e3-d1e6-4fdd-a1aa-0d93ded7aacb"
      },
      "execution_count": null,
      "outputs": [
        {
          "output_type": "execute_result",
          "data": {
            "text/plain": [
              "[2, 3, 4, 5, 6, 7, 8, 9, 10]"
            ]
          },
          "metadata": {},
          "execution_count": 26
        }
      ]
    },
    {
      "cell_type": "code",
      "source": [
        "[str(n) for n in range(2,11)]+list(\"jqka\")"
      ],
      "metadata": {
        "colab": {
          "base_uri": "https://localhost:8080/"
        },
        "id": "56UgBxB0VAza",
        "outputId": "3df316e3-55ff-4607-aba1-6bde9ca546de"
      },
      "execution_count": null,
      "outputs": [
        {
          "output_type": "execute_result",
          "data": {
            "text/plain": [
              "['2', '3', '4', '5', '6', '7', '8', '9', '10', 'j', 'q', 'k', 'a']"
            ]
          },
          "metadata": {},
          "execution_count": 27
        }
      ]
    },
    {
      "cell_type": "code",
      "source": [
        "\"spades diamonds clubs heards\".split()\n"
      ],
      "metadata": {
        "colab": {
          "base_uri": "https://localhost:8080/"
        },
        "id": "hCja_ChGVSdc",
        "outputId": "2fc5b2d6-7e5e-493e-8dac-902fdca0e2c7"
      },
      "execution_count": null,
      "outputs": [
        {
          "output_type": "execute_result",
          "data": {
            "text/plain": [
              "['spades', 'diamonds', 'clubs', 'heards']"
            ]
          },
          "metadata": {},
          "execution_count": 28
        }
      ]
    },
    {
      "cell_type": "code",
      "source": [
        "import collections\n",
        "\n",
        "Card=collections.namedtuple(\"card\",[\"rank\",\"suit\"])\n",
        "\n",
        "class FrenchDeck:\n",
        "  ranks=[str(n) for n in range(2,11)]+list(\"jqka\")\n",
        "  suits=\"spades diamonds clubs hearts\".split()\n",
        "\n",
        "  def __init__(self):\n",
        "    self._cards=[Card(rank,suit) for suit in self.suits\n",
        "                                for rank in self.ranks]\n",
        "\n",
        "  def __len__(self):\n",
        "    return len(self._cards)       \n",
        "  def __getitem__(self,position):\n",
        "    return self._cards[position]      \n",
        "\n",
        "  def __del__(self):\n",
        "    print(\"object destroyed\")                     "
      ],
      "metadata": {
        "id": "mU64DNY2Oiv2"
      },
      "execution_count": null,
      "outputs": []
    },
    {
      "cell_type": "code",
      "source": [
        "Card"
      ],
      "metadata": {
        "colab": {
          "base_uri": "https://localhost:8080/"
        },
        "id": "ac1SlsUuRjcm",
        "outputId": "6b8ca523-07bd-4698-d6e5-b1d40c0ccab1"
      },
      "execution_count": null,
      "outputs": [
        {
          "output_type": "execute_result",
          "data": {
            "text/plain": [
              "__main__.card"
            ]
          },
          "metadata": {},
          "execution_count": 19
        }
      ]
    },
    {
      "cell_type": "code",
      "source": [
        " \n",
        "class FrenchDeckBad:\n",
        "  ranks=[str(n) for n in range(2,11)]+list(\"jqka\")\n",
        "  suits=\"spades diamonds clubs hearts\".split()\n",
        "\n",
        "  def __init__(self):\n",
        "    self.cards=[Card(rank,suit) for suit in self.suits\n",
        "                                for rank in self.ranks]"
      ],
      "metadata": {
        "id": "ZHLYqxosRlZG"
      },
      "execution_count": null,
      "outputs": []
    },
    {
      "cell_type": "code",
      "source": [
        "beer_card=Card(7,\"diamonds\")\n",
        "beer_card"
      ],
      "metadata": {
        "colab": {
          "base_uri": "https://localhost:8080/"
        },
        "id": "1oKBXdukTu7m",
        "outputId": "277d7101-fb77-4c93-9783-210e6465828c"
      },
      "execution_count": null,
      "outputs": [
        {
          "output_type": "execute_result",
          "data": {
            "text/plain": [
              "card(rank=7, suit='diamonds')"
            ]
          },
          "metadata": {},
          "execution_count": 21
        }
      ]
    },
    {
      "cell_type": "code",
      "source": [
        "deck=FrenchDeck()\n",
        "len(deck)"
      ],
      "metadata": {
        "colab": {
          "base_uri": "https://localhost:8080/"
        },
        "id": "a8KusqM0UGjS",
        "outputId": "0f965bb0-9cb3-429a-8a43-953d3eda89ef"
      },
      "execution_count": null,
      "outputs": [
        {
          "output_type": "execute_result",
          "data": {
            "text/plain": [
              "52"
            ]
          },
          "metadata": {},
          "execution_count": 43
        }
      ]
    },
    {
      "cell_type": "code",
      "source": [
        "deck[:14]"
      ],
      "metadata": {
        "colab": {
          "base_uri": "https://localhost:8080/"
        },
        "id": "LKrtu3ljVatz",
        "outputId": "7fbd1f02-b5cd-42ac-b976-bdbb938c18f9"
      },
      "execution_count": null,
      "outputs": [
        {
          "output_type": "execute_result",
          "data": {
            "text/plain": [
              "[card(rank='2', suit='spades'),\n",
              " card(rank='3', suit='spades'),\n",
              " card(rank='4', suit='spades'),\n",
              " card(rank='5', suit='spades'),\n",
              " card(rank='6', suit='spades'),\n",
              " card(rank='7', suit='spades'),\n",
              " card(rank='8', suit='spades'),\n",
              " card(rank='9', suit='spades'),\n",
              " card(rank='10', suit='spades'),\n",
              " card(rank='j', suit='spades'),\n",
              " card(rank='q', suit='spades'),\n",
              " card(rank='k', suit='spades'),\n",
              " card(rank='a', suit='spades'),\n",
              " card(rank='2', suit='diamonds')]"
            ]
          },
          "metadata": {},
          "execution_count": 31
        }
      ]
    },
    {
      "cell_type": "code",
      "source": [
        "deck[10:15]"
      ],
      "metadata": {
        "colab": {
          "base_uri": "https://localhost:8080/"
        },
        "id": "0fmi1sYCVkAn",
        "outputId": "99ea7da6-020f-4f3d-9132-fc1080bc9abb"
      },
      "execution_count": null,
      "outputs": [
        {
          "output_type": "execute_result",
          "data": {
            "text/plain": [
              "[card(rank='q', suit='spades'),\n",
              " card(rank='k', suit='spades'),\n",
              " card(rank='a', suit='spades'),\n",
              " card(rank='2', suit='diamonds'),\n",
              " card(rank='3', suit='diamonds')]"
            ]
          },
          "metadata": {},
          "execution_count": 36
        }
      ]
    },
    {
      "cell_type": "code",
      "source": [
        "deck[10::13]"
      ],
      "metadata": {
        "colab": {
          "base_uri": "https://localhost:8080/"
        },
        "id": "_VQlyxtTV7Ud",
        "outputId": "3a7ce75d-7fb1-4aee-f8cf-cd19038440f3"
      },
      "execution_count": null,
      "outputs": [
        {
          "output_type": "execute_result",
          "data": {
            "text/plain": [
              "[card(rank='q', suit='spades'),\n",
              " card(rank='q', suit='diamonds'),\n",
              " card(rank='q', suit='clubs'),\n",
              " card(rank='q', suit='heards')]"
            ]
          },
          "metadata": {},
          "execution_count": 38
        }
      ]
    },
    {
      "cell_type": "code",
      "source": [
        "Card(\"q\",\"hearts\") in deck"
      ],
      "metadata": {
        "colab": {
          "base_uri": "https://localhost:8080/"
        },
        "id": "6jhHvXpcWD1g",
        "outputId": "c3313d17-bdb3-449f-c4bf-84e2f0b7ad3b"
      },
      "execution_count": null,
      "outputs": [
        {
          "output_type": "execute_result",
          "data": {
            "text/plain": [
              "True"
            ]
          },
          "metadata": {},
          "execution_count": 44
        }
      ]
    },
    {
      "cell_type": "code",
      "source": [
        "for n ,card in enumerate(deck,1):\n",
        "  print(n,card)"
      ],
      "metadata": {
        "colab": {
          "base_uri": "https://localhost:8080/"
        },
        "id": "80oBcj_gWt2K",
        "outputId": "5151c6ea-c6a7-4ca8-97af-326d7fbdf35d"
      },
      "execution_count": null,
      "outputs": [
        {
          "output_type": "stream",
          "name": "stdout",
          "text": [
            "1 card(rank='2', suit='spades')\n",
            "2 card(rank='3', suit='spades')\n",
            "3 card(rank='4', suit='spades')\n",
            "4 card(rank='5', suit='spades')\n",
            "5 card(rank='6', suit='spades')\n",
            "6 card(rank='7', suit='spades')\n",
            "7 card(rank='8', suit='spades')\n",
            "8 card(rank='9', suit='spades')\n",
            "9 card(rank='10', suit='spades')\n",
            "10 card(rank='j', suit='spades')\n",
            "11 card(rank='q', suit='spades')\n",
            "12 card(rank='k', suit='spades')\n",
            "13 card(rank='a', suit='spades')\n",
            "14 card(rank='2', suit='diamonds')\n",
            "15 card(rank='3', suit='diamonds')\n",
            "16 card(rank='4', suit='diamonds')\n",
            "17 card(rank='5', suit='diamonds')\n",
            "18 card(rank='6', suit='diamonds')\n",
            "19 card(rank='7', suit='diamonds')\n",
            "20 card(rank='8', suit='diamonds')\n",
            "21 card(rank='9', suit='diamonds')\n",
            "22 card(rank='10', suit='diamonds')\n",
            "23 card(rank='j', suit='diamonds')\n",
            "24 card(rank='q', suit='diamonds')\n",
            "25 card(rank='k', suit='diamonds')\n",
            "26 card(rank='a', suit='diamonds')\n",
            "27 card(rank='2', suit='clubs')\n",
            "28 card(rank='3', suit='clubs')\n",
            "29 card(rank='4', suit='clubs')\n",
            "30 card(rank='5', suit='clubs')\n",
            "31 card(rank='6', suit='clubs')\n",
            "32 card(rank='7', suit='clubs')\n",
            "33 card(rank='8', suit='clubs')\n",
            "34 card(rank='9', suit='clubs')\n",
            "35 card(rank='10', suit='clubs')\n",
            "36 card(rank='j', suit='clubs')\n",
            "37 card(rank='q', suit='clubs')\n",
            "38 card(rank='k', suit='clubs')\n",
            "39 card(rank='a', suit='clubs')\n",
            "40 card(rank='2', suit='hearts')\n",
            "41 card(rank='3', suit='hearts')\n",
            "42 card(rank='4', suit='hearts')\n",
            "43 card(rank='5', suit='hearts')\n",
            "44 card(rank='6', suit='hearts')\n",
            "45 card(rank='7', suit='hearts')\n",
            "46 card(rank='8', suit='hearts')\n",
            "47 card(rank='9', suit='hearts')\n",
            "48 card(rank='10', suit='hearts')\n",
            "49 card(rank='j', suit='hearts')\n",
            "50 card(rank='q', suit='hearts')\n",
            "51 card(rank='k', suit='hearts')\n",
            "52 card(rank='a', suit='hearts')\n"
          ]
        }
      ]
    },
    {
      "cell_type": "code",
      "source": [
        "import math\n",
        "\n",
        "class Vector:\n",
        "  def __init__(self , x=0 , y=0):\n",
        "    self.x=x\n",
        "    self.y=y\n",
        "  def __repr__(self):\n",
        "     return f'Vector({self.x!r},{self.y!r})'\n",
        "\n",
        "  def __abs__(self):\n",
        "    return math.hypot(self.x,self.y)\n",
        "  \n",
        "  def __bool__(self):\n",
        "    return bool(abs(self))\n",
        "\n",
        "  def __add__(self,other):\n",
        "    x=self.x+other.x\n",
        "    y=self.y+other.y\n",
        "    return Vector(x,y)\n",
        "\n",
        "  def __mul__(self,scalar):\n",
        "    return Vector(self.x * scalar ,self.y*scalar)        "
      ],
      "metadata": {
        "id": "NZflZvlNXSz8"
      },
      "execution_count": 12,
      "outputs": []
    },
    {
      "cell_type": "code",
      "source": [
        "v1=Vector(2,3)\n",
        "v2=Vector(3,4)\n",
        "v1+v2"
      ],
      "metadata": {
        "colab": {
          "base_uri": "https://localhost:8080/"
        },
        "id": "QzNPOzV9xOH8",
        "outputId": "a83c1d22-30d7-4fb6-c53e-44291e19397c"
      },
      "execution_count": 16,
      "outputs": [
        {
          "output_type": "execute_result",
          "data": {
            "text/plain": [
              "Vector(5,7)"
            ]
          },
          "metadata": {},
          "execution_count": 16
        }
      ]
    },
    {
      "cell_type": "code",
      "source": [
        "abs(v1)"
      ],
      "metadata": {
        "colab": {
          "base_uri": "https://localhost:8080/"
        },
        "id": "jbv4GO7wxofQ",
        "outputId": "b9382044-6eca-42fb-da6b-7ac17a02a790"
      },
      "execution_count": 17,
      "outputs": [
        {
          "output_type": "execute_result",
          "data": {
            "text/plain": [
              "3.6055512754639896"
            ]
          },
          "metadata": {},
          "execution_count": 17
        }
      ]
    },
    {
      "cell_type": "code",
      "source": [
        "v1*3"
      ],
      "metadata": {
        "colab": {
          "base_uri": "https://localhost:8080/"
        },
        "id": "6EZrg1SWxx5n",
        "outputId": "17edb764-4c57-4d8a-f3da-01aeb1ce00e2"
      },
      "execution_count": 18,
      "outputs": [
        {
          "output_type": "execute_result",
          "data": {
            "text/plain": [
              "Vector(6,9)"
            ]
          },
          "metadata": {},
          "execution_count": 18
        }
      ]
    },
    {
      "cell_type": "code",
      "source": [
        "abs(v1*3)"
      ],
      "metadata": {
        "colab": {
          "base_uri": "https://localhost:8080/"
        },
        "id": "UlD0KHD7yk05",
        "outputId": "ae6de7e4-f04a-42e2-c276-c953819c26b6"
      },
      "execution_count": 19,
      "outputs": [
        {
          "output_type": "execute_result",
          "data": {
            "text/plain": [
              "10.816653826391969"
            ]
          },
          "metadata": {},
          "execution_count": 19
        }
      ]
    },
    {
      "cell_type": "code",
      "source": [
        "bool(v1),bool(v2)"
      ],
      "metadata": {
        "colab": {
          "base_uri": "https://localhost:8080/"
        },
        "id": "hFq0MgT6yned",
        "outputId": "2aeac26b-77a5-441f-858a-11f0d1cb7502"
      },
      "execution_count": 20,
      "outputs": [
        {
          "output_type": "execute_result",
          "data": {
            "text/plain": [
              "(True, True)"
            ]
          },
          "metadata": {},
          "execution_count": 20
        }
      ]
    },
    {
      "cell_type": "code",
      "source": [
        "import pandas as pd\n",
        "import numpy as np \n",
        "import warnings\n",
        "warnings.filterwarnings(\"ignore\")"
      ],
      "metadata": {
        "id": "ntvBcsGjy638"
      },
      "execution_count": 1,
      "outputs": []
    },
    {
      "cell_type": "code",
      "source": [
        "path=\"https://raw.githubusercontent.com/aksenov7/Kaggle_competition_group/master/boston_full.csv\"\n",
        "df=pd.read_csv(path,sep=\"\\t\")\n",
        "df.head(2)"
      ],
      "metadata": {
        "colab": {
          "base_uri": "https://localhost:8080/",
          "height": 112
        },
        "id": "ljmc93Xm0Iu2",
        "outputId": "202e6a1b-6e41-4bea-8b64-b18dcd0ae68e"
      },
      "execution_count": 61,
      "outputs": [
        {
          "output_type": "execute_result",
          "data": {
            "text/plain": [
              "      CRIM    ZN  INDUS  CHAS    NOX     RM   AGE     DIS  RAD    TAX  \\\n",
              "0  0.00632  18.0   2.31   0.0  0.538  6.575  65.2  4.0900  1.0  296.0   \n",
              "1  0.02731   0.0   7.07   0.0  0.469  6.421  78.9  4.9671  2.0  242.0   \n",
              "\n",
              "   PTRATIO      B  LSTAT  target  \n",
              "0     15.3  396.9   4.98    24.0  \n",
              "1     17.8  396.9   9.14    21.6  "
            ],
            "text/html": [
              "\n",
              "  <div id=\"df-f99980f3-cedc-4e7e-86d5-036d9b8ce3ad\">\n",
              "    <div class=\"colab-df-container\">\n",
              "      <div>\n",
              "<style scoped>\n",
              "    .dataframe tbody tr th:only-of-type {\n",
              "        vertical-align: middle;\n",
              "    }\n",
              "\n",
              "    .dataframe tbody tr th {\n",
              "        vertical-align: top;\n",
              "    }\n",
              "\n",
              "    .dataframe thead th {\n",
              "        text-align: right;\n",
              "    }\n",
              "</style>\n",
              "<table border=\"1\" class=\"dataframe\">\n",
              "  <thead>\n",
              "    <tr style=\"text-align: right;\">\n",
              "      <th></th>\n",
              "      <th>CRIM</th>\n",
              "      <th>ZN</th>\n",
              "      <th>INDUS</th>\n",
              "      <th>CHAS</th>\n",
              "      <th>NOX</th>\n",
              "      <th>RM</th>\n",
              "      <th>AGE</th>\n",
              "      <th>DIS</th>\n",
              "      <th>RAD</th>\n",
              "      <th>TAX</th>\n",
              "      <th>PTRATIO</th>\n",
              "      <th>B</th>\n",
              "      <th>LSTAT</th>\n",
              "      <th>target</th>\n",
              "    </tr>\n",
              "  </thead>\n",
              "  <tbody>\n",
              "    <tr>\n",
              "      <th>0</th>\n",
              "      <td>0.00632</td>\n",
              "      <td>18.0</td>\n",
              "      <td>2.31</td>\n",
              "      <td>0.0</td>\n",
              "      <td>0.538</td>\n",
              "      <td>6.575</td>\n",
              "      <td>65.2</td>\n",
              "      <td>4.0900</td>\n",
              "      <td>1.0</td>\n",
              "      <td>296.0</td>\n",
              "      <td>15.3</td>\n",
              "      <td>396.9</td>\n",
              "      <td>4.98</td>\n",
              "      <td>24.0</td>\n",
              "    </tr>\n",
              "    <tr>\n",
              "      <th>1</th>\n",
              "      <td>0.02731</td>\n",
              "      <td>0.0</td>\n",
              "      <td>7.07</td>\n",
              "      <td>0.0</td>\n",
              "      <td>0.469</td>\n",
              "      <td>6.421</td>\n",
              "      <td>78.9</td>\n",
              "      <td>4.9671</td>\n",
              "      <td>2.0</td>\n",
              "      <td>242.0</td>\n",
              "      <td>17.8</td>\n",
              "      <td>396.9</td>\n",
              "      <td>9.14</td>\n",
              "      <td>21.6</td>\n",
              "    </tr>\n",
              "  </tbody>\n",
              "</table>\n",
              "</div>\n",
              "      <button class=\"colab-df-convert\" onclick=\"convertToInteractive('df-f99980f3-cedc-4e7e-86d5-036d9b8ce3ad')\"\n",
              "              title=\"Convert this dataframe to an interactive table.\"\n",
              "              style=\"display:none;\">\n",
              "        \n",
              "  <svg xmlns=\"http://www.w3.org/2000/svg\" height=\"24px\"viewBox=\"0 0 24 24\"\n",
              "       width=\"24px\">\n",
              "    <path d=\"M0 0h24v24H0V0z\" fill=\"none\"/>\n",
              "    <path d=\"M18.56 5.44l.94 2.06.94-2.06 2.06-.94-2.06-.94-.94-2.06-.94 2.06-2.06.94zm-11 1L8.5 8.5l.94-2.06 2.06-.94-2.06-.94L8.5 2.5l-.94 2.06-2.06.94zm10 10l.94 2.06.94-2.06 2.06-.94-2.06-.94-.94-2.06-.94 2.06-2.06.94z\"/><path d=\"M17.41 7.96l-1.37-1.37c-.4-.4-.92-.59-1.43-.59-.52 0-1.04.2-1.43.59L10.3 9.45l-7.72 7.72c-.78.78-.78 2.05 0 2.83L4 21.41c.39.39.9.59 1.41.59.51 0 1.02-.2 1.41-.59l7.78-7.78 2.81-2.81c.8-.78.8-2.07 0-2.86zM5.41 20L4 18.59l7.72-7.72 1.47 1.35L5.41 20z\"/>\n",
              "  </svg>\n",
              "      </button>\n",
              "      \n",
              "  <style>\n",
              "    .colab-df-container {\n",
              "      display:flex;\n",
              "      flex-wrap:wrap;\n",
              "      gap: 12px;\n",
              "    }\n",
              "\n",
              "    .colab-df-convert {\n",
              "      background-color: #E8F0FE;\n",
              "      border: none;\n",
              "      border-radius: 50%;\n",
              "      cursor: pointer;\n",
              "      display: none;\n",
              "      fill: #1967D2;\n",
              "      height: 32px;\n",
              "      padding: 0 0 0 0;\n",
              "      width: 32px;\n",
              "    }\n",
              "\n",
              "    .colab-df-convert:hover {\n",
              "      background-color: #E2EBFA;\n",
              "      box-shadow: 0px 1px 2px rgba(60, 64, 67, 0.3), 0px 1px 3px 1px rgba(60, 64, 67, 0.15);\n",
              "      fill: #174EA6;\n",
              "    }\n",
              "\n",
              "    [theme=dark] .colab-df-convert {\n",
              "      background-color: #3B4455;\n",
              "      fill: #D2E3FC;\n",
              "    }\n",
              "\n",
              "    [theme=dark] .colab-df-convert:hover {\n",
              "      background-color: #434B5C;\n",
              "      box-shadow: 0px 1px 3px 1px rgba(0, 0, 0, 0.15);\n",
              "      filter: drop-shadow(0px 1px 2px rgba(0, 0, 0, 0.3));\n",
              "      fill: #FFFFFF;\n",
              "    }\n",
              "  </style>\n",
              "\n",
              "      <script>\n",
              "        const buttonEl =\n",
              "          document.querySelector('#df-f99980f3-cedc-4e7e-86d5-036d9b8ce3ad button.colab-df-convert');\n",
              "        buttonEl.style.display =\n",
              "          google.colab.kernel.accessAllowed ? 'block' : 'none';\n",
              "\n",
              "        async function convertToInteractive(key) {\n",
              "          const element = document.querySelector('#df-f99980f3-cedc-4e7e-86d5-036d9b8ce3ad');\n",
              "          const dataTable =\n",
              "            await google.colab.kernel.invokeFunction('convertToInteractive',\n",
              "                                                     [key], {});\n",
              "          if (!dataTable) return;\n",
              "\n",
              "          const docLinkHtml = 'Like what you see? Visit the ' +\n",
              "            '<a target=\"_blank\" href=https://colab.research.google.com/notebooks/data_table.ipynb>data table notebook</a>'\n",
              "            + ' to learn more about interactive tables.';\n",
              "          element.innerHTML = '';\n",
              "          dataTable['output_type'] = 'display_data';\n",
              "          await google.colab.output.renderOutput(dataTable, element);\n",
              "          const docLink = document.createElement('div');\n",
              "          docLink.innerHTML = docLinkHtml;\n",
              "          element.appendChild(docLink);\n",
              "        }\n",
              "      </script>\n",
              "    </div>\n",
              "  </div>\n",
              "  "
            ]
          },
          "metadata": {},
          "execution_count": 61
        }
      ]
    },
    {
      "cell_type": "code",
      "source": [
        "from sklearn.base import BaseEstimator"
      ],
      "metadata": {
        "id": "HTs_ucnq0QZY"
      },
      "execution_count": 3,
      "outputs": []
    },
    {
      "cell_type": "code",
      "source": [
        "class Estimator(BaseEstimator):\n",
        "  def fit(self,X,y=None):\n",
        "    return self\n",
        "\n",
        "  def predict(self,X):\n",
        "    return yhat\n",
        "      "
      ],
      "metadata": {
        "id": "kMQviu9R0dHp"
      },
      "execution_count": 4,
      "outputs": []
    },
    {
      "cell_type": "code",
      "source": [
        "from sklearn.base import TransformerMixin\n",
        "class Transformer(BaseEstimator,TransformerMixin):\n",
        "   def fit(self,X,y=None):\n",
        "    return self\n",
        "   def transform(self,X):\n",
        "    return Xprime"
      ],
      "metadata": {
        "id": "6VruzZbH3dRt"
      },
      "execution_count": 5,
      "outputs": []
    },
    {
      "cell_type": "code",
      "source": [
        "nan_col=df.sample(3,axis=1).columns\n",
        "nan_col"
      ],
      "metadata": {
        "colab": {
          "base_uri": "https://localhost:8080/"
        },
        "id": "69Ko80e13_n8",
        "outputId": "0d7b6d4c-2b3f-45c1-87b3-b9541ca33eb5"
      },
      "execution_count": 6,
      "outputs": [
        {
          "output_type": "execute_result",
          "data": {
            "text/plain": [
              "Index(['DIS', 'NOX', 'CRIM'], dtype='object')"
            ]
          },
          "metadata": {},
          "execution_count": 6
        }
      ]
    },
    {
      "cell_type": "code",
      "source": [
        "nan_row=df.sample(25,axis=0).index\n",
        "nan_row"
      ],
      "metadata": {
        "colab": {
          "base_uri": "https://localhost:8080/"
        },
        "id": "7Xy3XuOJIUAm",
        "outputId": "52f8303e-cc80-422b-9619-c6faf39018c8"
      },
      "execution_count": 7,
      "outputs": [
        {
          "output_type": "execute_result",
          "data": {
            "text/plain": [
              "Int64Index([410, 211,  57, 180, 315, 228,  95, 494, 485, 295, 290, 154, 455,\n",
              "            171, 348, 194, 466, 177, 335, 206,  86,  14, 138, 260, 152],\n",
              "           dtype='int64')"
            ]
          },
          "metadata": {},
          "execution_count": 7
        }
      ]
    },
    {
      "cell_type": "code",
      "source": [
        "df.loc[nan_row,nan_col]=np.nan"
      ],
      "metadata": {
        "id": "nuzU2BgjIdLY"
      },
      "execution_count": 8,
      "outputs": []
    },
    {
      "cell_type": "code",
      "source": [
        "class Fillna(BaseEstimator,TransformerMixin):\n",
        "  def __init__(self):\n",
        "    self.placeholder=[]\n",
        "  def fit(self,X,y=None):\n",
        "    for column in X.columns:\n",
        "      self.placeholder.append(X[column].median())\n",
        "    return self\n",
        "  def transform(self,X):\n",
        "    Xnew=X.copy()\n",
        "    for placeholder,column in zip(self.placeholder,Xnew.columns):\n",
        "      Xnew[column]=Xnew[column].fillna(placeholder)\n",
        "    return Xnew \n"
      ],
      "metadata": {
        "id": "QOXsV7U5IlQG"
      },
      "execution_count": 62,
      "outputs": []
    },
    {
      "cell_type": "code",
      "source": [
        "df.info()"
      ],
      "metadata": {
        "colab": {
          "base_uri": "https://localhost:8080/"
        },
        "id": "bTyt7xkkJxBl",
        "outputId": "0452ed30-cdf5-4178-9f35-4dc0fcabb6c4"
      },
      "execution_count": 10,
      "outputs": [
        {
          "output_type": "stream",
          "name": "stdout",
          "text": [
            "<class 'pandas.core.frame.DataFrame'>\n",
            "RangeIndex: 506 entries, 0 to 505\n",
            "Data columns (total 14 columns):\n",
            " #   Column   Non-Null Count  Dtype  \n",
            "---  ------   --------------  -----  \n",
            " 0   CRIM     481 non-null    float64\n",
            " 1   ZN       506 non-null    float64\n",
            " 2   INDUS    506 non-null    float64\n",
            " 3   CHAS     506 non-null    float64\n",
            " 4   NOX      481 non-null    float64\n",
            " 5   RM       506 non-null    float64\n",
            " 6   AGE      506 non-null    float64\n",
            " 7   DIS      481 non-null    float64\n",
            " 8   RAD      506 non-null    float64\n",
            " 9   TAX      506 non-null    float64\n",
            " 10  PTRATIO  506 non-null    float64\n",
            " 11  B        506 non-null    float64\n",
            " 12  LSTAT    506 non-null    float64\n",
            " 13  target   506 non-null    float64\n",
            "dtypes: float64(14)\n",
            "memory usage: 55.5 KB\n"
          ]
        }
      ]
    },
    {
      "cell_type": "code",
      "source": [
        "fn=Fillna()\n",
        "fn.fit(df)"
      ],
      "metadata": {
        "colab": {
          "base_uri": "https://localhost:8080/",
          "height": 75
        },
        "id": "P3vmgYknJzDZ",
        "outputId": "0aafcfb9-8db2-4666-d737-8f0e8743cf51"
      },
      "execution_count": 11,
      "outputs": [
        {
          "output_type": "execute_result",
          "data": {
            "text/plain": [
              "Fillna()"
            ],
            "text/html": [
              "<style>#sk-container-id-1 {color: black;background-color: white;}#sk-container-id-1 pre{padding: 0;}#sk-container-id-1 div.sk-toggleable {background-color: white;}#sk-container-id-1 label.sk-toggleable__label {cursor: pointer;display: block;width: 100%;margin-bottom: 0;padding: 0.3em;box-sizing: border-box;text-align: center;}#sk-container-id-1 label.sk-toggleable__label-arrow:before {content: \"▸\";float: left;margin-right: 0.25em;color: #696969;}#sk-container-id-1 label.sk-toggleable__label-arrow:hover:before {color: black;}#sk-container-id-1 div.sk-estimator:hover label.sk-toggleable__label-arrow:before {color: black;}#sk-container-id-1 div.sk-toggleable__content {max-height: 0;max-width: 0;overflow: hidden;text-align: left;background-color: #f0f8ff;}#sk-container-id-1 div.sk-toggleable__content pre {margin: 0.2em;color: black;border-radius: 0.25em;background-color: #f0f8ff;}#sk-container-id-1 input.sk-toggleable__control:checked~div.sk-toggleable__content {max-height: 200px;max-width: 100%;overflow: auto;}#sk-container-id-1 input.sk-toggleable__control:checked~label.sk-toggleable__label-arrow:before {content: \"▾\";}#sk-container-id-1 div.sk-estimator input.sk-toggleable__control:checked~label.sk-toggleable__label {background-color: #d4ebff;}#sk-container-id-1 div.sk-label input.sk-toggleable__control:checked~label.sk-toggleable__label {background-color: #d4ebff;}#sk-container-id-1 input.sk-hidden--visually {border: 0;clip: rect(1px 1px 1px 1px);clip: rect(1px, 1px, 1px, 1px);height: 1px;margin: -1px;overflow: hidden;padding: 0;position: absolute;width: 1px;}#sk-container-id-1 div.sk-estimator {font-family: monospace;background-color: #f0f8ff;border: 1px dotted black;border-radius: 0.25em;box-sizing: border-box;margin-bottom: 0.5em;}#sk-container-id-1 div.sk-estimator:hover {background-color: #d4ebff;}#sk-container-id-1 div.sk-parallel-item::after {content: \"\";width: 100%;border-bottom: 1px solid gray;flex-grow: 1;}#sk-container-id-1 div.sk-label:hover label.sk-toggleable__label {background-color: #d4ebff;}#sk-container-id-1 div.sk-serial::before {content: \"\";position: absolute;border-left: 1px solid gray;box-sizing: border-box;top: 0;bottom: 0;left: 50%;z-index: 0;}#sk-container-id-1 div.sk-serial {display: flex;flex-direction: column;align-items: center;background-color: white;padding-right: 0.2em;padding-left: 0.2em;position: relative;}#sk-container-id-1 div.sk-item {position: relative;z-index: 1;}#sk-container-id-1 div.sk-parallel {display: flex;align-items: stretch;justify-content: center;background-color: white;position: relative;}#sk-container-id-1 div.sk-item::before, #sk-container-id-1 div.sk-parallel-item::before {content: \"\";position: absolute;border-left: 1px solid gray;box-sizing: border-box;top: 0;bottom: 0;left: 50%;z-index: -1;}#sk-container-id-1 div.sk-parallel-item {display: flex;flex-direction: column;z-index: 1;position: relative;background-color: white;}#sk-container-id-1 div.sk-parallel-item:first-child::after {align-self: flex-end;width: 50%;}#sk-container-id-1 div.sk-parallel-item:last-child::after {align-self: flex-start;width: 50%;}#sk-container-id-1 div.sk-parallel-item:only-child::after {width: 0;}#sk-container-id-1 div.sk-dashed-wrapped {border: 1px dashed gray;margin: 0 0.4em 0.5em 0.4em;box-sizing: border-box;padding-bottom: 0.4em;background-color: white;}#sk-container-id-1 div.sk-label label {font-family: monospace;font-weight: bold;display: inline-block;line-height: 1.2em;}#sk-container-id-1 div.sk-label-container {text-align: center;}#sk-container-id-1 div.sk-container {/* jupyter's `normalize.less` sets `[hidden] { display: none; }` but bootstrap.min.css set `[hidden] { display: none !important; }` so we also need the `!important` here to be able to override the default hidden behavior on the sphinx rendered scikit-learn.org. See: https://github.com/scikit-learn/scikit-learn/issues/21755 */display: inline-block !important;position: relative;}#sk-container-id-1 div.sk-text-repr-fallback {display: none;}</style><div id=\"sk-container-id-1\" class=\"sk-top-container\"><div class=\"sk-text-repr-fallback\"><pre>Fillna()</pre><b>In a Jupyter environment, please rerun this cell to show the HTML representation or trust the notebook. <br />On GitHub, the HTML representation is unable to render, please try loading this page with nbviewer.org.</b></div><div class=\"sk-container\" hidden><div class=\"sk-item\"><div class=\"sk-estimator sk-toggleable\"><input class=\"sk-toggleable__control sk-hidden--visually\" id=\"sk-estimator-id-1\" type=\"checkbox\" checked><label for=\"sk-estimator-id-1\" class=\"sk-toggleable__label sk-toggleable__label-arrow\">Fillna</label><div class=\"sk-toggleable__content\"><pre>Fillna()</pre></div></div></div></div></div>"
            ]
          },
          "metadata": {},
          "execution_count": 11
        }
      ]
    },
    {
      "cell_type": "code",
      "source": [
        "X_train=fn.Transform(df)"
      ],
      "metadata": {
        "id": "702U84X9KEOH"
      },
      "execution_count": 17,
      "outputs": []
    },
    {
      "cell_type": "code",
      "source": [
        "X_train.info()"
      ],
      "metadata": {
        "colab": {
          "base_uri": "https://localhost:8080/"
        },
        "id": "SqXN4H6jKHKJ",
        "outputId": "c7373e1d-46c9-4e91-c506-fe04e31ccf94"
      },
      "execution_count": 18,
      "outputs": [
        {
          "output_type": "stream",
          "name": "stdout",
          "text": [
            "<class 'pandas.core.frame.DataFrame'>\n",
            "RangeIndex: 506 entries, 0 to 505\n",
            "Data columns (total 14 columns):\n",
            " #   Column   Non-Null Count  Dtype  \n",
            "---  ------   --------------  -----  \n",
            " 0   CRIM     506 non-null    float64\n",
            " 1   ZN       506 non-null    float64\n",
            " 2   INDUS    506 non-null    float64\n",
            " 3   CHAS     506 non-null    float64\n",
            " 4   NOX      506 non-null    float64\n",
            " 5   RM       506 non-null    float64\n",
            " 6   AGE      506 non-null    float64\n",
            " 7   DIS      506 non-null    float64\n",
            " 8   RAD      506 non-null    float64\n",
            " 9   TAX      506 non-null    float64\n",
            " 10  PTRATIO  506 non-null    float64\n",
            " 11  B        506 non-null    float64\n",
            " 12  LSTAT    506 non-null    float64\n",
            " 13  target   506 non-null    float64\n",
            "dtypes: float64(14)\n",
            "memory usage: 55.5 KB\n"
          ]
        }
      ]
    },
    {
      "cell_type": "code",
      "source": [
        "nan_col=df.sample(3,axis=1).columns\n",
        "nan_row=df.sample(25,axis=0).index\n",
        "df.loc[nan_row,nan_col]=np.nan\n",
        "df.info()"
      ],
      "metadata": {
        "colab": {
          "base_uri": "https://localhost:8080/"
        },
        "id": "INm28aIwLM1d",
        "outputId": "2480362a-05c5-4f6d-9b33-e49e76c3e8fc"
      },
      "execution_count": 63,
      "outputs": [
        {
          "output_type": "stream",
          "name": "stdout",
          "text": [
            "<class 'pandas.core.frame.DataFrame'>\n",
            "RangeIndex: 506 entries, 0 to 505\n",
            "Data columns (total 14 columns):\n",
            " #   Column   Non-Null Count  Dtype  \n",
            "---  ------   --------------  -----  \n",
            " 0   CRIM     481 non-null    float64\n",
            " 1   ZN       506 non-null    float64\n",
            " 2   INDUS    506 non-null    float64\n",
            " 3   CHAS     506 non-null    float64\n",
            " 4   NOX      481 non-null    float64\n",
            " 5   RM       506 non-null    float64\n",
            " 6   AGE      506 non-null    float64\n",
            " 7   DIS      481 non-null    float64\n",
            " 8   RAD      506 non-null    float64\n",
            " 9   TAX      506 non-null    float64\n",
            " 10  PTRATIO  506 non-null    float64\n",
            " 11  B        506 non-null    float64\n",
            " 12  LSTAT    506 non-null    float64\n",
            " 13  target   506 non-null    float64\n",
            "dtypes: float64(14)\n",
            "memory usage: 55.5 KB\n"
          ]
        }
      ]
    },
    {
      "cell_type": "code",
      "source": [
        "fn=Fillna()\n",
        "X_train=fn.fit_transform(df)\n",
        "X_train.info()"
      ],
      "metadata": {
        "colab": {
          "base_uri": "https://localhost:8080/"
        },
        "id": "yIa0y7EqKebM",
        "outputId": "b215249b-28a4-40bd-c487-806e31b3e8d6"
      },
      "execution_count": 64,
      "outputs": [
        {
          "output_type": "stream",
          "name": "stdout",
          "text": [
            "<class 'pandas.core.frame.DataFrame'>\n",
            "RangeIndex: 506 entries, 0 to 505\n",
            "Data columns (total 14 columns):\n",
            " #   Column   Non-Null Count  Dtype  \n",
            "---  ------   --------------  -----  \n",
            " 0   CRIM     506 non-null    float64\n",
            " 1   ZN       506 non-null    float64\n",
            " 2   INDUS    506 non-null    float64\n",
            " 3   CHAS     506 non-null    float64\n",
            " 4   NOX      506 non-null    float64\n",
            " 5   RM       506 non-null    float64\n",
            " 6   AGE      506 non-null    float64\n",
            " 7   DIS      506 non-null    float64\n",
            " 8   RAD      506 non-null    float64\n",
            " 9   TAX      506 non-null    float64\n",
            " 10  PTRATIO  506 non-null    float64\n",
            " 11  B        506 non-null    float64\n",
            " 12  LSTAT    506 non-null    float64\n",
            " 13  target   506 non-null    float64\n",
            "dtypes: float64(14)\n",
            "memory usage: 55.5 KB\n"
          ]
        }
      ]
    },
    {
      "cell_type": "code",
      "source": [
        "df.dtypes"
      ],
      "metadata": {
        "colab": {
          "base_uri": "https://localhost:8080/"
        },
        "id": "bjDxgUGGLdsU",
        "outputId": "03ce319e-8be7-4280-8525-d49b8282e4cc"
      },
      "execution_count": 65,
      "outputs": [
        {
          "output_type": "execute_result",
          "data": {
            "text/plain": [
              "CRIM       float64\n",
              "ZN         float64\n",
              "INDUS      float64\n",
              "CHAS       float64\n",
              "NOX        float64\n",
              "RM         float64\n",
              "AGE        float64\n",
              "DIS        float64\n",
              "RAD        float64\n",
              "TAX        float64\n",
              "PTRATIO    float64\n",
              "B          float64\n",
              "LSTAT      float64\n",
              "target     float64\n",
              "dtype: object"
            ]
          },
          "metadata": {},
          "execution_count": 65
        }
      ]
    },
    {
      "cell_type": "code",
      "source": [
        "df.AGE=pd.qcut(df.AGE,q=4)\n",
        "print(df.AGE.value_counts())"
      ],
      "metadata": {
        "colab": {
          "base_uri": "https://localhost:8080/"
        },
        "id": "0seceqT2L5HF",
        "outputId": "f96fd4e8-fa89-4819-abc4-05db9208fcc6"
      },
      "execution_count": 66,
      "outputs": [
        {
          "output_type": "stream",
          "name": "stdout",
          "text": [
            "(2.899, 45.025]    127\n",
            "(94.075, 100.0]    127\n",
            "(45.025, 77.5]     126\n",
            "(77.5, 94.075]     126\n",
            "Name: AGE, dtype: int64\n"
          ]
        }
      ]
    },
    {
      "cell_type": "code",
      "source": [
        "df.AGE"
      ],
      "metadata": {
        "colab": {
          "base_uri": "https://localhost:8080/"
        },
        "id": "VCaBhUngMVoI",
        "outputId": "6e2b9d3d-0386-48e1-a7de-f79681fb705e"
      },
      "execution_count": 67,
      "outputs": [
        {
          "output_type": "execute_result",
          "data": {
            "text/plain": [
              "0      (45.025, 77.5]\n",
              "1      (77.5, 94.075]\n",
              "2      (45.025, 77.5]\n",
              "3      (45.025, 77.5]\n",
              "4      (45.025, 77.5]\n",
              "            ...      \n",
              "501    (45.025, 77.5]\n",
              "502    (45.025, 77.5]\n",
              "503    (77.5, 94.075]\n",
              "504    (77.5, 94.075]\n",
              "505    (77.5, 94.075]\n",
              "Name: AGE, Length: 506, dtype: category\n",
              "Categories (4, interval[float64, right]): [(2.899, 45.025] < (45.025, 77.5] < (77.5, 94.075] <\n",
              "                                           (94.075, 100.0]]"
            ]
          },
          "metadata": {},
          "execution_count": 67
        }
      ]
    },
    {
      "cell_type": "code",
      "source": [
        "df=df.iloc[np.random.choice(df.index,df.shape[0]),:]\n",
        "X_train,X_test=df[:400],df[400:]\n",
        "X_train.shape,X_test.shape"
      ],
      "metadata": {
        "colab": {
          "base_uri": "https://localhost:8080/"
        },
        "id": "19RMCzUkMa1X",
        "outputId": "c1abb31b-f7f1-4ba3-d547-0023a9bb85de"
      },
      "execution_count": 68,
      "outputs": [
        {
          "output_type": "execute_result",
          "data": {
            "text/plain": [
              "((400, 14), (106, 14))"
            ]
          },
          "metadata": {},
          "execution_count": 68
        }
      ]
    },
    {
      "cell_type": "code",
      "source": [
        "y_train=X_train.pop(\"target\")\n",
        "y_test=X_test.pop(\"target\")\n",
        "\n",
        "y_train.shape,y_test.shape"
      ],
      "metadata": {
        "colab": {
          "base_uri": "https://localhost:8080/"
        },
        "id": "_ewMelH1M66S",
        "outputId": "fb1eb06b-e8d1-41c5-e68e-108bc44314b1"
      },
      "execution_count": 69,
      "outputs": [
        {
          "output_type": "execute_result",
          "data": {
            "text/plain": [
              "((400,), (106,))"
            ]
          },
          "metadata": {},
          "execution_count": 69
        }
      ]
    },
    {
      "cell_type": "code",
      "source": [
        "from sklearn.base import BaseEstimator\n",
        "class MedianReg(BaseEstimator):\n",
        "  def __init__(self,need_col):\n",
        "    self.__need_col=need_col\n",
        "    self.__fitobj=None\n",
        "  def fit(self,X,y):\n",
        "    X=pd.concat([X,y],axis=1)\n",
        "    target_col=X.columns[-1]\n",
        "    self.__fitobj=X.groupby(self.__need_col,as_index=False)[target_col].median()\n",
        "    print(self.__fitobj)\n",
        "    self.__fitobj={key:val for key,val in self.__fitobj.values}\n",
        "    return self\n",
        "  def predict(self,X):\n",
        "    yhat=X.loc[:,self.__need_col].map(self.__fitobj).astype(np.float32)\n",
        "    return yhat    "
      ],
      "metadata": {
        "id": "V6i6yzQINolD"
      },
      "execution_count": 70,
      "outputs": []
    },
    {
      "cell_type": "code",
      "source": [
        "X=pd.concat([X_train,y_train],axis=1)\n",
        "target_col=X.columns[-1]\n",
        "fitobj=X.groupby(\"AGE\",as_index=False)[target_col].median()\n",
        "fitobj"
      ],
      "metadata": {
        "colab": {
          "base_uri": "https://localhost:8080/",
          "height": 175
        },
        "id": "leTRkxrDXkls",
        "outputId": "390b1bbd-16f1-4208-c6fc-f5d397efb77f"
      },
      "execution_count": 74,
      "outputs": [
        {
          "output_type": "execute_result",
          "data": {
            "text/plain": [
              "               AGE  target\n",
              "0  (2.899, 45.025]   24.70\n",
              "1   (45.025, 77.5]   22.45\n",
              "2   (77.5, 94.075]   19.15\n",
              "3  (94.075, 100.0]   15.00"
            ],
            "text/html": [
              "\n",
              "  <div id=\"df-13de12fa-2557-442c-867b-0b8d35efa494\">\n",
              "    <div class=\"colab-df-container\">\n",
              "      <div>\n",
              "<style scoped>\n",
              "    .dataframe tbody tr th:only-of-type {\n",
              "        vertical-align: middle;\n",
              "    }\n",
              "\n",
              "    .dataframe tbody tr th {\n",
              "        vertical-align: top;\n",
              "    }\n",
              "\n",
              "    .dataframe thead th {\n",
              "        text-align: right;\n",
              "    }\n",
              "</style>\n",
              "<table border=\"1\" class=\"dataframe\">\n",
              "  <thead>\n",
              "    <tr style=\"text-align: right;\">\n",
              "      <th></th>\n",
              "      <th>AGE</th>\n",
              "      <th>target</th>\n",
              "    </tr>\n",
              "  </thead>\n",
              "  <tbody>\n",
              "    <tr>\n",
              "      <th>0</th>\n",
              "      <td>(2.899, 45.025]</td>\n",
              "      <td>24.70</td>\n",
              "    </tr>\n",
              "    <tr>\n",
              "      <th>1</th>\n",
              "      <td>(45.025, 77.5]</td>\n",
              "      <td>22.45</td>\n",
              "    </tr>\n",
              "    <tr>\n",
              "      <th>2</th>\n",
              "      <td>(77.5, 94.075]</td>\n",
              "      <td>19.15</td>\n",
              "    </tr>\n",
              "    <tr>\n",
              "      <th>3</th>\n",
              "      <td>(94.075, 100.0]</td>\n",
              "      <td>15.00</td>\n",
              "    </tr>\n",
              "  </tbody>\n",
              "</table>\n",
              "</div>\n",
              "      <button class=\"colab-df-convert\" onclick=\"convertToInteractive('df-13de12fa-2557-442c-867b-0b8d35efa494')\"\n",
              "              title=\"Convert this dataframe to an interactive table.\"\n",
              "              style=\"display:none;\">\n",
              "        \n",
              "  <svg xmlns=\"http://www.w3.org/2000/svg\" height=\"24px\"viewBox=\"0 0 24 24\"\n",
              "       width=\"24px\">\n",
              "    <path d=\"M0 0h24v24H0V0z\" fill=\"none\"/>\n",
              "    <path d=\"M18.56 5.44l.94 2.06.94-2.06 2.06-.94-2.06-.94-.94-2.06-.94 2.06-2.06.94zm-11 1L8.5 8.5l.94-2.06 2.06-.94-2.06-.94L8.5 2.5l-.94 2.06-2.06.94zm10 10l.94 2.06.94-2.06 2.06-.94-2.06-.94-.94-2.06-.94 2.06-2.06.94z\"/><path d=\"M17.41 7.96l-1.37-1.37c-.4-.4-.92-.59-1.43-.59-.52 0-1.04.2-1.43.59L10.3 9.45l-7.72 7.72c-.78.78-.78 2.05 0 2.83L4 21.41c.39.39.9.59 1.41.59.51 0 1.02-.2 1.41-.59l7.78-7.78 2.81-2.81c.8-.78.8-2.07 0-2.86zM5.41 20L4 18.59l7.72-7.72 1.47 1.35L5.41 20z\"/>\n",
              "  </svg>\n",
              "      </button>\n",
              "      \n",
              "  <style>\n",
              "    .colab-df-container {\n",
              "      display:flex;\n",
              "      flex-wrap:wrap;\n",
              "      gap: 12px;\n",
              "    }\n",
              "\n",
              "    .colab-df-convert {\n",
              "      background-color: #E8F0FE;\n",
              "      border: none;\n",
              "      border-radius: 50%;\n",
              "      cursor: pointer;\n",
              "      display: none;\n",
              "      fill: #1967D2;\n",
              "      height: 32px;\n",
              "      padding: 0 0 0 0;\n",
              "      width: 32px;\n",
              "    }\n",
              "\n",
              "    .colab-df-convert:hover {\n",
              "      background-color: #E2EBFA;\n",
              "      box-shadow: 0px 1px 2px rgba(60, 64, 67, 0.3), 0px 1px 3px 1px rgba(60, 64, 67, 0.15);\n",
              "      fill: #174EA6;\n",
              "    }\n",
              "\n",
              "    [theme=dark] .colab-df-convert {\n",
              "      background-color: #3B4455;\n",
              "      fill: #D2E3FC;\n",
              "    }\n",
              "\n",
              "    [theme=dark] .colab-df-convert:hover {\n",
              "      background-color: #434B5C;\n",
              "      box-shadow: 0px 1px 3px 1px rgba(0, 0, 0, 0.15);\n",
              "      filter: drop-shadow(0px 1px 2px rgba(0, 0, 0, 0.3));\n",
              "      fill: #FFFFFF;\n",
              "    }\n",
              "  </style>\n",
              "\n",
              "      <script>\n",
              "        const buttonEl =\n",
              "          document.querySelector('#df-13de12fa-2557-442c-867b-0b8d35efa494 button.colab-df-convert');\n",
              "        buttonEl.style.display =\n",
              "          google.colab.kernel.accessAllowed ? 'block' : 'none';\n",
              "\n",
              "        async function convertToInteractive(key) {\n",
              "          const element = document.querySelector('#df-13de12fa-2557-442c-867b-0b8d35efa494');\n",
              "          const dataTable =\n",
              "            await google.colab.kernel.invokeFunction('convertToInteractive',\n",
              "                                                     [key], {});\n",
              "          if (!dataTable) return;\n",
              "\n",
              "          const docLinkHtml = 'Like what you see? Visit the ' +\n",
              "            '<a target=\"_blank\" href=https://colab.research.google.com/notebooks/data_table.ipynb>data table notebook</a>'\n",
              "            + ' to learn more about interactive tables.';\n",
              "          element.innerHTML = '';\n",
              "          dataTable['output_type'] = 'display_data';\n",
              "          await google.colab.output.renderOutput(dataTable, element);\n",
              "          const docLink = document.createElement('div');\n",
              "          docLink.innerHTML = docLinkHtml;\n",
              "          element.appendChild(docLink);\n",
              "        }\n",
              "      </script>\n",
              "    </div>\n",
              "  </div>\n",
              "  "
            ]
          },
          "metadata": {},
          "execution_count": 74
        }
      ]
    },
    {
      "cell_type": "code",
      "source": [
        "n={key:val for key,val in fitobj.values}\n",
        "n"
      ],
      "metadata": {
        "colab": {
          "base_uri": "https://localhost:8080/"
        },
        "id": "sPxeeeM0YAKU",
        "outputId": "002dd46b-14f0-4a17-f993-e9c6b207cac5"
      },
      "execution_count": 80,
      "outputs": [
        {
          "output_type": "execute_result",
          "data": {
            "text/plain": [
              "{Interval(2.899, 45.025, closed='right'): 24.7,\n",
              " Interval(45.025, 77.5, closed='right'): 22.45,\n",
              " Interval(77.5, 94.075, closed='right'): 19.15,\n",
              " Interval(94.075, 100.0, closed='right'): 15.0}"
            ]
          },
          "metadata": {},
          "execution_count": 80
        }
      ]
    },
    {
      "cell_type": "code",
      "source": [
        "yX_test.loc[:,\"AGE\"]"
      ],
      "metadata": {
        "colab": {
          "base_uri": "https://localhost:8080/"
        },
        "id": "rV24WwqaYTnO",
        "outputId": "074fbede-fb25-4550-eee7-28e063e965f7"
      },
      "execution_count": 78,
      "outputs": [
        {
          "output_type": "execute_result",
          "data": {
            "text/plain": [
              "494    (2.899, 45.025]\n",
              "146    (94.075, 100.0]\n",
              "179     (45.025, 77.5]\n",
              "20     (94.075, 100.0]\n",
              "201    (2.899, 45.025]\n",
              "            ...       \n",
              "482     (45.025, 77.5]\n",
              "103     (77.5, 94.075]\n",
              "478    (94.075, 100.0]\n",
              "153    (94.075, 100.0]\n",
              "298    (2.899, 45.025]\n",
              "Name: AGE, Length: 106, dtype: category\n",
              "Categories (4, interval[float64, right]): [(2.899, 45.025] < (45.025, 77.5] < (77.5, 94.075] <\n",
              "                                           (94.075, 100.0]]"
            ]
          },
          "metadata": {},
          "execution_count": 78
        }
      ]
    },
    {
      "cell_type": "code",
      "source": [
        "X_test.loc[:,\"AGE\"].map(n).astype(np.float32)"
      ],
      "metadata": {
        "colab": {
          "base_uri": "https://localhost:8080/"
        },
        "id": "_4C8-uEkYcqC",
        "outputId": "83e4d67f-7a25-42b3-81ac-7c7ae542bb95"
      },
      "execution_count": 81,
      "outputs": [
        {
          "output_type": "execute_result",
          "data": {
            "text/plain": [
              "494    24.700001\n",
              "146    15.000000\n",
              "179    22.450001\n",
              "20     15.000000\n",
              "201    24.700001\n",
              "         ...    \n",
              "482    22.450001\n",
              "103    19.150000\n",
              "478    15.000000\n",
              "153    15.000000\n",
              "298    24.700001\n",
              "Name: AGE, Length: 106, dtype: float32"
            ]
          },
          "metadata": {},
          "execution_count": 81
        }
      ]
    },
    {
      "cell_type": "code",
      "source": [
        "mg=MedianReg(\"AGE\")\n",
        "mg.fit(X_train,y_train)\n",
        "y_pred=mg.predict(X_test)\n",
        "y_pred"
      ],
      "metadata": {
        "colab": {
          "base_uri": "https://localhost:8080/"
        },
        "id": "kbMM22lsN7Ov",
        "outputId": "5a7a85d0-43f6-49f3-8ff1-eecd92c9211e"
      },
      "execution_count": 82,
      "outputs": [
        {
          "output_type": "stream",
          "name": "stdout",
          "text": [
            "               AGE  target\n",
            "0  (2.899, 45.025]   24.70\n",
            "1   (45.025, 77.5]   22.45\n",
            "2   (77.5, 94.075]   19.15\n",
            "3  (94.075, 100.0]   15.00\n"
          ]
        },
        {
          "output_type": "execute_result",
          "data": {
            "text/plain": [
              "494    24.700001\n",
              "146    15.000000\n",
              "179    22.450001\n",
              "20     15.000000\n",
              "201    24.700001\n",
              "         ...    \n",
              "482    22.450001\n",
              "103    19.150000\n",
              "478    15.000000\n",
              "153    15.000000\n",
              "298    24.700001\n",
              "Name: AGE, Length: 106, dtype: float32"
            ]
          },
          "metadata": {},
          "execution_count": 82
        }
      ]
    },
    {
      "cell_type": "code",
      "source": [
        "y_pred.describe()"
      ],
      "metadata": {
        "colab": {
          "base_uri": "https://localhost:8080/"
        },
        "id": "MpaYcyq3UtMp",
        "outputId": "3c06427f-0632-48ba-ca52-65f225ad1729"
      },
      "execution_count": 87,
      "outputs": [
        {
          "output_type": "execute_result",
          "data": {
            "text/plain": [
              "count    106.000000\n",
              "mean      19.666981\n",
              "std        3.783932\n",
              "min       15.000000\n",
              "25%       15.000000\n",
              "50%       19.150000\n",
              "75%       22.450001\n",
              "max       24.700001\n",
              "Name: AGE, dtype: float64"
            ]
          },
          "metadata": {},
          "execution_count": 87
        }
      ]
    },
    {
      "cell_type": "code",
      "source": [],
      "metadata": {
        "id": "J_nLm44PZvjx"
      },
      "execution_count": null,
      "outputs": []
    }
  ]
}