{
  "nbformat": 4,
  "nbformat_minor": 0,
  "metadata": {
    "colab": {
      "provenance": []
    },
    "kernelspec": {
      "name": "python3",
      "display_name": "Python 3"
    },
    "language_info": {
      "name": "python"
    }
  },
  "cells": [
    {
      "cell_type": "markdown",
      "source": [
        " Наверняка вы уже сталкивались с ситуацией, когда приходилось применить какую-то функцию сразу к нескольким элементам списка.\n",
        "\n",
        "Это очень распространённая ситуация при работе с наборами данных.\n",
        "\n",
        "Например, у вас есть список с изображениями, все эти изображения разных размеров. Однако чтобы подать ваши картинки, например, в нейронную сеть, их необходимо привести к единому размеру, то есть к каждой картинке из списка вам необходимо применить функцию для изменения её размера.\n",
        "\n",
        "Ранее мы проводили подобные операции с помощью цикла for: создавали цикл по элементам списка и в цикле применяли функцию к элементу.\n",
        "\n",
        "→ Оказывается, в Python можно, используя возможности итераторов, применять функции к элементам списка и без циклов. И это даёт нам сразу несколько преимуществ:\n",
        "\n",
        "Простота кода — код становится короче (вплоть до одной строки) и выглядит более лаконичным.\n",
        "Скорость — возможности, которые мы с вами рассмотрим, в большинстве случаев работают быстрее, чем использование функции в цикле."
      ],
      "metadata": {
        "id": "66vXIChzlPdT"
      }
    },
    {
      "cell_type": "markdown",
      "source": [
        " В этом юните вы научитесь:\n",
        "\n",
        "применять функцию к итерируемому объекту без цикла с помощью map;\n",
        "\n",
        "отбирать элементы из итерируемого объекта по условию с помощью filter;\n",
        "\n",
        "работать с несколькими итерируемыми объектами одновременно;\n",
        "\n",
        "расширять возможности использования функций с помощью дополнительных встроенных модулей."
      ],
      "metadata": {
        "id": "SkR8pr8-lUFz"
      }
    },
    {
      "cell_type": "markdown",
      "source": [
        "ФУНКЦИЯ MAP\n",
        "\n",
        "?\n",
        "Часто возникает вопрос: как применить одну и ту же функцию к каждому элементу итерируемого объекта?\n",
        "\n",
        "Представим, что у нас есть набор данных (пусть это будет список) об оценках нашей видеоигры десятками тысяч пользователей. Каждая оценка представлена отдельным элементом в списке масштабе от 0 до 10, а нам было бы удобнее видеть её в масштабе от 0 до 100 (такая операция называется масштабированием).\n",
        "\n",
        "Итак, у нас есть итерируемый объект — список, и нам необходимо совершить преобразование (масштабирование) с каждым его элементом.\n",
        "\n",
        "Решение такого типа задач вам уже известно — проход по элементам в цикле. Но существует более простой, лаконичный и, главное, быстрый способ, который мы и изучим в этом юните.\n",
        "\n",
        "Начнём, как и всегда, с примера.\n",
        "\n",
        "В задачах обработки естественного языка иногда имеет значение не только само слово, но и его длина.\n",
        "\n",
        "Перед нами стоит следующая небольшая задача: вычислить длину каждого слова из нашего набора данных, чтобы в дальнейшем использовать эту информацию для анализа текста.\n",
        "\n",
        "Пусть нам дан список names с именами. Давайте составим новый список длин имён lens_list из списка names. Самое простое решение — воспользоваться циклом."
      ],
      "metadata": {
        "id": "zdDFaTL8lYcz"
      }
    },
    {
      "cell_type": "code",
      "execution_count": 1,
      "metadata": {
        "colab": {
          "base_uri": "https://localhost:8080/"
        },
        "id": "IcAYTLvAlExd",
        "outputId": "812d1612-27ff-4a2e-f214-3f684ad641a2"
      },
      "outputs": [
        {
          "output_type": "stream",
          "name": "stdout",
          "text": [
            "[4, 6, 5, 9, 8, 3]\n"
          ]
        }
      ],
      "source": [
        "names = ['Ivan', 'Nikita', 'Simon', 'Margarita', 'Vasilisa', 'Kim']\n",
        "\n",
        "# Создаём пустой список, куда будем заносить результаты\n",
        "lens_list = []\n",
        "# Создаём цикл по элементам списка names\n",
        "for name in names:\n",
        "    # Вычисляем длину текущего слова\n",
        "    length = len(name)\n",
        "    # Добавляем вычисленную длину слова в список\n",
        "    lens_list.append(length)\n",
        " \n",
        "print(lens_list)"
      ]
    },
    {
      "cell_type": "markdown",
      "source": [
        "Напишем функцию get_length, которая возвращает длину переданного в неё слова:"
      ],
      "metadata": {
        "id": "da8A4UhWlh34"
      }
    },
    {
      "cell_type": "code",
      "source": [
        "# Объявляем функцию для вычисления длины\n",
        "def get_length(word):\n",
        "    return len(word)"
      ],
      "metadata": {
        "id": "RW-yr9pMlbUp"
      },
      "execution_count": 2,
      "outputs": []
    },
    {
      "cell_type": "markdown",
      "source": [
        "Теперь применим эту функцию к списку names с помощью специальной встроенной в Python функции map(). Она позволяет преобразовать каждый элемент итерируемого объекта по заданной функции.\n",
        "\n",
        "Аргументы функции map():\n",
        "\n",
        "Функция, которую необходимо применить к каждому элементу.\n",
        "Итерируемый объект (например, список).\n",
        " Функция map() возвращает объект типа map."
      ],
      "metadata": {
        "id": "k4PV4oxjlm3C"
      }
    },
    {
      "cell_type": "code",
      "source": [
        "# Объявляем функцию для вычисления длины\n",
        "def get_length(word):\n",
        "    return len(word)\n",
        "# Применяем функцию get_length к каждому элементу списка\n",
        "lens = map(get_length, names)\n",
        "# Проверим, что переменная lens — это объект типа map:\n",
        "# Для этого воспользуемся функцией isinstance\n",
        "print(isinstance(lens, map))\n",
        "# Будет напечатано:\n",
        "# True"
      ],
      "metadata": {
        "colab": {
          "base_uri": "https://localhost:8080/"
        },
        "id": "_YJXgmjTlk__",
        "outputId": "76f16f37-c6ff-4353-84bb-50d7bd20674f"
      },
      "execution_count": 3,
      "outputs": [
        {
          "output_type": "stream",
          "name": "stdout",
          "text": [
            "True\n"
          ]
        }
      ]
    },
    {
      "cell_type": "code",
      "source": [
        "lens"
      ],
      "metadata": {
        "colab": {
          "base_uri": "https://localhost:8080/"
        },
        "id": "dD21p4yllpLG",
        "outputId": "16ccf1fc-c00e-4058-d222-387820e60121"
      },
      "execution_count": 4,
      "outputs": [
        {
          "output_type": "execute_result",
          "data": {
            "text/plain": [
              "<map at 0x7f5298730c70>"
            ]
          },
          "metadata": {},
          "execution_count": 4
        }
      ]
    },
    {
      "cell_type": "code",
      "source": [
        "list(map(get_length, names))"
      ],
      "metadata": {
        "colab": {
          "base_uri": "https://localhost:8080/"
        },
        "id": "h-VvO683lwOn",
        "outputId": "491b4f28-7704-4e55-a084-bb3d505895f2"
      },
      "execution_count": 5,
      "outputs": [
        {
          "output_type": "execute_result",
          "data": {
            "text/plain": [
              "[4, 6, 5, 9, 8, 3]"
            ]
          },
          "metadata": {},
          "execution_count": 5
        }
      ]
    },
    {
      "cell_type": "markdown",
      "source": [
        "![image.png](data:image/png;base64,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)"
      ],
      "metadata": {
        "id": "nnp8Wv5gl-eY"
      }
    },
    {
      "cell_type": "markdown",
      "source": [
        "Кроме того, объекты итератора можно сразу занести в список, обернув результат работы функции map() в функцию list():"
      ],
      "metadata": {
        "id": "xeD_uf9mmFxh"
      }
    },
    {
      "cell_type": "code",
      "source": [
        "# Оборачиваем содержимое итератора map в список\n",
        "lens_list = list(map(get_length, names))\n",
        "print(lens_list)\n",
        "# Будет напечатано:"
      ],
      "metadata": {
        "colab": {
          "base_uri": "https://localhost:8080/"
        },
        "id": "xUIgiJPRl32r",
        "outputId": "a1cd4f26-427f-4811-e308-325c125031e0"
      },
      "execution_count": 6,
      "outputs": [
        {
          "output_type": "stream",
          "name": "stdout",
          "text": [
            "[4, 6, 5, 9, 8, 3]\n"
          ]
        }
      ]
    },
    {
      "cell_type": "markdown",
      "source": [
        "→ Вероятно, вы обратили внимание, что функция get_length является очень простой и короткой: она в одну строку выполняет действие и возвращает значение."
      ],
      "metadata": {
        "id": "dvKs5YSZmJrA"
      }
    },
    {
      "cell_type": "code",
      "source": [
        "lens = list(map(lambda x: len(x), names))\n",
        "print(lens)\n",
        "# Будет напечатано:\n"
      ],
      "metadata": {
        "colab": {
          "base_uri": "https://localhost:8080/"
        },
        "id": "xA_6sdmBmHsy",
        "outputId": "1b8e2966-a655-4f10-eda3-31bb2a1f0707"
      },
      "execution_count": 7,
      "outputs": [
        {
          "output_type": "stream",
          "name": "stdout",
          "text": [
            "[4, 6, 5, 9, 8, 3]\n"
          ]
        }
      ]
    },
    {
      "cell_type": "markdown",
      "source": [
        "Итак, вы увидели, что использование map() вместо цикла сокращает написание кода вплоть до одной строки. В то же время map() может выполняться даже немного быстрее обычных циклов.\n",
        "\n",
        "В общем случае map() может быть использована в тех случаях, когда у вас есть набор данных (в виде итерируемого объекта) и вам необходимо совершить над каждым его элементом определённое действие: масштабировать картинку, выделить из каждого предложения главное слово, записать объект в отдельный файл и т. д. \n",
        "\n",
        "Тогда вы можете выделить ваше действие в отдельную функцию и применить её к каждому элементу из набора данных, используя map()."
      ],
      "metadata": {
        "id": "jvr2jUXHmQfp"
      }
    },
    {
      "cell_type": "markdown",
      "source": [
        "Представьте, что пытаетесь выгрузить несколько новостей с сайта. У вас есть список путей до интересующих вас статей. Пример такого списка:\n",
        "\n",
        "docs = [\n",
        "    '//doc/5041434?query=data%20science',\n",
        "\n",
        "    '//doc/5041567?query=data%20science',\n",
        "    '//doc/4283670?query=data%20science',\n",
        "    '//doc/3712659?query=data%20science',\n",
        "    '//doc/4997267?query=data%20science',\n",
        "    '//doc/4372673?query=data%20science',\n",
        "    '//doc/3779060?query=data%20science',\n",
        "    '//doc/3495410?query=data%20science',\n",
        "    '//doc/4308832?query=data%20science',\n",
        "    '//doc/4079881?query=data%20science'\n",
        "]\n",
        "Как вы видите, представленные ссылки на статьи неполные — в них не хватает адреса самого сайта.\n",
        "\n",
        "Ваша задача — составить новый список links, в котором будут храниться полные ссылки до статей на сайте Коммерсант. Например, полная ссылка до первой статьи будет иметь вид:\n",
        "\n",
        "https://www.kommersant.ru//doc/5041434?query=data%20science\n",
        "\n",
        "Для решения задачи используйте функцию map(). К каждому элементу списка docs примените функцию-преобразование, которая добавляет к ссылке на начальную страницу сайта путь до статьи из списка docs.\n",
        "\n",
        "Результат работы функции map() оберните в список и занесите в переменную links."
      ],
      "metadata": {
        "id": "2vQVujpRmVII"
      }
    },
    {
      "cell_type": "code",
      "source": [
        "main_link = 'https://www.kommersant.ru'\n",
        "docs = [\n",
        "    '//doc/5041434?query=data%20science',\n",
        "    '//doc/5041567?query=data%20science',\n",
        "    '//doc/4283670?query=data%20science',\n",
        "    '//doc/3712659?query=data%20science',\n",
        "    '//doc/4997267?query=data%20science',\n",
        "    '//doc/4372673?query=data%20science',\n",
        "    '//doc/3779060?query=data%20science',\n",
        "    '//doc/3495410?query=data%20science',\n",
        "    '//doc/4308832?query=data%20science',\n",
        "    '//doc/4079881?query=data%20science'\n",
        "]\n",
        "\n",
        "def get_link(doc):\n",
        "  s=main_link+doc\n",
        "  return s\n",
        "#ваш код здесь\n",
        "\n",
        "links = list(map(get_link,docs))"
      ],
      "metadata": {
        "id": "NBidX9QemOPz"
      },
      "execution_count": 8,
      "outputs": []
    },
    {
      "cell_type": "code",
      "source": [
        "links"
      ],
      "metadata": {
        "colab": {
          "base_uri": "https://localhost:8080/"
        },
        "id": "jQpqNLgOnE_y",
        "outputId": "1d5a4170-f8c7-48ab-f7bd-7433ccec49a5"
      },
      "execution_count": 9,
      "outputs": [
        {
          "output_type": "execute_result",
          "data": {
            "text/plain": [
              "['https://www.kommersant.ru//doc/5041434?query=data%20science',\n",
              " 'https://www.kommersant.ru//doc/5041567?query=data%20science',\n",
              " 'https://www.kommersant.ru//doc/4283670?query=data%20science',\n",
              " 'https://www.kommersant.ru//doc/3712659?query=data%20science',\n",
              " 'https://www.kommersant.ru//doc/4997267?query=data%20science',\n",
              " 'https://www.kommersant.ru//doc/4372673?query=data%20science',\n",
              " 'https://www.kommersant.ru//doc/3779060?query=data%20science',\n",
              " 'https://www.kommersant.ru//doc/3495410?query=data%20science',\n",
              " 'https://www.kommersant.ru//doc/4308832?query=data%20science',\n",
              " 'https://www.kommersant.ru//doc/4079881?query=data%20science']"
            ]
          },
          "metadata": {},
          "execution_count": 9
        }
      ]
    },
    {
      "cell_type": "markdown",
      "source": [
        "ФУНКЦИЯ FILTER\n",
        "\n",
        "→ Часто требуется отобрать из итератора элементы, удовлетворяющие определённому условию.\n",
        "\n",
        "Например, из списка оценок нашей видеоигры от пользователей необходимо выделить только те оценки, которые выше 70 баллов. Такая операция называется фильтрацией — мы отсекаем данные, которые не проходят фильтр. \n",
        "\n",
        "Мы уже решали подобные задачи с помощью цикла и условного оператора, но теперь мы расширим наши возможности с помощью специальных функций.\n",
        "\n",
        "Ранее с помощью функции map() мы получили список длин имён lens_list = [4, 6, 5, 9, 8, 3]. Теперь давайте создадим новый список even_list, в котором будут содержаться только чётные числа из списка lens_list.\n",
        "\n",
        "Для начала решим нашу задачу с помощью цикла:"
      ],
      "metadata": {
        "id": "AFNJnX-UnX3S"
      }
    },
    {
      "cell_type": "code",
      "source": [
        "lens_list = [4, 6, 5, 9, 8, 3]\n",
        "even_list = []\n",
        "# Создаём цикл по элементам списка\n",
        "for item in lens_list:\n",
        "    # Проверяем условие, что текущий элемент списка чётный\n",
        "    if item % 2 == 0: # Если условие выполняется,\n",
        "        # добавляем элемент в новый список\n",
        "        even_list .append(item)\n",
        "print(even_list)\n",
        "# Будет напечатано:"
      ],
      "metadata": {
        "colab": {
          "base_uri": "https://localhost:8080/"
        },
        "id": "WUDDkBHYnGHC",
        "outputId": "a38e1311-0c7a-4945-b8cd-3b7a970f34f9"
      },
      "execution_count": 10,
      "outputs": [
        {
          "output_type": "stream",
          "name": "stdout",
          "text": [
            "[4, 6, 8]\n"
          ]
        }
      ]
    },
    {
      "cell_type": "markdown",
      "source": [
        "Однако эту задачу можно решить с помощью специальной встроенной в Python функции filter(). Она позволит отфильтровать переданный ей итерируемый объект и оставить в нём только те элементы, которые удовлетворяют условию.\n",
        "\n",
        "Её использование аналогично применению функции map().\n",
        "\n",
        "Аргументы функции filter():\n",
        "\n",
        "Функция, которая должна возвращать True, если условие выполнено, иначе возвращается False.\n",
        "\n",
        "Итератор, с которым производится действие.\n",
        "\n",
        "Функция filter() возвращает объект типа filter."
      ],
      "metadata": {
        "id": "aWmgKxNfncmQ"
      }
    },
    {
      "cell_type": "markdown",
      "source": [
        "Напишем функцию, которая возвращает True, если число делится на 2 без остатка, то есть является чётным. В противном случае функция возвращает False:"
      ],
      "metadata": {
        "id": "B3b7En10nhZg"
      }
    },
    {
      "cell_type": "code",
      "source": [
        "# Объявляем функцию для проверки чётности числа\n",
        "def is_even(num):\n",
        "    if num % 2 == 0:\n",
        "        return True\n",
        "    return False"
      ],
      "metadata": {
        "id": "Z8qwsT_dnaHL"
      },
      "execution_count": 11,
      "outputs": []
    },
    {
      "cell_type": "code",
      "source": [
        " #Объявляем функцию для проверки чётности числа\n",
        "def is_even(num):\n",
        "    if num % 2 == 0:\n",
        "        return True\n",
        "    return False\n",
        "\n",
        "\n",
        "lens_list = [4, 6, 5, 9, 8, 3]\n",
        "# Применяем функцию is_even к каждому элементу списка\n",
        "even = filter(is_even, lens_list)\n",
        "# Убедимся, что even — объект типа filter\n",
        "print(isinstance(even, filter))"
      ],
      "metadata": {
        "colab": {
          "base_uri": "https://localhost:8080/"
        },
        "id": "oJQgENxMnjdq",
        "outputId": "d8044d65-a55f-4c71-c827-9d9a004eedc8"
      },
      "execution_count": 47,
      "outputs": [
        {
          "output_type": "stream",
          "name": "stdout",
          "text": [
            "True\n"
          ]
        }
      ]
    },
    {
      "cell_type": "code",
      "source": [
        "list(even)"
      ],
      "metadata": {
        "colab": {
          "base_uri": "https://localhost:8080/"
        },
        "id": "Hf9ynBqQr5bg",
        "outputId": "e24a2c6d-9962-415f-d465-7c3173e175be"
      },
      "execution_count": 48,
      "outputs": [
        {
          "output_type": "execute_result",
          "data": {
            "text/plain": [
              "[4, 6, 8]"
            ]
          },
          "metadata": {},
          "execution_count": 48
        }
      ]
    },
    {
      "cell_type": "markdown",
      "source": [
        "![image.png](data:image/png;base64,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)"
      ],
      "metadata": {
        "id": "8Xvgq5e6nye7"
      }
    },
    {
      "cell_type": "markdown",
      "source": [
        "Объект filter также является итератором. Сохраним все элементы из него в список и напечатаем этот список:"
      ],
      "metadata": {
        "id": "SF7m3RGUoJMo"
      }
    },
    {
      "cell_type": "code",
      "source": [
        "print(list(even))"
      ],
      "metadata": {
        "colab": {
          "base_uri": "https://localhost:8080/"
        },
        "id": "gy-3nxhiny7y",
        "outputId": "f922b808-fa7f-4b4b-f944-078d9bd7d0de"
      },
      "execution_count": 14,
      "outputs": [
        {
          "output_type": "stream",
          "name": "stdout",
          "text": [
            "[4, 6, 8]\n"
          ]
        }
      ]
    },
    {
      "cell_type": "markdown",
      "source": [
        "Функция is_even() тоже устроена довольно просто. Мы могли создать её и с помощью lambda-выражения при вызове filter(). Выражение x % 2 == 0 также возвращает True или False в зависимости от того, является ли число чётным."
      ],
      "metadata": {
        "id": "pDD5ExIVoNG0"
      }
    },
    {
      "cell_type": "code",
      "source": [
        "lens_list = [4, 6, 5, 9, 8, 3] \n",
        "# Применяем lambda-функцию к каждому элементу списка\n",
        "even = filter(lambda x: x % 2 == 0, lens_list)\n",
        "print(list(even))"
      ],
      "metadata": {
        "colab": {
          "base_uri": "https://localhost:8080/"
        },
        "id": "wQ46ZQZqoLHH",
        "outputId": "8baa6fc8-ffab-4f3f-95a3-a007588d2166"
      },
      "execution_count": 15,
      "outputs": [
        {
          "output_type": "stream",
          "name": "stdout",
          "text": [
            "[4, 6, 8]\n"
          ]
        }
      ]
    },
    {
      "cell_type": "markdown",
      "source": [
        "Таким образом, мы смогли в одну строку отобрать только те числа, которые делятся на 2. Для этого мы воспользовались функцией filter(), внутри которой создали временную lambda-функцию. Такой механизм называется созданием функций «налету».\n",
        "\n",
        "В общем случае функция filter() может быть использована в тех случаях, когда у вас есть набор данных (в виде итерируемого объекта) и вам необходимо отбросить элементы, которые не проходят по условию (оценка меньше 70 баллов, нечётные числа, «битые» картинки или другие файлы).\n",
        "\n",
        "Тогда вы можете создать отдельную функцию, которая будет возвращать True или False в зависимости от условия. Применив эту функцию к данным с помощью filter(), вы оставите в своих данных только те элементы, для которых функция вернула True."
      ],
      "metadata": {
        "id": "TEhgTxbBoUqy"
      }
    },
    {
      "cell_type": "markdown",
      "source": [
        "Вы — сотрудник отдела разработки в МФЦ. МФЦ предоставляет некоторый спектр услуг многодетным семьям. Необходимо написать функционал, который позволяет отфильтровать среди всех запрашиваемых пользователем услуг (их количество произвольное) только те, которые предоставляются многодетным семьям.\n",
        "\n",
        "Список услуг, предоставляемых многодетным семьям:\n",
        "\n",
        "family_list = [\n",
        "    \n",
        "    'certificate of a large family',\n",
        "    'social card',\n",
        "    'maternity capital',\n",
        "    'parking permit',\n",
        "    'tax benefit',\n",
        "    'reimbursement of expenses',\n",
        "    \"compensation for the purchase of children's goods\"\n",
        "    ]\n",
        "Определите функцию family(), на вход которой подаётся произвольное количество аргументов (строки с названием услуг МФЦ), а в результате возвращается список услуг, которые могут быть оказаны только многодетной семье.\n",
        "\n",
        "Для фильтрации входного списка аргументов используйте функцию filter()."
      ],
      "metadata": {
        "id": "UBeVDII8oYZN"
      }
    },
    {
      "cell_type": "markdown",
      "source": [
        "Пример работы функции:\n",
        "\n",
        "print(family('newborn registration', 'parking permit', 'maternity capital', 'tax benefit', 'medical policy'))\n",
        "\n",
        "Должно быть выведено:\n",
        "['parking permit', 'maternity capital', 'tax benefit']"
      ],
      "metadata": {
        "id": "CNZmtdVGofO4"
      }
    },
    {
      "cell_type": "code",
      "source": [
        "family_list = [\n",
        "    'certificate of a large family',\n",
        "    'social card',\n",
        "    'maternity capital',\n",
        "    'parking permit',\n",
        "    'tax benefit',\n",
        "    'reimbursement of expenses',\n",
        "    \"compensation for the purchase of children's goods\"\n",
        "    ]\n",
        "def family(elem):\n",
        "\n",
        "  if elem  in  family_list:\n",
        "    return True\n",
        "  return False \n",
        "\n",
        "list_=['newborn registration','parking permit','maternity capital','tax benefit','medical policy']  \n",
        "\n",
        "even = filter(family, list_)\n",
        "print(list(even))\n",
        "\n"
      ],
      "metadata": {
        "colab": {
          "base_uri": "https://localhost:8080/"
        },
        "id": "sKWrfnwDoVBv",
        "outputId": "f7b42b7e-67ce-4005-df01-78daa5cf5fe2"
      },
      "execution_count": 51,
      "outputs": [
        {
          "output_type": "stream",
          "name": "stdout",
          "text": [
            "['parking permit', 'maternity capital', 'tax benefit']\n"
          ]
        }
      ]
    },
    {
      "cell_type": "code",
      "source": [
        "family_list = [\n",
        "    'certificate of a large family',\n",
        "    'social card',\n",
        "    'maternity capital',\n",
        "    'parking permit',\n",
        "    'tax benefit',\n",
        "    'reimbursement of expenses',\n",
        "    \"compensation for the purchase of children's goods\"\n",
        "    ]\n",
        "def family(*arg):\n",
        "    def list_(elem):\n",
        "       if elem in family_list:\n",
        "         return True\n",
        "       return False \n",
        "    list_ = list(filter(list_, arg))\n",
        "    return list_\n",
        "\n",
        "\n",
        "\n",
        "#вызов функции\n",
        "print(family(\n",
        "    'newborn registration',\n",
        "    'parking permit',\n",
        "    'maternity capital',\n",
        "    'tax benefit',\n",
        "    'medical policy'\n",
        "    )\n",
        ")\n"
      ],
      "metadata": {
        "colab": {
          "base_uri": "https://localhost:8080/"
        },
        "id": "OAZZBVamu1aq",
        "outputId": "c548efc1-c2ae-4746-df29-c1af42ba8633"
      },
      "execution_count": 4,
      "outputs": [
        {
          "output_type": "stream",
          "name": "stdout",
          "text": [
            "['parking permit', 'maternity capital', 'tax benefit']\n"
          ]
        }
      ]
    },
    {
      "cell_type": "code",
      "source": [
        "def family(*args):\n",
        "    for arg in args:\n",
        "      if arg in family_list:\n",
        "        print(True)\n",
        "      print(False) \n",
        "  \n",
        "\n",
        "#вызов функции\n",
        "family(\n",
        "    'newborn registration',\n",
        "    'parking permit',\n",
        "    'maternity capital',\n",
        "    'tax benefit',\n",
        "    'medical policy'\n",
        "    )\n"
      ],
      "metadata": {
        "colab": {
          "base_uri": "https://localhost:8080/"
        },
        "id": "J8QpeuDT6cNL",
        "outputId": "eb046705-f651-4f30-fe70-db733cd85ead"
      },
      "execution_count": 74,
      "outputs": [
        {
          "output_type": "stream",
          "name": "stdout",
          "text": [
            "False\n",
            "True\n",
            "False\n",
            "True\n",
            "False\n",
            "True\n",
            "False\n",
            "False\n"
          ]
        }
      ]
    },
    {
      "cell_type": "code",
      "source": [
        "print('parking permit' in family_list)"
      ],
      "metadata": {
        "colab": {
          "base_uri": "https://localhost:8080/"
        },
        "id": "6111ftRJqOKG",
        "outputId": "03ee8ac3-9d21-4174-f0f5-6ad2f111a096"
      },
      "execution_count": 30,
      "outputs": [
        {
          "output_type": "stream",
          "name": "stdout",
          "text": [
            "True\n"
          ]
        }
      ]
    },
    {
      "cell_type": "markdown",
      "source": [
        "КОНВЕЙЕРЫ ИЗ MAP И FILTER\n",
        "\n",
        "→ Иногда возникает задача выполнить сразу несколько действий с объектами из итератора. Например, вы хотите масштабировать данные об оценках вашей видеоигры пользователями, а затем отфильтровать оценки. Такие преобразования называются конвейерными.\n",
        "\n",
        "Для этого необязательно каждый раз после применения map() или filter() получать список элементов. Объекты map и filter, как и любые другие итераторы, можно подставлять в эти же функции map() и filter(). \n",
        "\n",
        "Давайте вернёмся к нашей задаче об именах. Нам задан список имён names:"
      ],
      "metadata": {
        "id": "S4gb9ZSUai8w"
      }
    },
    {
      "cell_type": "code",
      "source": [
        "names = ['Ivan', 'Nikita', 'Simon', 'Margarita', 'Vasilisa', 'Kim']"
      ],
      "metadata": {
        "id": "Mif4TVYBtw2r"
      },
      "execution_count": 5,
      "outputs": []
    },
    {
      "cell_type": "markdown",
      "source": [
        "Допустим, вначале мы хотим отобрать только те имена, которые состоят из пяти и более букв, а затем посчитать, сколько раз в таких словах встречается буква А. \n",
        "\n",
        "Отфильтруем наш список по условию len(x) >= 5 с помощью функции filter(). \n",
        "\n",
        "Напишем функцию, которая приводит имя к верхнему регистру с помощью метода строки upper(), а затем методом строки count() вычисляет количество символов 'A'. Функция возвращает кортеж (имя, число букв 'A'). Нашу функцию-преобразование применим к отфильтрованным данным с помощью map().\n",
        "\n",
        "Конечный результат обернём в список с помощью функции list().\n",
        "Наш конвейер, состоящий из filter() и map(), будет иметь вид:"
      ],
      "metadata": {
        "id": "DP9fYGkEaoEe"
      }
    },
    {
      "cell_type": "code",
      "source": [
        "# Отбираем имена из пяти и более букв\n",
        "long_names = filter(lambda x: len(x) >= 5, names)\n",
        "# Все отобранные имена переводим в верхний регистр и считаем число букв А в них\n",
        "# Результат сохраняем в виде кортежа (имя, число букв \"A\")\n",
        "count_a = map(lambda x: (x, x.upper().count('A')), long_names)\n",
        "# Переводим объект map в list и печатаем его\n",
        "print(list(count_a))\n",
        " \n",
        "# Будет напечатано:\n",
        "# [('Nikita', 1), ('Simon', 0), ('Margarita', 3), ('Vasilisa', 2)]"
      ],
      "metadata": {
        "colab": {
          "base_uri": "https://localhost:8080/"
        },
        "id": "4xcS4PmMalvf",
        "outputId": "385f0009-4a5a-403d-a9e2-b58218b107e6"
      },
      "execution_count": 6,
      "outputs": [
        {
          "output_type": "stream",
          "name": "stdout",
          "text": [
            "[('Nikita', 1), ('Simon', 0), ('Margarita', 3), ('Vasilisa', 2)]\n"
          ]
        }
      ]
    },
    {
      "cell_type": "code",
      "source": [
        "list(filter(lambda x: len(x) >= 5, names))"
      ],
      "metadata": {
        "colab": {
          "base_uri": "https://localhost:8080/"
        },
        "id": "9R7f9HJwa1r5",
        "outputId": "be9ffd3f-af01-46a2-8a67-d5c2107572f2"
      },
      "execution_count": 9,
      "outputs": [
        {
          "output_type": "execute_result",
          "data": {
            "text/plain": [
              "['Nikita', 'Simon', 'Margarita', 'Vasilisa']"
            ]
          },
          "metadata": {},
          "execution_count": 9
        }
      ]
    },
    {
      "cell_type": "markdown",
      "source": [
        "Выгодное отличие использования конвейеров без создания списков от итераторов заключается в повышении быстродействия скрипта. Вы не тратите время на распаковку содержимого итератора в список, и это существенно повышает производительность.\n",
        "\n",
        "Те же самые действия мы могли выполнить и с помощью цикла, в котором пустой список заполняется кортежами из двух элементов:"
      ],
      "metadata": {
        "id": "STtRtT6zbSex"
      }
    },
    {
      "cell_type": "code",
      "source": [
        "names = ['Ivan', 'Nikita', 'Simon', 'Margarita', 'Vasilisa', 'Kim']\n",
        "# Создаём пустой список, в который будем добавлять результаты\n",
        "count_a = list()\n",
        "# Создаём цикл по элементам списка names\n",
        "for name in names:\n",
        "    # Проверяем условие, что длина имени больше либо равна 5\n",
        "    if len(name) >= 5:\n",
        "        # Добавляем в итоговый список кортеж (имя, число букв \"A\")\n",
        "        count_a.append((name, name.upper().count('A')))\n",
        "print(count_a)"
      ],
      "metadata": {
        "colab": {
          "base_uri": "https://localhost:8080/"
        },
        "id": "YQrxMH4Za4PT",
        "outputId": "9455b836-0470-4792-f48f-58e55873c25e"
      },
      "execution_count": 10,
      "outputs": [
        {
          "output_type": "stream",
          "name": "stdout",
          "text": [
            "[('Nikita', 1), ('Simon', 0), ('Margarita', 3), ('Vasilisa', 2)]\n"
          ]
        }
      ]
    },
    {
      "cell_type": "markdown",
      "source": [
        "Мы вновь занимаемся регистрацией пользователей. В нашем распоряжении имеется список кортежей reg. В каждом кортеже хранится информация о зарегистрированном пользователе и его дате рождения в формате (Фамилия, Имя, день, месяц, год):\n",
        "\n",
        "reg = [('Ivanov', 'Sergej', 24, 9, 1995),\n",
        "\n",
        "      ('Smith', 'John', 13, 2, 2003),\n",
        "\n",
        "      ('Petrova', 'Maria', 13, 3, 2003)]\n",
        "\n",
        "Выберите из списка reg только те записи, в которых год рождения пользователя 2000 и больше (2001, 2002 и т. д.). Из оставшихся записей составьте новый список кортежей, в котором фамилия и имя объединены в одну строку по следующему шаблону Фамилия И. (обратите внимание на точку после сокращения имени).\n",
        "\n",
        "Например, для представленного списка reg результирующий список кортежей new_reg должен иметь вид:\n",
        "\n",
        "new_reg = [('Smith J.', 13, 2, 2003), ('Petrova M.', 13, 3, 2003)]\n",
        "\n",
        "Для решения задачи используйте конвейер из filter()и map().\n",
        "\n",
        "Примечание. Обратите внимание, что нам дана двумерная структура, то есть функции фильтрации и преобразования, указываемые в аргументах в filter() и map(), принимают на вход один кортеж и должны обрабатывать его.\n",
        "\n",
        "В результате работы вашей программы должен быть создан обновлённый список кортежей с именем переменной new_reg."
      ],
      "metadata": {
        "id": "JBwmRjoqbhJP"
      }
    },
    {
      "cell_type": "code",
      "source": [
        "reg = [('Ivanov', 'Sergej', 24, 9, 1995),\n",
        "      ('Smith', 'John', 13, 2, 2003),\n",
        "      ('Petrova', 'Maria', 13, 3, 2003)]"
      ],
      "metadata": {
        "id": "oQfN52vCcACk"
      },
      "execution_count": 11,
      "outputs": []
    },
    {
      "cell_type": "code",
      "source": [
        "reg[-1][-1]"
      ],
      "metadata": {
        "colab": {
          "base_uri": "https://localhost:8080/"
        },
        "id": "weKlEgE1cVoD",
        "outputId": "56b80b7d-f815-4735-9a89-2e9e4a371181"
      },
      "execution_count": 15,
      "outputs": [
        {
          "output_type": "execute_result",
          "data": {
            "text/plain": [
              "2003"
            ]
          },
          "metadata": {},
          "execution_count": 15
        }
      ]
    },
    {
      "cell_type": "code",
      "source": [
        "list(filter(lambda x: reg[-1][-1] 2000, reg))"
      ],
      "metadata": {
        "colab": {
          "base_uri": "https://localhost:8080/"
        },
        "id": "4Xrms8N2cNht",
        "outputId": "753830df-f019-4bdb-8514-b6e65bf02fd9"
      },
      "execution_count": 17,
      "outputs": [
        {
          "output_type": "execute_result",
          "data": {
            "text/plain": [
              "[]"
            ]
          },
          "metadata": {},
          "execution_count": 17
        }
      ]
    },
    {
      "cell_type": "code",
      "source": [
        "def filt(elem):\n",
        "   if 2000 < elem[-1]:\n",
        "         return True\n",
        "   return False \n",
        "list_ = list(filter(filt,reg))\n",
        "list_\n",
        "\n"
      ],
      "metadata": {
        "colab": {
          "base_uri": "https://localhost:8080/"
        },
        "id": "BjmAYV2Rcka5",
        "outputId": "55c8b481-7e7d-47a0-aec8-49182ebd05a5"
      },
      "execution_count": 22,
      "outputs": [
        {
          "output_type": "execute_result",
          "data": {
            "text/plain": [
              "[('Smith', 'John', 13, 2, 2003), ('Petrova', 'Maria', 13, 3, 2003)]"
            ]
          },
          "metadata": {},
          "execution_count": 22
        }
      ]
    },
    {
      "cell_type": "code",
      "source": [
        "type(reg[-1]),reg[-1]"
      ],
      "metadata": {
        "colab": {
          "base_uri": "https://localhost:8080/"
        },
        "id": "q4nqlX0mhmCI",
        "outputId": "2127a586-90ca-431f-d515-fbd28a023683"
      },
      "execution_count": 31,
      "outputs": [
        {
          "output_type": "execute_result",
          "data": {
            "text/plain": [
              "(tuple, ('Petrova', 'Maria', 13, 3, 2003))"
            ]
          },
          "metadata": {},
          "execution_count": 31
        }
      ]
    },
    {
      "cell_type": "code",
      "source": [
        "reg[-1][0][0]+\".\"+reg[-1][1]"
      ],
      "metadata": {
        "colab": {
          "base_uri": "https://localhost:8080/",
          "height": 35
        },
        "id": "GZgmu8YxiDXY",
        "outputId": "c59b282b-9df0-4e74-aa76-7c6151e77366"
      },
      "execution_count": 45,
      "outputs": [
        {
          "output_type": "execute_result",
          "data": {
            "text/plain": [
              "'P.Maria'"
            ],
            "application/vnd.google.colaboratory.intrinsic+json": {
              "type": "string"
            }
          },
          "metadata": {},
          "execution_count": 45
        }
      ]
    },
    {
      "cell_type": "code",
      "source": [
        "new_reg=list(filter(filt,reg))\n",
        "\n",
        "def new_reg_(tuple):\n",
        "   new=[]\n",
        "   new.append(tuple[0][0]+\".\"+tuple[1])\n",
        "   new.append(tuple[2])\n",
        "   new.append(tuple[3])\n",
        "   new.append(tuple[4])\n",
        "   return new\n",
        "\n",
        "new_reg = map(lambda x: new_reg_(x), new_reg)\n",
        "# Переводим объект map в list и печатаем его\n",
        "print(list(new_reg))"
      ],
      "metadata": {
        "colab": {
          "base_uri": "https://localhost:8080/"
        },
        "id": "-UN8Fb1vbhr4",
        "outputId": "c93b316e-1dd4-4897-a05c-23d242883549"
      },
      "execution_count": 54,
      "outputs": [
        {
          "output_type": "stream",
          "name": "stdout",
          "text": [
            "[['S.John', 13, 2, 2003], ['P.Maria', 13, 3, 2003]]\n"
          ]
        }
      ]
    },
    {
      "cell_type": "code",
      "source": [
        "new_=tuple()"
      ],
      "metadata": {
        "id": "FfnINmglk7tf"
      },
      "execution_count": 76,
      "outputs": []
    },
    {
      "cell_type": "code",
      "source": [
        "new_=(*new_, 'd')"
      ],
      "metadata": {
        "id": "0q4Zgzl4k_xz"
      },
      "execution_count": 77,
      "outputs": []
    },
    {
      "cell_type": "code",
      "source": [
        "new_ "
      ],
      "metadata": {
        "colab": {
          "base_uri": "https://localhost:8080/"
        },
        "id": "hbpQ7lHllCJU",
        "outputId": "98cb9f78-c888-4ad9-fe46-449cedfb44c2"
      },
      "execution_count": 78,
      "outputs": [
        {
          "output_type": "execute_result",
          "data": {
            "text/plain": [
              "('d',)"
            ]
          },
          "metadata": {},
          "execution_count": 78
        }
      ]
    },
    {
      "cell_type": "code",
      "source": [
        "new_reg=list(filter(filt,reg))\n",
        "\n",
        "def new_reg_(tuple):\n",
        "   new=[]\n",
        "   new.append(tuple[0][0]+\".\"+tuple[1])\n",
        "   new.append(tuple[2])\n",
        "   new.append(tuple[3])\n",
        "   new.append(tuple[4])\n",
        "   return new\n",
        "\n",
        "new_reg = map(lambda x: tuple(new_reg_(x)), new_reg)\n",
        "# Переводим объект map в list и печатаем его\n",
        "print(list(new_reg))"
      ],
      "metadata": {
        "colab": {
          "base_uri": "https://localhost:8080/"
        },
        "id": "tE-l4fJOhJLH",
        "outputId": "2e8b6ce1-fbce-457d-ce0f-caadd1d0fa5c"
      },
      "execution_count": 80,
      "outputs": [
        {
          "output_type": "stream",
          "name": "stdout",
          "text": [
            "[('S.John', 13, 2, 2003), ('P.Maria', 13, 3, 2003)]\n"
          ]
        }
      ]
    },
    {
      "cell_type": "markdown",
      "source": [
        "ФУНКЦИЯ ZIP\n",
        "\n",
        "→ Иногда возникает необходимость одновременно получать и обрабатывать элементы из нескольких последовательностей. Представьте, что перед вами несколько параллельных линий конвейера, по каждой из которых идёт отдельная продукция, и вам необходимо следить за каждой из этих линий.\n",
        "\n",
        "Пример из профессии: у вас может возникнуть задача по порядку получать из разных баз данных элементы, которые на самом деле являются смысловыми парами: например, товары и их цены, покупатели и их покупки, студенты и их баллы за экзамен и т. д.\n",
        "\n",
        "Для такого совместного использования нескольких коллекций объектов предусмотрена функция zip(). Она принимает в качестве аргументов через запятую итерируемые объекты.\n",
        "\n",
        "Результат работы функции zip() — специальный итератор zip. При требовании получить следующий объект (вызове next()) итератор выдаёт кортеж, в котором по порядку перечислено по одному объекту из каждого аргумента.\n",
        "\n",
        "В итоге мы получаем параллельную обработку нескольких коллекций объектов сразу."
      ],
      "metadata": {
        "id": "_6oVth9voeqz"
      }
    },
    {
      "cell_type": "markdown",
      "source": [
        "Рассмотрим пример задачи.\n",
        "\n",
        "Пусть данные о фамилиях и отчествах студентов по каким-то причинам хранятся в разных местах, например в двух разных списках. Нам бы хотелось вывести их попарно на экран.\n",
        "\n",
        "Создадим два списка: в одном будут фамилии, в другом — имена студентов.\n",
        "\n",
        "Чтобы напечатать их попарно, получим из них объект zip и пройдёмся по нему в цикле for. На каждой итерации цикла объект zip будет возвращать кортеж из двух элементов — фамилии и имени. Для удобства кортеж из элементов zip мы сразу же распаковываем в цикле в понятные переменные surname и name.\n",
        "\n",
        "Итоговый код:"
      ],
      "metadata": {
        "id": "kZX91-WwohnH"
      }
    },
    {
      "cell_type": "code",
      "source": [
        "surnames = ['Ivanov', 'Smirnov', 'Kuznetsova', 'Nikitina']\n",
        "names = ['Sergej', 'Ivan', 'Maria', 'Elena']\n",
        "# Создаём цикл по элементам итератора zip — кортежам из фамилий и имён\n",
        "for surname, name in zip(surnames, names):\n",
        "    print(surname, name)\n",
        "# Будет напечатано:\n",
        "# Ivanov Sergej\n",
        "# Smirnov Ivan\n",
        "# Kuznetsova Maria\n",
        "# Nikitina Elena"
      ],
      "metadata": {
        "colab": {
          "base_uri": "https://localhost:8080/"
        },
        "id": "yr7ngks9kPO7",
        "outputId": "379d1b45-17fc-4a2e-8cb7-6371749a22ee"
      },
      "execution_count": 81,
      "outputs": [
        {
          "output_type": "stream",
          "name": "stdout",
          "text": [
            "Ivanov Sergej\n",
            "Smirnov Ivan\n",
            "Kuznetsova Maria\n",
            "Nikitina Elena\n"
          ]
        }
      ]
    },
    {
      "cell_type": "markdown",
      "source": [
        "![image.png](data:image/png;base64,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)"
      ],
      "metadata": {
        "id": "6-4g5O0ponUB"
      }
    },
    {
      "cell_type": "markdown",
      "source": [
        "Важное замечание:\n",
        " zip перестаёт выдавать элементы тогда, когда заканчиваются элементы в самом коротком итераторе.\n",
        "\n",
        "Например, мы потеряли половину списка имён, но список фамилий при этом не поменялся:"
      ],
      "metadata": {
        "id": "HNfNevApoqaQ"
      }
    },
    {
      "cell_type": "code",
      "source": [
        "surnames = ['Ivanov', 'Smirnov', 'Kuznetsova', 'Nikitina']\n",
        "names = ['Sergej', 'Ivan']"
      ],
      "metadata": {
        "id": "B9PiYB28ojyY"
      },
      "execution_count": 82,
      "outputs": []
    },
    {
      "cell_type": "code",
      "source": [
        "# Создаём цикл по элементам итератора zip — кортежам из фамилий и имён\n",
        "for surname, name in zip(surnames, names):\n",
        "    print(surname, name)\n",
        " "
      ],
      "metadata": {
        "colab": {
          "base_uri": "https://localhost:8080/"
        },
        "id": "CVF91YJ_oupA",
        "outputId": "6336e9bd-0629-4741-ca39-694c8650bffb"
      },
      "execution_count": 83,
      "outputs": [
        {
          "output_type": "stream",
          "name": "stdout",
          "text": [
            "Ivanov Sergej\n",
            "Smirnov Ivan\n"
          ]
        }
      ]
    },
    {
      "cell_type": "markdown",
      "source": [
        "Как видите, напечатано только две строки, поскольку в списке names содержалось только два имени.\n",
        "\n",
        "→ Используйте объект zip, когда требуется получить наборы объектов из нескольких итерируемых объектов и обрабатывать их одновременно."
      ],
      "metadata": {
        "id": "p-Vqen9eo54I"
      }
    },
    {
      "cell_type": "code",
      "source": [
        "a = [1,3,5,6,7]\n",
        "b = ['A', 'B', 'C']\n",
        " \n",
        "for x, y in zip(a, b):\n",
        "    print(x, y)"
      ],
      "metadata": {
        "colab": {
          "base_uri": "https://localhost:8080/"
        },
        "id": "16dlmneBowkY",
        "outputId": "cc8a4857-d24c-4142-bb20-7e07bf3aca38"
      },
      "execution_count": 84,
      "outputs": [
        {
          "output_type": "stream",
          "name": "stdout",
          "text": [
            "1 A\n",
            "3 B\n",
            "5 C\n"
          ]
        }
      ]
    }
  ]
}