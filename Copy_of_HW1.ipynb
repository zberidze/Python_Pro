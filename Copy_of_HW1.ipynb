{
  "nbformat": 4,
  "nbformat_minor": 0,
  "metadata": {
    "colab": {
      "provenance": []
    },
    "kernelspec": {
      "name": "python3",
      "display_name": "Python 3"
    },
    "language_info": {
      "name": "python"
    }
  },
  "cells": [
    {
      "cell_type": "code",
      "execution_count": null,
      "metadata": {
        "colab": {
          "base_uri": "https://localhost:8080/"
        },
        "id": "_aYjJdIiCXqZ",
        "outputId": "f3a8c90e-01e6-4c43-dcb1-57de3c9f990b"
      },
      "outputs": [
        {
          "output_type": "stream",
          "name": "stdout",
          "text": [
            "Python 3.7.13\n"
          ]
        }
      ],
      "source": [
        "!python3 -V"
      ]
    },
    {
      "cell_type": "markdown",
      "source": [
        "****\n",
        "**Задание 1.**\n",
        "\n",
        "Студент магистратуры обычно спит ночью XX часов и устраивает себе днем тихий час на YY минут. Определите, сколько всего студент спит в сутки (если вообще спит). Программа должна принимать значения XX и YY из стандартного потока ввода (функция input), результат надо выводить в стандартный поток вывода (функция print).\n",
        "\n",
        "\n",
        "```\n",
        "Sample Input 1:\n",
        "7\n",
        "30\n",
        "Sample Output 1:\n",
        "450\n",
        "\n",
        "Sample Input 2:\n",
        "0\n",
        "42\n",
        "Sample Output 2:\n",
        "42\n",
        "```\n"
      ],
      "metadata": {
        "id": "7a_LLXLjCeMS"
      }
    },
    {
      "cell_type": "code",
      "source": [
        "#Решение задания 1\n",
        "#YOUR CODE HERE\n",
        "\n",
        "XX = int(input())\n",
        "YY = int(input())\n",
        "print(XX*60 + YY)"
      ],
      "metadata": {
        "id": "gWyFoGkrDGhi",
        "outputId": "cc017923-e80b-4bb7-fd37-b9ea0a2576dd",
        "colab": {
          "base_uri": "https://localhost:8080/"
        }
      },
      "execution_count": null,
      "outputs": [
        {
          "output_type": "stream",
          "name": "stdout",
          "text": [
            "7\n",
            "30\n",
            "450\n"
          ]
        }
      ]
    },
    {
      "cell_type": "markdown",
      "source": [
        "****\n",
        "**Задание 2**\n",
        "\n",
        "Студент МФТИ каждый день ложится спать ровно в полночь и недавно узнал, что оптимальное время для его сна составляет XX минут. Он хочет поставить себе будильник так, чтобы он прозвенел ровно через XX минут после полуночи, однако для этого необходимо указать время сигнала в формате часы, минуты. Помогите студенту определить, на какое время завести будильник.\n",
        "Часы и минуты в выводе программы должны располагаться на разных строках\n",
        "\n",
        "```\n",
        "Sample Input 1:\n",
        "480\n",
        "Sample Output 1:\n",
        "8\n",
        "0\n",
        "\n",
        "Sample Input 2:\n",
        "512\n",
        "Sample Output 2:\n",
        "8\n",
        "32\n",
        "```\n"
      ],
      "metadata": {
        "id": "v_npn-j3C8jg"
      }
    },
    {
      "cell_type": "code",
      "source": [
        "#Решение задания 2\n",
        "#YOUR CODE HERE\n",
        "XX = int(input())\n",
        "print (XX//60)\n",
        "print (XX%60)"
      ],
      "metadata": {
        "id": "6jRyzamrCall",
        "outputId": "256011a5-a700-4a21-c055-49108a80a882",
        "colab": {
          "base_uri": "https://localhost:8080/"
        }
      },
      "execution_count": null,
      "outputs": [
        {
          "output_type": "stream",
          "name": "stdout",
          "text": [
            "480\n",
            "8\n",
            "0\n"
          ]
        }
      ]
    },
    {
      "cell_type": "markdown",
      "source": [
        "****\n",
        "**Задание 3**\n",
        "\n",
        "Студент программы “Анализ данных в медицине” узнал, что ему для сна надо XX минут. В отличие от студента МФТИ, наш студент ложится спать после полуночи в HH часов и MM минут. Помогите определить, на какое время ему поставить будильник, чтобы он прозвенел ровно через XX минут после того, как он ляжет спать.\n",
        "На стандартный ввод, каждое в своей строке, подаются значения XX, HH и MM. Гарантируется, что студент программы “Fнализ данных в медицине” должен проснуться в тот же день, что и заснуть. Программа должна выводить время, на которое нужно поставить будильник: в первой строке часы, во второй — минуты.\n",
        "\n",
        "```\n",
        "Sample Input 1:\n",
        "480\n",
        "1\n",
        "2\n",
        "Sample Output 1:\n",
        "9\n",
        "2\n",
        "Sample Input 2:\n",
        "475\n",
        "1\n",
        "55\n",
        "Sample Output 2:\n",
        "9\n",
        "50\n",
        "\n",
        "```"
      ],
      "metadata": {
        "id": "Vxj4YJbkDMu7"
      }
    },
    {
      "cell_type": "code",
      "source": [
        "#Решение задания 3\n",
        "#YOUR CODE HERE\n",
        "XX= int(input())\n",
        "HH= int(input())\n",
        "MM= int(input())\n",
        "print(((HH*60)+XX+MM)//60)\n",
        "print((XX+MM)%60)"
      ],
      "metadata": {
        "id": "gjcewJX3DesJ",
        "outputId": "d5fe8339-e90e-453c-cbcf-a60cfef4b1d8",
        "colab": {
          "base_uri": "https://localhost:8080/"
        }
      },
      "execution_count": null,
      "outputs": [
        {
          "output_type": "stream",
          "name": "stdout",
          "text": [
            "475\n",
            "1\n",
            "55\n",
            "9\n",
            "50\n"
          ]
        }
      ]
    },
    {
      "cell_type": "markdown",
      "source": [
        "****\n",
        "**Задание 4**\n",
        "\n",
        "Напишите программу, на вход которой подается список чисел одной строкой. Программа должна для каждого элемента этого списка вывести сумму двух его соседей. Для элементов списка, являющихся крайними, одним из соседей считается элемент, находящийся на противоположном конце этого списка. Например, если на вход подаётся список \"1 3 5 6 10\", то на выход ожидается список \"13 6 9 15 7\" (без кавычек).\n",
        "\n",
        "Если на вход пришло только одно число, надо вывести его же.\n",
        "Вывод должен содержать одну строку с числами нового списка, разделенными пробелом.\n",
        "\n",
        "\n",
        "```\n",
        "Sample Input 1:\n",
        "1 3 5 6 10\n",
        "Sample Output 1:\n",
        "13 6 9 15 7\n",
        "Sample Input 2:\n",
        "10\n",
        "Sample Output 2:\n",
        "10\n",
        "```\n"
      ],
      "metadata": {
        "id": "7g7d57UYDgj5"
      }
    },
    {
      "cell_type": "code",
      "source": [
        "#Решение задания 4\n",
        "#YOUR CODE HERE\n",
        "x = [ int(i) for i in input().split()]\n",
        "y=[]\n",
        "if len(x)==0:\n",
        "    print(str(0))\n",
        "elif len(x) == 1:\n",
        "    print (x[0])\n",
        "if len(x)>1:\n",
        "    for i in range(len(x)):\n",
        "        if (i<len(x)-1):\n",
        "            y.append(int(x[i-1])+int(x[i+1]))\n",
        "        if i==len(x)-1:\n",
        "            y.append(x[i - 1] + x[0])\n",
        "for i in y:\n",
        "  print(i,end=\" \")"
      ],
      "metadata": {
        "id": "lZuiLojnDpDI",
        "outputId": "07de3952-55e1-4eb5-a427-5f002a37fc87",
        "colab": {
          "base_uri": "https://localhost:8080/"
        }
      },
      "execution_count": null,
      "outputs": [
        {
          "output_type": "stream",
          "name": "stdout",
          "text": [
            "1 3 5 6 10\n",
            "13 6 9 15 7 "
          ]
        }
      ]
    },
    {
      "cell_type": "markdown",
      "source": [
        "****\n",
        "**Задание 5**\n",
        "\n",
        "Напишите программу, которая принимает на вход список чисел в одной строке и выводит на экран в одну строку значения, которые встречаются в нём более одного раза.\n",
        "\n",
        "Для решения задачи может пригодиться метод sort списка (а может и не пригодиться).\n",
        "\n",
        "Выводимые числа не должны повторяться, порядок их вывода может быть произвольным. Разделитель чисел - пробел\n"
      ],
      "metadata": {
        "id": "C9DdzDwdDvlG"
      }
    },
    {
      "cell_type": "code",
      "source": [
        "x=[int(i) for i in input().split()]\n",
        "x.sort()\n",
        "m=[]\n",
        "for i in range(len(x)):\n",
        "    if i>0:\n",
        "        if x[i]==x[i-1]:\n",
        "            if x[i] not in m:\n",
        "                m.append(x[i])\n",
        "for i in m:\n",
        "    print(i, end=\" \")"
      ],
      "metadata": {
        "id": "7DJQuzktD8xZ",
        "outputId": "8f262473-ca1d-424f-85c3-fc4dffaf0f23",
        "colab": {
          "base_uri": "https://localhost:8080/"
        }
      },
      "execution_count": null,
      "outputs": [
        {
          "output_type": "stream",
          "name": "stdout",
          "text": [
            "10 2 12 12 1 1 3\n",
            "1 12 "
          ]
        }
      ]
    },
    {
      "cell_type": "markdown",
      "source": [
        "****\n",
        "**Задание 6**\n",
        "\n",
        "GC-состав является важной характеристикой геномных последовательностей и определяется как процентное соотношение суммы всех гуанинов и цитозинов к общему числу нуклеиновых оснований в геномной последовательности.\n",
        "\n",
        "Напишите программу, которая вычисляет процентное содержание символов G (гуанин) и C (цитозин) в введенной строке (программа не должна зависеть от регистра вводимых символов).\n",
        "Например, в строке \"acggtgttat\" процентное содержание символов G и C равно 4*0.1 * 100 = 40.0, где 4 - это количество символов G и C, а 10 - это длина строки.\n",
        "\n",
        "```\n",
        "Sample Input:\n",
        "acggtgttat\n",
        "Sample Output:\n",
        "40.0\n",
        "```\n"
      ],
      "metadata": {
        "id": "g1S48qv6EHjC"
      }
    },
    {
      "cell_type": "code",
      "source": [
        "#Решение задания 6\n",
        "#YOUR CODE HERE\n",
        "def gc_percent(new_str):\n",
        "    tmp=new_str.upper()\n",
        "    g=tmp.count(\"G\")\n",
        "    c=tmp.count(\"C\")\n",
        "    return ((g+c)/len(new_str))*100\n",
        "\n",
        "print(gc_percent(\"acggtgttat\"))\n"
      ],
      "metadata": {
        "id": "UmyyLKDlEMAb",
        "outputId": "3d943330-8266-407c-be15-c72936f0ba21",
        "colab": {
          "base_uri": "https://localhost:8080/"
        }
      },
      "execution_count": null,
      "outputs": [
        {
          "output_type": "stream",
          "name": "stdout",
          "text": [
            "40.0\n"
          ]
        }
      ]
    },
    {
      "cell_type": "markdown",
      "source": [
        "****\n",
        "**Задание 7**\n",
        "\n",
        "Узнав, что ДНК не является случайной строкой, только что поступившие в МФТИ студенты группы аналитиков данных предложили использовать алгоритм сжатия, который сжимает повторяющиеся символы в строке.\n",
        "Кодирование осуществляется следующим образом:\n",
        "s = 'aaaabbсaa' преобразуется в 'a4b2с1a2', то есть группы одинаковых символов исходной строки заменяются на этот символ и количество его повторений в этой позиции строки.\n",
        "\n",
        "Напишите программу, которая считывает строку, кодирует её предложенным алгоритмом и выводит закодированную последовательность на стандартный вывод. Кодирование должно учитывать регистр символов.\n",
        "\n",
        "\n",
        "```\n",
        "Sample Input 1:\n",
        "aaaabbcaa\n",
        "Sample Output 1:\n",
        "a4b2c1a2\n",
        "Sample Input 2:\n",
        "abc\n",
        "Sample Output 2:\n",
        "a1b1c1\n",
        "Sample Input 3:\n",
        "AaAaBBBbbbCCc\n",
        "Sample Output 3:\n",
        "A1a1A1a1B3b3C2c1\n",
        "```\n"
      ],
      "metadata": {
        "id": "Hm7d16upETUx"
      }
    },
    {
      "cell_type": "code",
      "source": [
        "#Решение задания 7\n",
        "#YOUR CODE HERE\n",
        "s = str(input())\n",
        "l = len(s)-1\n",
        "c = 1\n",
        "t = ''\n",
        "if len(s)==1:\n",
        "    t = t +s+str(c)\n",
        "else:\n",
        "    for i in range(0,l):\n",
        "        if s[i]==s[i+1]:\n",
        "            c +=1\n",
        "        elif s[i]!=s[i+1]:\n",
        "            t = t + s[i]+str(c)\n",
        "            c = 1\n",
        "    for j in range(l,l+1):\n",
        "        if s[-1]==s[-2]:\n",
        "            t = t +s[j]+str(c)\n",
        "        elif s[-1]!=s[-2]:\n",
        "            t = t +s[j]+str(c)\n",
        "            c = 1\n",
        "print(t)"
      ],
      "metadata": {
        "id": "Gu7FS9kAEe2Q",
        "colab": {
          "base_uri": "https://localhost:8080/"
        },
        "outputId": "0c3c211d-9475-45e0-b16c-5aa88c40ef1c"
      },
      "execution_count": null,
      "outputs": [
        {
          "output_type": "stream",
          "name": "stdout",
          "text": [
            "AaAaBBBbbbCCc\n",
            "A1a1A1a1B3b3C2c1\n"
          ]
        }
      ]
    },
    {
      "cell_type": "markdown",
      "source": [
        "****\n",
        "**Задание 8**\n",
        "\n",
        "Напишите программу, которая считывает с консоли числа (по одному в строке) до тех пор, пока сумма введённых чисел не будет равна 0 и сразу после этого выводит сумму квадратов всех считанных чисел.\n",
        "Гарантируется, что в какой-то момент сумма введённых чисел окажется равной 0, после этого считывание продолжать не нужно.\n",
        "В примере мы считываем числа 1, -3, 5, -6, -10, 13; в этот момент замечаем, что сумма этих чисел равна нулю и выводим сумму их квадратов, не обращая внимания на то, что остались ещё не прочитанные значения.\n",
        "\n",
        "\n",
        "```\n",
        "Sample Input:\n",
        "1\n",
        "-3\n",
        "5\n",
        "-6\n",
        "-10\n",
        "13\n",
        "4\n",
        "-8\n",
        "Sample Output:\n",
        "340\n",
        "```"
      ],
      "metadata": {
        "id": "Ky16NUTNEpr-"
      }
    },
    {
      "cell_type": "code",
      "source": [
        "#Решение задания 8\n",
        "#YOUR CODE HERE\n",
        "a1 = int (input())\n",
        "s= a1\n",
        "s2 = 0+abs(a1**2)\n",
        "while s!=0:\n",
        "    a1 = int(input())\n",
        "    s = s + a1\n",
        "    s2 = s2+abs(a1)**2\n",
        "    if s==0:\n",
        "        break\n",
        "print(s2)"
      ],
      "metadata": {
        "id": "gSs8AHixFMwU",
        "colab": {
          "base_uri": "https://localhost:8080/"
        },
        "outputId": "d1d44b2b-6066-4573-c936-9b26dbdec3cd"
      },
      "execution_count": null,
      "outputs": [
        {
          "output_type": "stream",
          "name": "stdout",
          "text": [
            "1\n",
            "-3\n",
            "5\n",
            "-6\n",
            "-10\n",
            "13\n",
            "340\n"
          ]
        }
      ]
    },
    {
      "cell_type": "markdown",
      "source": [
        "****\n",
        "**Задание 9**\n",
        "\n",
        "Самое время использовать математику. Вы поднимаетесь по лестнице. Количество ступенек в ней = n.\n",
        "\n",
        "На каждом этапе вы можете переступить либо одну, либо две ступеньки. Как много уникальных способов добраться до верха существует?\n",
        "\n",
        "*1<=n<=45*\n",
        "\n",
        "\n",
        "\n",
        "```\n",
        "Input: n = 2\n",
        "Output: 2\n",
        "Explanation: There are two ways to climb to the top.\n",
        "1. 1 step + 1 step\n",
        "2. 2 steps\n",
        "\n",
        "Input: n = 3\n",
        "Output: 3\n",
        "Explanation: There are three ways to climb to the top.\n",
        "1. 1 step + 1 step + 1 step\n",
        "2. 1 step + 2 steps\n",
        "3. 2 steps + 1 step\n",
        "```\n",
        "\n"
      ],
      "metadata": {
        "id": "bPeSnwt4F73y"
      }
    },
    {
      "cell_type": "code",
      "source": [
        "#Решение задания 9\n",
        "#YOUR CODE HERE\n",
        "def fibonacci(n):\n",
        "    a = 0\n",
        "    b = 1\n",
        "    if n < 0:\n",
        "        print(\"Incorrect input\")\n",
        "    elif n == 0:\n",
        "        return a\n",
        "    elif n == 1:\n",
        "        return b\n",
        "    else:\n",
        "        for i in range(2,n+1):\n",
        "            c = a + b\n",
        "            a = b\n",
        "            b = c\n",
        "        return b\n",
        "\n",
        "n=int(input())+1\n",
        "print(fibonacci(n))\n",
        "\n",
        "#n = [0 1 2 3 4 5 6  ...]\n",
        "#stp=[0 1 1 3 5 8 13 ...]\n"
      ],
      "metadata": {
        "id": "HNhjOQZ7GdI5",
        "colab": {
          "base_uri": "https://localhost:8080/"
        },
        "outputId": "a77461e4-5c33-4fea-826e-936ade69e8a3"
      },
      "execution_count": null,
      "outputs": [
        {
          "output_type": "stream",
          "name": "stdout",
          "text": [
            "4\n",
            "5\n"
          ]
        }
      ]
    },
    {
      "cell_type": "markdown",
      "source": [
        "****\n",
        "**Задание 10**\n",
        "\n",
        "Напишите функцию, чтобы найти самый длинный префикс в листе, составленном из строк.\n",
        "\n",
        "Если общего префикса нет - верните пустую строку.\n",
        "\n",
        "\n",
        "\n",
        "```\n",
        "Input 1: strs = [\"flower\",\"flow\",\"flight\"]\n",
        "Output 1: \"fl\"\n",
        "\n",
        "Input 2: strs = [\"dog\",\"racecar\",\"car\"]\n",
        "Output 2: \"\"\n",
        "Explanation: There is no common prefix among the input strings.\n",
        "```\n",
        "\n"
      ],
      "metadata": {
        "id": "T8A0EHJTG03s"
      }
    },
    {
      "cell_type": "code",
      "source": [
        "#Решение задания 10\n",
        "#YOUR CODE HERE"
      ],
      "metadata": {
        "id": "T-TeO2QoHIMR"
      },
      "execution_count": null,
      "outputs": []
    },
    {
      "cell_type": "code",
      "source": [],
      "metadata": {
        "id": "gaBVonTZ9x91"
      },
      "execution_count": null,
      "outputs": []
    }
  ]
}