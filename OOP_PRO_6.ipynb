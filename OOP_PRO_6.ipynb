{
  "nbformat": 4,
  "nbformat_minor": 0,
  "metadata": {
    "colab": {
      "provenance": []
    },
    "kernelspec": {
      "name": "python3",
      "display_name": "Python 3"
    },
    "language_info": {
      "name": "python"
    }
  },
  "cells": [
    {
      "cell_type": "code",
      "execution_count": 7,
      "metadata": {
        "colab": {
          "base_uri": "https://localhost:8080/"
        },
        "id": "qCTAcaR2Rtce",
        "outputId": "d7259505-be26-4207-e04f-6983bf357649"
      },
      "outputs": [
        {
          "output_type": "stream",
          "name": "stdout",
          "text": [
            "name :\t\tsansa\n",
            "father's name :\teddardovna\n",
            "last name: \tstark\n",
            "\n"
          ]
        }
      ],
      "source": [
        "class Person():\n",
        "  def __init__(self,n,fn,ln):\n",
        "    self.name=n\n",
        "    self.fname=fn\n",
        "    self.lname=ln\n",
        "\n",
        "  def __str__(self):\n",
        "    s=\"name :\\t\\t\"+self.name+\"\\n\" +\\\n",
        "       \"father's name :\\t\" + self.fname +\"\\n\" +\\\n",
        "      \"last name: \\t\"+self.lname + \"\\n\" \n",
        "    return s  \n",
        "\n",
        "sansa=Person(\"sansa\",\"eddardovna\",\"stark\")\n",
        "print(sansa)      "
      ]
    },
    {
      "cell_type": "code",
      "source": [
        "name=\"john bastardovic snow\"\n",
        "name=name.split(\" \")\n",
        "print(name)"
      ],
      "metadata": {
        "colab": {
          "base_uri": "https://localhost:8080/"
        },
        "id": "5JXDqb-YT6it",
        "outputId": "35a4409e-1426-4436-ddcb-03cec8df6cb0"
      },
      "execution_count": 8,
      "outputs": [
        {
          "output_type": "stream",
          "name": "stdout",
          "text": [
            "['john', 'bastardovic', 'snow']\n"
          ]
        }
      ]
    },
    {
      "cell_type": "code",
      "source": [
        "john=Person(name[0],name[1],name[2])\n",
        "print(john)"
      ],
      "metadata": {
        "colab": {
          "base_uri": "https://localhost:8080/"
        },
        "id": "YwYF9S1AV-Bp",
        "outputId": "ce0e103f-2ddb-4daa-cd6f-810113a0a550"
      },
      "execution_count": 10,
      "outputs": [
        {
          "output_type": "stream",
          "name": "stdout",
          "text": [
            "name :\t\tjohn\n",
            "father's name :\tbastardovic\n",
            "last name: \tsnow\n",
            "\n"
          ]
        }
      ]
    },
    {
      "cell_type": "code",
      "source": [
        "class Person():\n",
        "  def __init__(self,n,fn,ln):\n",
        "    self.name=n\n",
        "    self.fname=fn\n",
        "    self.lname=ln\n",
        "\n",
        "  def __str__(self):\n",
        "    s=\"name :\\t\\t\"+self.name+\"\\n\" +\\\n",
        "       \"father's name :\\t\" + self.fname +\"\\n\" +\\\n",
        "      \"last name: \\t\"+self.lname + \"\\n\" \n",
        "    return s  \n",
        "  \n",
        "  @classmethod\n",
        "  def to_string(cls,name):\n",
        "    name,fname,lname=name.split(\" \")\n",
        "    person=cls(name,fname,lname)\n",
        "    return person\n",
        "\n",
        "\n",
        "sansa=Person(\"sansa\",\"eddardovna\",\"stark\")\n",
        "print(sansa)      \n",
        "name=\"john bastardovic snow\"\n",
        "john=Person.to_string(name)\n",
        "print(john)"
      ],
      "metadata": {
        "colab": {
          "base_uri": "https://localhost:8080/"
        },
        "id": "GDdA5hN3WE1B",
        "outputId": "52ceed24-0584-4a88-9d68-31c6fc4e243e"
      },
      "execution_count": 13,
      "outputs": [
        {
          "output_type": "stream",
          "name": "stdout",
          "text": [
            "name :\t\tsansa\n",
            "father's name :\teddardovna\n",
            "last name: \tstark\n",
            "\n",
            "name :\t\tjohn\n",
            "father's name :\tbastardovic\n",
            "last name: \tsnow\n",
            "\n"
          ]
        }
      ]
    },
    {
      "cell_type": "code",
      "source": [],
      "metadata": {
        "id": "Udn3WJ6UW6zA"
      },
      "execution_count": null,
      "outputs": []
    }
  ]
}