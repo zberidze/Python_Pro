{
  "nbformat": 4,
  "nbformat_minor": 0,
  "metadata": {
    "colab": {
      "provenance": []
    },
    "kernelspec": {
      "name": "python3",
      "display_name": "Python 3"
    },
    "language_info": {
      "name": "python"
    }
  },
  "cells": [
    {
      "cell_type": "code",
      "execution_count": 1,
      "metadata": {
        "id": "jDxtMs5VADjM"
      },
      "outputs": [],
      "source": [
        "import random\n"
      ]
    },
    {
      "cell_type": "code",
      "source": [
        "class Coin():\n",
        "  sides=[\"arrel\",\"reshka\"]\n",
        "\n",
        "  def __init__(self):\n",
        "    self.upside=Coin.sides[0]\n",
        "\n",
        "  def toss(self):\n",
        "    self.upside=random.choice(Coin.sides)\n",
        "\n",
        "coin1=Coin()    \n",
        "print(coin1)\n",
        "\n",
        "coin1.toss()\n",
        "print(coin1.upside)"
      ],
      "metadata": {
        "colab": {
          "base_uri": "https://localhost:8080/"
        },
        "id": "ZTHf9ekSAHe6",
        "outputId": "bbbb8ef8-414a-4f02-a106-7f995a72b917"
      },
      "execution_count": 3,
      "outputs": [
        {
          "output_type": "stream",
          "name": "stdout",
          "text": [
            "<__main__.Coin object at 0x7f1ed6c992e0>\n",
            "reshka\n"
          ]
        }
      ]
    },
    {
      "cell_type": "code",
      "source": [
        "class Coin():\n",
        "  sides=[\"arrel\",\"reshka\"]\n",
        "\n",
        "  def __init__(self):\n",
        "    self.upside=Coin.sides[0]\n",
        "\n",
        "  def toss(self):\n",
        "    self.upside=random.choice(Coin.sides)\n",
        "\n",
        "coin1=Coin()\n",
        "coin2=Coin()  \n",
        "coin3=Coin()      \n",
        "\n",
        "\n",
        "coin1.toss()\n",
        "coin2.toss()\n",
        "coin3.toss()\n",
        "print(coin1.upside)\n",
        "print(coin2.upside)\n",
        "print(coin3.upside)\n",
        "\n"
      ],
      "metadata": {
        "colab": {
          "base_uri": "https://localhost:8080/"
        },
        "id": "UDzlrE3jAmDz",
        "outputId": "696894a4-fd9f-472a-8771-6cff675ecbed"
      },
      "execution_count": 8,
      "outputs": [
        {
          "output_type": "stream",
          "name": "stdout",
          "text": [
            "arrel\n",
            "arrel\n",
            "reshka\n"
          ]
        }
      ]
    },
    {
      "cell_type": "code",
      "source": [
        "print(isinstance(coin3,Coin))\n",
        "print(type(coin2),type(Coin))"
      ],
      "metadata": {
        "colab": {
          "base_uri": "https://localhost:8080/"
        },
        "id": "Yndx54IeBqrx",
        "outputId": "99a0dffe-65eb-4555-abbe-8295151e8368"
      },
      "execution_count": 7,
      "outputs": [
        {
          "output_type": "stream",
          "name": "stdout",
          "text": [
            "True\n",
            "<class '__main__.Coin'> <class 'type'>\n"
          ]
        }
      ]
    },
    {
      "cell_type": "code",
      "source": [
        "class Coin():\n",
        "  sides=[\"arrel\",\"reshka\"]\n",
        "\n",
        "  def __init__(self):\n",
        "    self.upside=Coin.sides[0]\n",
        "\n",
        "  def toss(self):\n",
        "    self.upside=random.choice(Coin.sides)\n",
        "\n",
        "coin1=Coin()\n",
        "coin2=Coin()  \n",
        "coin3=Coin()      \n",
        "\n",
        "\n",
        "coin1.toss()\n",
        "coin2.toss()\n",
        "coin3.toss()\n",
        "print(coin1.upside)\n",
        "print(coin2.upside)\n",
        "print(coin3.upside)\n",
        "\n",
        "\n",
        "coin3.upside=\"rebro\"\n",
        "\n",
        "print(coin1.upside)\n",
        "print(coin2.upside)\n",
        "print(coin3.upside)"
      ],
      "metadata": {
        "colab": {
          "base_uri": "https://localhost:8080/"
        },
        "id": "UGn5U1LXBzXX",
        "outputId": "56b1cfc5-1928-434d-d21f-a2306f30fa39"
      },
      "execution_count": 13,
      "outputs": [
        {
          "output_type": "stream",
          "name": "stdout",
          "text": [
            "arrel\n",
            "reshka\n",
            "arrel\n",
            "arrel\n",
            "reshka\n",
            "rebro\n"
          ]
        }
      ]
    },
    {
      "cell_type": "code",
      "source": [
        "class Coin():\n",
        "  sides=[\"arrel\",\"reshka\"]\n",
        "\n",
        "  def __init__(self):\n",
        "    self.upside=Coin.sides[0]\n",
        "\n",
        "  def toss(self):\n",
        "    self.upside=random.choice(Coin.sides)\n",
        "\n",
        "  def set_upside(self):\n",
        "    self.toss()\n",
        "\n",
        "  def get_upside(self):\n",
        "    return self.upside  \n",
        "\n",
        "\n",
        "coin1=Coin()\n",
        "coin2=Coin()  \n",
        "coin3=Coin()      \n",
        "\n",
        "print(coin1.get_upside())\n",
        "coin1.set_upside()\n",
        "print(coin1.get_upside())"
      ],
      "metadata": {
        "colab": {
          "base_uri": "https://localhost:8080/"
        },
        "id": "he6zGc7ICCE4",
        "outputId": "51763498-e1a9-4cc7-ffd2-01fff0dbf608"
      },
      "execution_count": 17,
      "outputs": [
        {
          "output_type": "stream",
          "name": "stdout",
          "text": [
            "arrel\n",
            "reshka\n"
          ]
        }
      ]
    },
    {
      "cell_type": "code",
      "source": [
        "class Coin():\n",
        "  sides=[\"arrel\",\"reshka\"]\n",
        "\n",
        "  def __init__(self):\n",
        "    self.upside=Coin.sides[0]\n",
        "\n",
        "  def __str__(self) -> str:\n",
        "    s=\"this is coin.upside is \"+self.upside\n",
        "    return s  \n",
        "\n",
        "  def toss(self):\n",
        "    self.upside=random.choice(Coin.sides)\n",
        "\n",
        "  def set_upside(self):\n",
        "    self.toss()\n",
        "\n",
        "  def get_upside(self):\n",
        "    return self.upside  \n",
        "\n",
        "\n",
        "coin1=Coin()\n",
        "coin2=Coin()  \n",
        "coin3=Coin()      \n",
        "\n",
        "print(coin1.get_upside())\n",
        "coin1.set_upside()\n",
        "print(coin1.get_upside())"
      ],
      "metadata": {
        "colab": {
          "base_uri": "https://localhost:8080/"
        },
        "id": "7CTVBbYKDdd6",
        "outputId": "488abd94-5574-4ef8-9ecd-c5cc3650352d"
      },
      "execution_count": 22,
      "outputs": [
        {
          "output_type": "stream",
          "name": "stdout",
          "text": [
            "arrel\n",
            "arrel\n"
          ]
        }
      ]
    },
    {
      "cell_type": "code",
      "source": [
        "print(coin2)"
      ],
      "metadata": {
        "colab": {
          "base_uri": "https://localhost:8080/"
        },
        "id": "VJgjvw5rFX0l",
        "outputId": "ea2cde01-e121-49c5-d6d6-926a352f89de"
      },
      "execution_count": 21,
      "outputs": [
        {
          "output_type": "stream",
          "name": "stdout",
          "text": [
            "this is coin.upside is arrel\n"
          ]
        }
      ]
    },
    {
      "cell_type": "code",
      "source": [
        "print(coin1,coin2,coin3,sep=\"\\n\")"
      ],
      "metadata": {
        "colab": {
          "base_uri": "https://localhost:8080/"
        },
        "id": "0Crak0GrFcyK",
        "outputId": "00f32b10-bb49-4a51-850b-e30d2571d0f1"
      },
      "execution_count": 23,
      "outputs": [
        {
          "output_type": "stream",
          "name": "stdout",
          "text": [
            "this is coin.upside is arrel\n",
            "this is coin.upside is arrel\n",
            "this is coin.upside is arrel\n"
          ]
        }
      ]
    },
    {
      "cell_type": "code",
      "source": [
        "class Coin():\n",
        "  sides=[\"arrel\",\"reshka\"]\n",
        "\n",
        "  def __init__(self):\n",
        "    self.upside=random.choice(Coin.sides)\n",
        "\n",
        "  def __str__(self) -> str:\n",
        "    s=\"this is coin.upside is \"+self.upside\n",
        "    return s  \n",
        "\n",
        "  def get_upside(self):\n",
        "    return self.upside  \n",
        "\n",
        "\n",
        "coin1=Coin()\n",
        "coin2=Coin()  \n",
        "coin3=Coin()   \n",
        "\n",
        "print(coin1,coin2,coin3,sep=\"\\n\")"
      ],
      "metadata": {
        "colab": {
          "base_uri": "https://localhost:8080/"
        },
        "id": "PumQoRcjGZhS",
        "outputId": "337a624c-9e11-4178-99f1-69b27c586090"
      },
      "execution_count": 24,
      "outputs": [
        {
          "output_type": "stream",
          "name": "stdout",
          "text": [
            "this is coin.upside is reshka\n",
            "this is coin.upside is arrel\n",
            "this is coin.upside is reshka\n"
          ]
        }
      ]
    }
  ]
}