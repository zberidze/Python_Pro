{
  "nbformat": 4,
  "nbformat_minor": 0,
  "metadata": {
    "colab": {
      "provenance": []
    },
    "kernelspec": {
      "name": "python3",
      "display_name": "Python 3"
    },
    "language_info": {
      "name": "python"
    }
  },
  "cells": [
    {
      "cell_type": "code",
      "execution_count": 2,
      "metadata": {
        "colab": {
          "base_uri": "https://localhost:8080/"
        },
        "id": "b3uM7aHaHZmI",
        "outputId": "153940d4-796b-42a0-f7d8-f7c873673de1"
      },
      "outputs": [
        {
          "output_type": "stream",
          "name": "stdout",
          "text": [
            "<__main__.shape object at 0x7fc1a6ee4bb0>\n"
          ]
        }
      ],
      "source": [
        "class shape():\n",
        "  def __init__(self,v):\n",
        "    self.vertices=v\n",
        "\n",
        "\n",
        "\n",
        "def main():\n",
        "  shape1=shape(5)\n",
        "  print(shape1)\n",
        "\n",
        "\n",
        "main()  "
      ]
    },
    {
      "cell_type": "code",
      "source": [
        "class shape():\n",
        "  def __init__(self,v):\n",
        "    self.vertices=v\n",
        "\n",
        "  def __str__(self):\n",
        "    s=\"this shape have \"  +str(self.vertices)+\" vershin\"\n",
        "    return s\n",
        "\n",
        "\n",
        "\n",
        "def main():\n",
        "  shape1=shape(5)\n",
        "  print(shape1)\n",
        "\n",
        "\n",
        "main()  "
      ],
      "metadata": {
        "colab": {
          "base_uri": "https://localhost:8080/"
        },
        "id": "qoEpnu_tIG3E",
        "outputId": "f0f20640-7537-4acb-b812-e4972858d6a8"
      },
      "execution_count": 4,
      "outputs": [
        {
          "output_type": "stream",
          "name": "stdout",
          "text": [
            "this shape have 5 vershin\n"
          ]
        }
      ]
    },
    {
      "cell_type": "code",
      "source": [
        "class shape():\n",
        "  def __init__(self,v):\n",
        "    self.vertices=v\n",
        "\n",
        "  def __str__(self):\n",
        "    s=\"this shape have \"  +str(self.vertices)+\" vershin\"\n",
        "    return s\n",
        "\n",
        "\n",
        "\n",
        "def main():\n",
        "  shape1=shape(5)\n",
        "  print(shape1)\n",
        "  shape2=shape(3)\n",
        "  print(shape2)\n",
        "\n",
        "\n",
        "main()  "
      ],
      "metadata": {
        "colab": {
          "base_uri": "https://localhost:8080/"
        },
        "id": "lZKElgerIf6d",
        "outputId": "89ba4f24-0859-4461-a824-959950015b09"
      },
      "execution_count": 5,
      "outputs": [
        {
          "output_type": "stream",
          "name": "stdout",
          "text": [
            "this shape have 5 vershin\n",
            "this shape have 3 vershin\n"
          ]
        }
      ]
    },
    {
      "cell_type": "code",
      "source": [
        "class shape():\n",
        "  def __init__(self,v):\n",
        "    self.vertices=v\n",
        "\n",
        "  def __str__(self):\n",
        "    s=\"this figure have \"  +str(self.vertices)+\" vershin\"\n",
        "    return s\n",
        "\n",
        "class triangle(shape):\n",
        "  def __init__(self, v):\n",
        "    super().__init__(v)\n",
        "\n",
        "def main():\n",
        "  shape1=shape(5)\n",
        "  print(shape1)\n",
        "  shape2=shape(3)\n",
        "  print(shape2,type(shape2))\n",
        "  tri=triangle(3)\n",
        "  print(tri,type(tri))\n",
        "\n",
        "main()  "
      ],
      "metadata": {
        "colab": {
          "base_uri": "https://localhost:8080/"
        },
        "id": "gJ0Pis0zIuqM",
        "outputId": "41c35a33-305f-4957-89b7-759cc39bcbe0"
      },
      "execution_count": 9,
      "outputs": [
        {
          "output_type": "stream",
          "name": "stdout",
          "text": [
            "this figure have 5 vershin\n",
            "this figure have 3 vershin <class '__main__.shape'>\n",
            "this figure have 3 vershin <class '__main__.triangle'>\n"
          ]
        }
      ]
    },
    {
      "cell_type": "code",
      "source": [
        "class shape():\n",
        "  def __init__(self,v):\n",
        "    self.vertices=v\n",
        "\n",
        "  def __str__(self):\n",
        "    s=\"this figure have \"  +str(self.vertices)+\" vershin\"\n",
        "    return s\n",
        "\n",
        "class triangle(shape):\n",
        "  def __init__(self, v):\n",
        "    super().__init__(v)\n",
        "\n",
        "def main():\n",
        "  shape1=shape(5)\n",
        "  print(shape1)\n",
        "  shape2=shape(3)\n",
        "  print(shape2,type(shape2))\n",
        "  tri=triangle(3)\n",
        "  print(tri,type(tri))\n",
        "\n",
        "main()  "
      ],
      "metadata": {
        "id": "1Cb4KnjLKgTj"
      },
      "execution_count": null,
      "outputs": []
    },
    {
      "cell_type": "code",
      "source": [
        "class shape():\n",
        "  def __init__(self,v,s):\n",
        "    self.vertices=v\n",
        "    self.sides=s\n",
        "\n",
        "  def __str__(self):\n",
        "    s=\"this figure have \"  +str(self.vertices)+\" vershin\"\n",
        "    return s\n",
        "\n",
        "  def get_perimentr(self):\n",
        "    p=0\n",
        "    for i in self.sides:\n",
        "      p+=i\n",
        "    return p    \n",
        "\n",
        "class triangle(shape):\n",
        "  def __init__(self, v,s):\n",
        "    super().__init__(v,s)\n",
        "\n",
        "def main():\n",
        "  shape1=shape(5,[1,3,2,4,5])\n",
        "  print(shape1)\n",
        "  shape2=shape(3,[2,2,2])\n",
        "  print(shape2,type(shape2),shape2.get_perimentr())\n",
        "  tri=triangle(3,[2,3,2])\n",
        "  print(tri,type(tri),tri.get_perimentr())\n",
        "\n",
        "main()  "
      ],
      "metadata": {
        "colab": {
          "base_uri": "https://localhost:8080/"
        },
        "id": "iU-YTUXsQnUB",
        "outputId": "9d200bdd-c713-4c15-bbac-80ae620646ce"
      },
      "execution_count": 11,
      "outputs": [
        {
          "output_type": "stream",
          "name": "stdout",
          "text": [
            "this figure have 5 vershin\n",
            "this figure have 3 vershin <class '__main__.shape'> 6\n",
            "this figure have 3 vershin <class '__main__.triangle'> 7\n"
          ]
        }
      ]
    },
    {
      "cell_type": "code",
      "source": [
        "class shape():\n",
        "  def __init__(self,v,s):\n",
        "    self.vertices=v\n",
        "    self.sides=s\n",
        "\n",
        "  def __str__(self):\n",
        "    s=\"this figure have \"  +str(self.vertices)+\" vershin\"\n",
        "    return s\n",
        "\n",
        "  def get_perimentr(self):\n",
        "    p=0\n",
        "    for i in self.sides:\n",
        "      p+=i\n",
        "    return p    \n",
        " \n",
        "\n",
        "class triangle(shape):\n",
        "  def __init__(self, v,s):\n",
        "    super().__init__(v,s)\n",
        "  def getarea(self):\n",
        "    p=self.get_perimentr()/2\n",
        "    a=self.sides[0]\n",
        "    b=self.sides[1]\n",
        "    c=self.sides[2]\n",
        "\n",
        "    s=((p-a)*(p-b)*(p-c))**(1/2)\n",
        "    return s\n",
        "        \n",
        "\n",
        "def main():\n",
        "  shape1=shape(5,[1,3,2,4,5])\n",
        "  print(shape1)\n",
        "  shape2=shape(3,[2,2,2])\n",
        "  print(shape2,type(shape2),shape2.get_perimentr())\n",
        "  tri=triangle(3,[2,3,2])\n",
        "  print(tri,type(tri),tri.get_perimentr(),tri.getarea())\n",
        "\n",
        "main()  "
      ],
      "metadata": {
        "colab": {
          "base_uri": "https://localhost:8080/"
        },
        "id": "y5RxDNXZQs0M",
        "outputId": "e2332a58-31c5-4fd6-af3e-4c30b419cded"
      },
      "execution_count": 12,
      "outputs": [
        {
          "output_type": "stream",
          "name": "stdout",
          "text": [
            "this figure have 5 vershin\n",
            "this figure have 3 vershin <class '__main__.shape'> 6\n",
            "this figure have 3 vershin <class '__main__.triangle'> 7 1.0606601717798212\n"
          ]
        }
      ]
    },
    {
      "cell_type": "code",
      "source": [
        "shape2=shape(3,[2,2,2])\n",
        "shape2.getarea()"
      ],
      "metadata": {
        "colab": {
          "base_uri": "https://localhost:8080/",
          "height": 183
        },
        "id": "LoydaKHPSoQF",
        "outputId": "865ddc1c-f473-4bd8-c052-477204ddf763"
      },
      "execution_count": 14,
      "outputs": [
        {
          "output_type": "error",
          "ename": "AttributeError",
          "evalue": "ignored",
          "traceback": [
            "\u001b[0;31m---------------------------------------------------------------------------\u001b[0m",
            "\u001b[0;31mAttributeError\u001b[0m                            Traceback (most recent call last)",
            "\u001b[0;32m<ipython-input-14-36678379e98e>\u001b[0m in \u001b[0;36m<module>\u001b[0;34m\u001b[0m\n\u001b[1;32m      1\u001b[0m \u001b[0mshape2\u001b[0m\u001b[0;34m=\u001b[0m\u001b[0mshape\u001b[0m\u001b[0;34m(\u001b[0m\u001b[0;36m3\u001b[0m\u001b[0;34m,\u001b[0m\u001b[0;34m[\u001b[0m\u001b[0;36m2\u001b[0m\u001b[0;34m,\u001b[0m\u001b[0;36m2\u001b[0m\u001b[0;34m,\u001b[0m\u001b[0;36m2\u001b[0m\u001b[0;34m]\u001b[0m\u001b[0;34m)\u001b[0m\u001b[0;34m\u001b[0m\u001b[0;34m\u001b[0m\u001b[0m\n\u001b[0;32m----> 2\u001b[0;31m \u001b[0mshape2\u001b[0m\u001b[0;34m.\u001b[0m\u001b[0mgetarea\u001b[0m\u001b[0;34m(\u001b[0m\u001b[0;34m)\u001b[0m\u001b[0;34m\u001b[0m\u001b[0;34m\u001b[0m\u001b[0m\n\u001b[0m",
            "\u001b[0;31mAttributeError\u001b[0m: 'shape' object has no attribute 'getarea'"
          ]
        }
      ]
    },
    {
      "cell_type": "code",
      "source": [],
      "metadata": {
        "id": "Oh-ZPjrOSsbw"
      },
      "execution_count": 14,
      "outputs": []
    }
  ]
}