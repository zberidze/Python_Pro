{
  "nbformat": 4,
  "nbformat_minor": 0,
  "metadata": {
    "colab": {
      "provenance": []
    },
    "kernelspec": {
      "name": "python3",
      "display_name": "Python 3"
    },
    "language_info": {
      "name": "python"
    }
  },
  "cells": [
    {
      "cell_type": "code",
      "source": [
        "class Person():\n",
        "  def __init__(self,n,a):\n",
        "    self.name=n\n",
        "    self.age=a\n",
        "\n",
        "  def __str__(self):\n",
        "    #s=\"my name is  %s. i'm %i years old.\\n \" % (self.name,self.age)\n",
        "    s=f\"my name is  {self.name}. i'm {self.age} years old.\\n \" \n",
        "    return s\n",
        "\n",
        "class employee(Person):\n",
        "  def __init__(self, n, a,p,s):\n",
        "    super().__init__(n, a)\n",
        "    self.pos=p\n",
        "    self.salary=s\n",
        "  def __str__(self):\n",
        "    s=\"my name is %s .i'm %s with %i-rubles salary \\n\" % (self.name,self.pos,self.salary)\n",
        "    return s\n",
        "    "
      ],
      "metadata": {
        "id": "OsKdXKgFSUUR"
      },
      "execution_count": 1,
      "outputs": []
    },
    {
      "cell_type": "code",
      "execution_count": 3,
      "metadata": {
        "colab": {
          "base_uri": "https://localhost:8080/"
        },
        "id": "5eO5dxLICt8V",
        "outputId": "0a7b11e8-bb49-4c9b-d719-3e6b1c2e7cc3"
      },
      "outputs": [
        {
          "output_type": "stream",
          "name": "stdout",
          "text": [
            "my name is ivan doberman .i'm boss with 1200-rubles salary \n",
            "\n",
            "my name is stepan doberman .i'm underboss with 600-rubles salary \n",
            "\n",
            "my name is buba doberman .i'm big boss with 1230-rubles salary \n",
            "\n",
            "exporting...\n",
            "\n",
            "done \n",
            "\n",
            "after exporting...\n",
            "\n",
            "my name is ivan doberman .i'm boss with 1200-rubles salary \n",
            "\n",
            "my name is stepan doberman .i'm underboss with 600-rubles salary \n",
            "\n",
            "my name is buba doberman .i'm big boss with 1230-rubles salary \n",
            "\n"
          ]
        }
      ],
      "source": [
        "import pickle\n",
        "\n",
        "ivan=employee(\"ivan doberman\",24,\"boss\",1200)\n",
        "stepan=employee(\"stepan doberman\",23,\"underboss\",600)\n",
        "buba=employee(\"buba doberman\",22,\"big boss\",1600)\n",
        "\n",
        "company=[ivan,stepan,buba]\n",
        "\n",
        "buba.salary=1230\n",
        "\n",
        "\n",
        "for i in company:\n",
        "    print(i)\n",
        "print(\"exporting...\\n\")\n",
        "try:\n",
        "    dumfile=open(\"comp.db\",\"wb\")\n",
        "    res=pickle.dump(company,dumfile)\n",
        "except:\n",
        "    print(\"error\\n\")\n",
        "else:\n",
        "    print(\"done \\n\")\n",
        "finally:\n",
        "    dumfile.close()   \n",
        "\n",
        "print(\"after exporting...\\n\")    \n",
        "\n",
        "for i in company:\n",
        "    print(i)"
      ]
    },
    {
      "cell_type": "code",
      "source": [
        "file=open(\"comp.db\",\"rb\")\n",
        "data=file.read()\n",
        "file.close()\n",
        "\n",
        "print(data,type(data))\n",
        "\n",
        "\n"
      ],
      "metadata": {
        "colab": {
          "base_uri": "https://localhost:8080/"
        },
        "id": "JTcGnbECBUIq",
        "outputId": "a4872a57-4994-4a88-8ba8-9e319f18534d"
      },
      "execution_count": 6,
      "outputs": [
        {
          "output_type": "stream",
          "name": "stdout",
          "text": [
            "b'\\x80\\x04\\x95\\xc4\\x00\\x00\\x00\\x00\\x00\\x00\\x00]\\x94(\\x8c\\x08__main__\\x94\\x8c\\x08employee\\x94\\x93\\x94)\\x81\\x94}\\x94(\\x8c\\x04name\\x94\\x8c\\rivan doberman\\x94\\x8c\\x03age\\x94K\\x18\\x8c\\x03pos\\x94\\x8c\\x04boss\\x94\\x8c\\x06salary\\x94M\\xb0\\x04ubh\\x03)\\x81\\x94}\\x94(h\\x06\\x8c\\x0fstepan doberman\\x94h\\x08K\\x17h\\t\\x8c\\tunderboss\\x94h\\x0bMX\\x02ubh\\x03)\\x81\\x94}\\x94(h\\x06\\x8c\\rbuba doberman\\x94h\\x08K\\x16h\\t\\x8c\\x08big boss\\x94h\\x0bM\\xce\\x04ube.' <class 'bytes'>\n"
          ]
        }
      ]
    },
    {
      "cell_type": "code",
      "source": [
        "import pickle\n",
        "\n",
        "try:\n",
        "    dumpfile=open(\"comp.db\",\"rb\")\n",
        "    company=pickle.load(dumpfile)\n",
        "except:\n",
        "    print(\"error \\n\")\n",
        "else:\n",
        "    print(\"done \\n\")\n",
        "\n",
        "finally:\n",
        "    dumpfile.close()\n",
        "\n",
        "\n",
        "for i in company:\n",
        "    print(i)"
      ],
      "metadata": {
        "colab": {
          "base_uri": "https://localhost:8080/"
        },
        "id": "EkqeLzHIefvN",
        "outputId": "c5d79e72-bc32-48f2-cb4e-2fbfeb0bd898"
      },
      "execution_count": 7,
      "outputs": [
        {
          "output_type": "stream",
          "name": "stdout",
          "text": [
            "done \n",
            "\n",
            "my name is ivan doberman .i'm boss with 1200-rubles salary \n",
            "\n",
            "my name is stepan doberman .i'm underboss with 600-rubles salary \n",
            "\n",
            "my name is buba doberman .i'm big boss with 1230-rubles salary \n",
            "\n"
          ]
        }
      ]
    },
    {
      "cell_type": "code",
      "source": [
        "class Person():\n",
        "\n",
        "  counter=0\n",
        "\n",
        "  def __init__(self,n,a):\n",
        "    Person.increment()\n",
        "    self.number=Person.counter\n",
        "    self.name=n\n",
        "    self.age=a\n",
        "\n",
        "  def __str__(self):\n",
        "    #s=\"my name is  %s. i'm %i years old.\\n \" % (self.name,self.age)\n",
        "    s=f\"{self.number} my name is  {self.name}. i'm {self.age} years old.\\n \" \n",
        "    return s\n",
        "  \n",
        "  @staticmethod\n",
        "  def increment():\n",
        "    Person.counter += 1\n",
        "\n",
        "class employee(Person):\n",
        "  def __init__(self, n, a,p,s):\n",
        "    super().__init__(n, a)\n",
        "    self.pos=p\n",
        "    self.salary=s\n",
        "  def __str__(self):\n",
        "    s=\"my name is %s .i'm %s with %i-rubles salary \\n\" % (self.name,self.pos,self.salary)\n",
        "    return s\n",
        "    \n"
      ],
      "metadata": {
        "id": "NmobElzQlsAG"
      },
      "execution_count": 8,
      "outputs": []
    },
    {
      "cell_type": "code",
      "source": [
        "\n",
        "import pickle\n",
        "\n",
        "print(Person.counter)\n",
        "Person.increment()\n",
        "print(Person.counter)\n",
        "\n",
        "ivan=employee(\"ivan doberman\",24,\"boss\",1200)\n",
        "stepan=employee(\"stepan doberman\",23,\"underboss\",600)\n",
        "buba=employee(\"buba doberman\",22,\"big boss\",1600)\n",
        "\n",
        "company=[ivan,stepan,buba]\n",
        "\n",
        "buba.salary=1230\n",
        "\n",
        "\n",
        "for i in company:\n",
        "    print(i)\n",
        "print(\"exporting...\\n\")\n",
        "try:\n",
        "    dumfile=open(\"comp.db\",\"wb\")\n",
        "    res=pickle.dump(company,dumfile)\n",
        "except:\n",
        "    print(\"error\\n\")\n",
        "else:\n",
        "    print(\"done \\n\")\n",
        "finally:\n",
        "    dumfile.close()   \n",
        "\n",
        "print(\"after exporting...\\n\")    \n",
        "\n",
        "for i in company:\n",
        "    print(i)\n",
        "\n",
        "print(Person.__str__(buba))    "
      ],
      "metadata": {
        "colab": {
          "base_uri": "https://localhost:8080/"
        },
        "id": "tTajQFe5ltZw",
        "outputId": "9a4ffcf0-0c59-41a2-8216-fee1061e013a"
      },
      "execution_count": 9,
      "outputs": [
        {
          "output_type": "stream",
          "name": "stdout",
          "text": [
            "0\n",
            "1\n",
            "my name is ivan doberman .i'm boss with 1200-rubles salary \n",
            "\n",
            "my name is stepan doberman .i'm underboss with 600-rubles salary \n",
            "\n",
            "my name is buba doberman .i'm big boss with 1230-rubles salary \n",
            "\n",
            "exporting...\n",
            "\n",
            "done \n",
            "\n",
            "after exporting...\n",
            "\n",
            "my name is ivan doberman .i'm boss with 1200-rubles salary \n",
            "\n",
            "my name is stepan doberman .i'm underboss with 600-rubles salary \n",
            "\n",
            "my name is buba doberman .i'm big boss with 1230-rubles salary \n",
            "\n",
            "4 my name is  buba doberman. i'm 22 years old.\n",
            " \n"
          ]
        }
      ]
    },
    {
      "cell_type": "code",
      "source": [
        "def hamburger(meat):\n",
        "  print(\" \"+meat*4)\n",
        "  print(\" \"+meat*4)\n",
        "  print(\" \"+meat*4)\n",
        "  print()\n",
        "\n",
        "meat=\"говиадина\"\n",
        "hamburger(meat) "
      ],
      "metadata": {
        "colab": {
          "base_uri": "https://localhost:8080/"
        },
        "id": "ihcpEa7ArItw",
        "outputId": "f1d84c28-2e24-4423-bf19-bbff836f9629"
      },
      "execution_count": 24,
      "outputs": [
        {
          "output_type": "stream",
          "name": "stdout",
          "text": [
            " говиадинаговиадинаговиадинаговиадина\n",
            " говиадинаговиадинаговиадинаговиадина\n",
            " говиадинаговиадинаговиадинаговиадина\n",
            "\n"
          ]
        }
      ]
    },
    {
      "cell_type": "code",
      "source": [
        "def inner(func):\n",
        "  def wrapper(arg):\n",
        "    cheese=\"сыр\"*12\n",
        "    salad=\"зелень\"*6\n",
        "\n",
        "    print(cheese)\n",
        "    print()\n",
        "\n",
        "    func(meat) \n",
        "\n",
        "    print(salad)\n",
        "    print()\n",
        "  return wrapper\n",
        "\n",
        "\n",
        "def hamburger(meat):\n",
        "  print(\" \"+meat*4)\n",
        "  print(\" \"+meat*4)\n",
        "  print(\" \"+meat*4)\n",
        "  print()\n",
        "\n",
        "meat=\"говиадина_\"\n",
        "hamburger=inner(hamburger(meat))\n",
        "hamburger"
      ],
      "metadata": {
        "colab": {
          "base_uri": "https://localhost:8080/"
        },
        "id": "OzsfB0AOrOQQ",
        "outputId": "2b67b4c0-d06a-4990-b727-edb1e53d8944"
      },
      "execution_count": 25,
      "outputs": [
        {
          "output_type": "stream",
          "name": "stdout",
          "text": [
            " говиадина_говиадина_говиадина_говиадина_\n",
            " говиадина_говиадина_говиадина_говиадина_\n",
            " говиадина_говиадина_говиадина_говиадина_\n",
            "\n"
          ]
        },
        {
          "output_type": "execute_result",
          "data": {
            "text/plain": [
              "<function __main__.inner.<locals>.wrapper(arg)>"
            ]
          },
          "metadata": {},
          "execution_count": 25
        }
      ]
    },
    {
      "cell_type": "code",
      "source": [
        "def inner(func):\n",
        "  def wrapper(arg):\n",
        "    cheese=\"сыр\"*12\n",
        "    salad=\"зелень\"*6\n",
        "\n",
        "    print(cheese)\n",
        "    print()\n",
        "\n",
        "    func(meat) \n",
        "\n",
        "    print(salad)\n",
        "    print()\n",
        "  return wrapper\n",
        "\n",
        "@inner\n",
        "def hamburger(meat):\n",
        "  print(\" \"+meat*4)\n",
        "  print(\" \"+meat*4)\n",
        "  print(\" \"+meat*4)\n",
        "  print()\n",
        "\n",
        "meat=\"говиадина__\"\n",
        "hamburger=inner(hamburger(meat))\n",
        "hamburger"
      ],
      "metadata": {
        "colab": {
          "base_uri": "https://localhost:8080/"
        },
        "id": "wWbm700orX_V",
        "outputId": "d3796f48-9660-477e-ac40-855eb2087a13"
      },
      "execution_count": 26,
      "outputs": [
        {
          "output_type": "stream",
          "name": "stdout",
          "text": [
            "сырсырсырсырсырсырсырсырсырсырсырсыр\n",
            "\n",
            " говиадина__говиадина__говиадина__говиадина__\n",
            " говиадина__говиадина__говиадина__говиадина__\n",
            " говиадина__говиадина__говиадина__говиадина__\n",
            "\n",
            "зеленьзеленьзеленьзеленьзеленьзелень\n",
            "\n"
          ]
        },
        {
          "output_type": "execute_result",
          "data": {
            "text/plain": [
              "<function __main__.inner.<locals>.wrapper(arg)>"
            ]
          },
          "metadata": {},
          "execution_count": 26
        }
      ]
    },
    {
      "cell_type": "code",
      "source": [
        "def inner(func):\n",
        "  def wrapper(arg):\n",
        "    cheese=\"сыр\"*12\n",
        "    salad=\"зелень\"*6\n",
        "\n",
        "    print(cheese)\n",
        "    print()\n",
        "\n",
        "    func(meat) \n",
        "\n",
        "    print(salad)\n",
        "    print()\n",
        "  return wrapper\n",
        "\n",
        "@inner\n",
        "def hamburger(meat):\n",
        "  print(\" \"+meat*4)\n",
        "  print(\" \"+meat*4)\n",
        "  print(\" \"+meat*4)\n",
        "  print()\n",
        "\n",
        "meat=\"говиадина__\"\n",
        "hamburger(meat)\n",
        "hamburger"
      ],
      "metadata": {
        "colab": {
          "base_uri": "https://localhost:8080/"
        },
        "id": "EI_qOQDOtu4Z",
        "outputId": "61b79a2c-7d00-47df-dd0b-c36021312793"
      },
      "execution_count": 30,
      "outputs": [
        {
          "output_type": "stream",
          "name": "stdout",
          "text": [
            "сырсырсырсырсырсырсырсырсырсырсырсыр\n",
            "\n",
            " говиадина__говиадина__говиадина__говиадина__\n",
            " говиадина__говиадина__говиадина__говиадина__\n",
            " говиадина__говиадина__говиадина__говиадина__\n",
            "\n",
            "зеленьзеленьзеленьзеленьзеленьзелень\n",
            "\n"
          ]
        },
        {
          "output_type": "execute_result",
          "data": {
            "text/plain": [
              "<function __main__.inner.<locals>.wrapper(arg)>"
            ]
          },
          "metadata": {},
          "execution_count": 30
        }
      ]
    },
    {
      "cell_type": "code",
      "source": [
        "def bread(func):\n",
        "    def wrapper(arg):\n",
        "        bread = [\" \"*8+\"Хлеб\"*4,\"    \"+\"Хлеб\"*7,\"Хлеб\"*9]\n",
        "        print()\n",
        "        print(bread[0])\n",
        "        print(bread[1])\n",
        "        print(bread[2])\n",
        "        print()\n",
        "        \n",
        "        func(arg)\n",
        "        \n",
        "        print(bread[2])\n",
        "        print(bread[1])\n",
        "        print(bread[0])\n",
        "        print()\n",
        "        \n",
        "    return wrapper\n",
        "\n",
        "def inner(func):\n",
        "    def wrapper(arg):\n",
        "        cheese = \"Сыр\"*12\n",
        "        salad = \"Зелень\"*6\n",
        "        \n",
        "        print (cheese)\n",
        "        print()\n",
        "        \n",
        "        func(arg)\n",
        "        \n",
        "        print(salad)\n",
        "        print()\n",
        "    return wrapper\n",
        "\n",
        "@bread\n",
        "@inner\n",
        "def hamburger(meat):\n",
        "    print(\"  \"+meat*4)\n",
        "    print(\"  \"+meat*4)\n",
        "    print()\n",
        "\n",
        "meat = \"Говядина\"\n",
        "hamburger(meat)\n",
        "hamburger\n"
      ],
      "metadata": {
        "colab": {
          "base_uri": "https://localhost:8080/"
        },
        "id": "qXPpI4TCq8Tz",
        "outputId": "76f64fa2-c947-4d6b-8798-d2f3c84c7611"
      },
      "execution_count": 29,
      "outputs": [
        {
          "output_type": "stream",
          "name": "stdout",
          "text": [
            "\n",
            "        ХлебХлебХлебХлеб\n",
            "    ХлебХлебХлебХлебХлебХлебХлеб\n",
            "ХлебХлебХлебХлебХлебХлебХлебХлебХлеб\n",
            "\n",
            "СырСырСырСырСырСырСырСырСырСырСырСыр\n",
            "\n",
            "  ГовядинаГовядинаГовядинаГовядина\n",
            "  ГовядинаГовядинаГовядинаГовядина\n",
            "\n",
            "ЗеленьЗеленьЗеленьЗеленьЗеленьЗелень\n",
            "\n",
            "ХлебХлебХлебХлебХлебХлебХлебХлебХлеб\n",
            "    ХлебХлебХлебХлебХлебХлебХлеб\n",
            "        ХлебХлебХлебХлеб\n",
            "\n"
          ]
        },
        {
          "output_type": "execute_result",
          "data": {
            "text/plain": [
              "<function __main__.bread.<locals>.wrapper(arg)>"
            ]
          },
          "metadata": {},
          "execution_count": 29
        }
      ]
    }
  ]
}