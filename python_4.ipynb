{
  "nbformat": 4,
  "nbformat_minor": 0,
  "metadata": {
    "colab": {
      "provenance": []
    },
    "kernelspec": {
      "name": "python3",
      "display_name": "Python 3"
    },
    "language_info": {
      "name": "python"
    }
  },
  "cells": [
    {
      "cell_type": "markdown",
      "source": [
        "Теперь давайте создадим функцию, принимающую на вход один аргумент. Пусть функция принимает на вход время в минутах и печатает соответствующее этому числу минут целое число часов и остаток минут."
      ],
      "metadata": {
        "id": "DplXZ3jvuSI2"
      }
    },
    {
      "cell_type": "code",
      "execution_count": 1,
      "metadata": {
        "colab": {
          "base_uri": "https://localhost:8080/"
        },
        "id": "yBYO5mr-oHm9",
        "outputId": "7f748936-1830-47e2-d019-ac4c632a5880"
      },
      "outputs": [
        {
          "output_type": "stream",
          "name": "stdout",
          "text": [
            "Hours: 1\n",
            "Minutes left: 30\n"
          ]
        }
      ],
      "source": [
        "def print_hours(minutes):\n",
        "    # // — это оператор целочисленного деления\n",
        "    hours = minutes // 60\n",
        "    # % — это оператор получения остатка от деления\n",
        "    left_minutes = minutes % 60\n",
        "    print(\"Hours:\", hours)\n",
        "    print(\"Minutes left:\", left_minutes)\n",
        "    \n",
        "print_hours(90)"
      ]
    },
    {
      "cell_type": "markdown",
      "source": [
        "ОПЕРАТОР RETURN\n",
        "\n",
        "→ Итак, вы научились создавать функцию и даже перечислять в ней некоторые инструкции. Однако очень важным свойством является возможность получать результат её выполнения, например в зависимости от переданных в неё аргументов.\n",
        "\n",
        "Оператор, который позволяет функции передать какой-либо объект (число, строку, список, даже другую функцию) в то место кода, откуда вызывалась функция, называется return (от англ. \"return\" — «возвращать»). При этом говорят, что функция возвращает какой-либо результат.\n",
        "\n",
        "Давайте напишем функцию, которая принимает на вход расстояние и среднюю скорость и возвращает время в пути:"
      ],
      "metadata": {
        "id": "bNVEPjTkueSo"
      }
    },
    {
      "cell_type": "code",
      "source": [
        "# Назовём функцию get_time (get — получать,\n",
        "# time — время). Она принимает аргументы\n",
        "# distance — расстояние и speed — скорость.\n",
        "def get_time(distance, speed):\n",
        "    # В переменную result сохраним результат\n",
        "    # деления расстояния на скорость.\n",
        "    result = distance / speed\n",
        "\n",
        "    # Чтобы вернуть результат вычислений,\n",
        "    # пишем оператор return и название переменной,\n",
        "    # значение которой будет передано.\n",
        "    return result"
      ],
      "metadata": {
        "id": "4QXfYBtYuVWU"
      },
      "execution_count": 2,
      "outputs": []
    },
    {
      "cell_type": "code",
      "source": [
        "# В переменную time сохранится результат вычисления\n",
        "# времени в пути длиной 120 км при скорости 60 км/ч.\n",
        "time = get_time(120, 60)"
      ],
      "metadata": {
        "id": "XjVuq8k5ujpp"
      },
      "execution_count": 3,
      "outputs": []
    },
    {
      "cell_type": "code",
      "source": [
        "print(\"Travel time will be:\", time, \"hours\")\n",
        "# Будет напечатано:\n",
        "# Travel time will be: 2 hours"
      ],
      "metadata": {
        "colab": {
          "base_uri": "https://localhost:8080/"
        },
        "id": "39TdjFM5ulgv",
        "outputId": "b17eb8dc-b48c-40a9-d156-e27dfeeae39a"
      },
      "execution_count": 4,
      "outputs": [
        {
          "output_type": "stream",
          "name": "stdout",
          "text": [
            "Travel time will be: 2.0 hours\n"
          ]
        }
      ]
    },
    {
      "cell_type": "markdown",
      "source": [
        "RETURN И НЕСКОЛЬКО ПЕРЕМЕННЫХ\n",
        "\n",
        "Иногда бывает необходимо вернуть сразу несколько значений одной функцией. Например, мы хотим узнать целое число часов и минут в пути.\n",
        "\n",
        "В Python достаточно перечислить несколько аргументов через запятую, чтобы они вернулись вместе в виде кортежа.\n",
        "\n",
        "Вот так будет выглядеть модифицированная функция из предыдущего пункта:"
      ],
      "metadata": {
        "id": "FCLoNDqau0-1"
      }
    },
    {
      "cell_type": "code",
      "source": [
        "def get_time_tuple(distance, speed):\n",
        "    # Получаем целое число часов в пути\n",
        "    hours = distance // speed\n",
        "    # Получаем остаток км в пути\n",
        "    distance_left = distance % speed\n",
        "    # Переводим скорость из км/ч в км/мин:\n",
        "    # за одну минуту можно проехать расстояние\n",
        "    # в 60 раз меньше, чем за 1 час\n",
        "    kms_per_minute = speed / 60\n",
        "    # Делим оставшееся расстояние на скорость в км/мин.\n",
        "    # и округляем до целого\n",
        "    minutes = round(distance_left / kms_per_minute)\n",
        "    \n",
        "    # Перечисляем аргументы через запятую.\n",
        "    # Они будут возвращены функцией в виде кортежа.\n",
        "    return hours, minutes"
      ],
      "metadata": {
        "id": "5LClTsb0uoZH"
      },
      "execution_count": 5,
      "outputs": []
    },
    {
      "cell_type": "markdown",
      "source": [
        "Теперь вызовем функцию get_time_tuple, сохраним результат в переменную result и напечатаем её:"
      ],
      "metadata": {
        "id": "9Pp9ndiBu6UL"
      }
    },
    {
      "cell_type": "code",
      "source": [
        "result = get_time_tuple(120, 100)\n",
        "print(result)"
      ],
      "metadata": {
        "colab": {
          "base_uri": "https://localhost:8080/"
        },
        "id": "prPMQI1Ru4Tf",
        "outputId": "e5bccdf9-2a0b-40ae-9c8f-e1b73193d2d3"
      },
      "execution_count": 6,
      "outputs": [
        {
          "output_type": "stream",
          "name": "stdout",
          "text": [
            "(1, 12)\n"
          ]
        }
      ]
    },
    {
      "cell_type": "code",
      "source": [
        "# Нулевой элемент кортежа — часы\n",
        "# Первый элемент —  минуты\n",
        "print(\"Hours to travel:\", result[0])\n",
        "print(\"Minutes to travel:\", result[1])"
      ],
      "metadata": {
        "colab": {
          "base_uri": "https://localhost:8080/"
        },
        "id": "Iu6w7a2Eu8Hr",
        "outputId": "174bd575-e40a-4020-debf-b968a930ea97"
      },
      "execution_count": 7,
      "outputs": [
        {
          "output_type": "stream",
          "name": "stdout",
          "text": [
            "Hours to travel: 1\n",
            "Minutes to travel: 12\n"
          ]
        }
      ]
    },
    {
      "cell_type": "markdown",
      "source": [
        "Также мы можем получить результат выполнения функции сразу в две переменные без необходимости обращаться к элементам tuple.\n",
        "\n",
        "Важно, чтобы количество переменных перед знаком = совпадало с количеством переменных, которое возвращает функция."
      ],
      "metadata": {
        "id": "9nNYZyLYvAk_"
      }
    },
    {
      "cell_type": "code",
      "source": [
        "# Через запятую перечисляем переменные, в которые сохранится результат\n",
        "hours, minutes = get_time_tuple(120, 100)\n",
        "# Красиво напечатаем результат\n",
        "print(\"Hours to travel:\", hours)\n",
        "print(\"Minutes to travel:\", minutes)"
      ],
      "metadata": {
        "colab": {
          "base_uri": "https://localhost:8080/"
        },
        "id": "acF5hN1du-b1",
        "outputId": "303d8471-0953-4a77-b4b9-d3d22a305387"
      },
      "execution_count": 8,
      "outputs": [
        {
          "output_type": "stream",
          "name": "stdout",
          "text": [
            "Hours to travel: 1\n",
            "Minutes to travel: 12\n"
          ]
        }
      ]
    },
    {
      "cell_type": "markdown",
      "source": [
        "Давайте проверим всё это на примере функции, которая принимает на вход список и объект, который необходимо в нём найти. Она ищет его в цикле и возвращает True, если объект найден, и False, если его в списке нет.\n",
        "\n",
        "Примечание. Это действие в Python можно легко совершить с помощью оператора in, однако нам важно сейчас разобраться с оператором return, поэтому напишем для этого специальную функцию."
      ],
      "metadata": {
        "id": "bGuY7xMRvHYj"
      }
    },
    {
      "cell_type": "code",
      "source": [
        "#list_in — список, в котором будем искать объект\n",
        "# Интуитивно хотелось бы назвать аргумент для списка\n",
        "# словом list, однако это привело бы к изменению встроенного\n",
        "# объекта list, что очень нежелательно\n",
        "# obj — аргумент, содержащий объект, который ищет функция\n",
        "def in_list(list_in, obj):\n",
        "    for elem in list_in:\n",
        "        if obj == elem:\n",
        "            print(\"Element is found!\")\n",
        "            return True\n",
        "            print(\"This won’t be printed\")\n",
        "    print(\"Element is NOT found!\")\n",
        "    return False\n",
        "    print(\"This will not be printed either\")"
      ],
      "metadata": {
        "id": "8H5raKnmvCUj"
      },
      "execution_count": 9,
      "outputs": []
    },
    {
      "cell_type": "code",
      "source": [
        "my_list = [1,2,5,7,10]\n",
        "result = in_list(my_list, 3)\n",
        "# Element is NOT found!\n",
        "print(result)\n",
        "# False\n",
        "result = in_list(my_list, 7)\n",
        "# Element is found!\n",
        "print(result)"
      ],
      "metadata": {
        "colab": {
          "base_uri": "https://localhost:8080/"
        },
        "id": "RPQaPno4vMUX",
        "outputId": "83531c7e-9bf8-4712-c240-d7c10df73050"
      },
      "execution_count": 10,
      "outputs": [
        {
          "output_type": "stream",
          "name": "stdout",
          "text": [
            "Element is NOT found!\n",
            "False\n",
            "Element is found!\n",
            "True\n"
          ]
        }
      ]
    },
    {
      "cell_type": "markdown",
      "source": [
        "Как вы могли заметить, команды print, следующие за оператором return, выполнены не были, а выход из цикла произошёл сразу после того, как встретился return, поэтому использование break не потребовалось."
      ],
      "metadata": {
        "id": "aasSFVw2vXNh"
      }
    },
    {
      "cell_type": "markdown",
      "source": [
        "Напишите функцию get_total, которая принимает на вход число единиц товара и стоимость каждой единицы. Функция возвращает одно число — общую стоимость данного числа товаров.\n",
        "\n",
        "Пример:\n",
        "\n",
        "print(get_total(15, 50))"
      ],
      "metadata": {
        "id": "Tp1hNFe6v3NA"
      }
    },
    {
      "cell_type": "code",
      "source": [
        "def get_total(units, price):\n",
        "    return units * price\n",
        "print(get_total(15, 50))    "
      ],
      "metadata": {
        "colab": {
          "base_uri": "https://localhost:8080/"
        },
        "id": "EkLfGRalvODh",
        "outputId": "2a02f459-56a4-4102-8039-413ed9d30b19"
      },
      "execution_count": 11,
      "outputs": [
        {
          "output_type": "stream",
          "name": "stdout",
          "text": [
            "750\n"
          ]
        }
      ]
    },
    {
      "cell_type": "markdown",
      "source": [
        "![image.png](data:image/png;base64,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)"
      ],
      "metadata": {
        "id": "sZbNYfJnwGdn"
      }
    },
    {
      "cell_type": "markdown",
      "source": [
        "Теперь обработаем это исключение, то есть покажем интерпретатору, что:\n",
        "\n",
        "нам известно о том, что такая ошибка может возникнуть;\n",
        "мы предусмотрели, что делать в этом случае;\n",
        "аварийное прекращение работы скрипта не требуется.\n",
        "Код будет выглядеть вот так:"
      ],
      "metadata": {
        "id": "NbeXAhCmwNbR"
      }
    },
    {
      "cell_type": "code",
      "source": [
        "# Создадим тот же словарь\n",
        "grades = {'Ivanov': 5, 'Smirnov': 3, 'Kuznetsova': 4, 'Tihonova': 5}\n",
        "# Только попробуем (try — пробовать) напечатать оценку студента,\n",
        "# которого нет в словаре\n",
        "try:\n",
        "    print(grades['Pavlov'])\n",
        "# А если возникнет ошибка в ключе (KeyError), скажем,\n",
        "# что студента нет в словаре\n",
        "except KeyError:\n",
        "    print(\"Student’s mark was not found!\")"
      ],
      "metadata": {
        "colab": {
          "base_uri": "https://localhost:8080/"
        },
        "id": "r5z0MES9wHcN",
        "outputId": "d271424c-01f8-49de-aeb6-7ca0fc3e1723"
      },
      "execution_count": 12,
      "outputs": [
        {
          "output_type": "stream",
          "name": "stdout",
          "text": [
            "Student’s mark was not found!\n"
          ]
        }
      ]
    },
    {
      "cell_type": "markdown",
      "source": [
        "После того как вы повторили обработку исключений, настало время научиться генерировать исключения самостоятельно. Давайте вспомним функцию из предыдущего юнита, которая считала время в пути для заданного расстояния и скорости:"
      ],
      "metadata": {
        "id": "v36zI4q6wVFZ"
      }
    },
    {
      "cell_type": "code",
      "source": [
        "def get_time(distance, speed):\n",
        "    result = distance / speed\n",
        "    return result\n"
      ],
      "metadata": {
        "id": "Cazexu7xwSLm"
      },
      "execution_count": 13,
      "outputs": []
    },
    {
      "cell_type": "markdown",
      "source": [
        "ока что не имеет значения, какие значения подаются на вход функции: если они являются числами (int или float), а скорость не равна 0 (иначе возникает деление на ноль, и Python выдаёт ошибку ZeroDivisionError), то функция сработает и выдаст результат. Однако, скорее всего, вам понятно, что расстояние, как и скорость, не могут быть отрицательными. Иначе расчёт времени в пути противоречит здравому смыслу: что же означает отрицательное время в пути?\n",
        "\n",
        "Чтобы случайно не передать в функцию get_time некорректные аргументы и не допустить ошибку, добавим их проверку. Если окажется, что аргументы меньше нуля, вызовем ValueError с помощью оператора raise.\n",
        "\n",
        "После встречи с raise, как и в случае с return, интерпретатор прекращает исполнение кода функции."
      ],
      "metadata": {
        "id": "Gp126dVSwwqP"
      }
    },
    {
      "cell_type": "code",
      "source": [
        "def get_time(distance, speed):\n",
        "    # Если расстояние или скорость отрицательные, то возвращаем ошибку\n",
        "    if distance < 0 or speed < 0:\n",
        "        # Оператор raise возвращает (raise — досл. англ. \"поднимать\")\n",
        "        # объект-исключение. В данном случае ValueError (некорректное значение).\n",
        "        # Дополнительно в скобках после слова ValueError пишем текст сообщения\n",
        "        # об ошибке, чтобы сразу было понятно, чем вызвана ошибка.\n",
        "        raise ValueError(\"Distance or speed cannot be below 0!\")\n",
        "    result = distance / speed\n",
        "    return result"
      ],
      "metadata": {
        "id": "27enm-FMwXwK"
      },
      "execution_count": 14,
      "outputs": []
    },
    {
      "cell_type": "code",
      "source": [
        "get_time(-25, 100)"
      ],
      "metadata": {
        "colab": {
          "base_uri": "https://localhost:8080/",
          "height": 287
        },
        "id": "VKMbZyt6w4s1",
        "outputId": "5e24ec1d-8dbf-404b-af8e-080145c0bcc9"
      },
      "execution_count": 15,
      "outputs": [
        {
          "output_type": "error",
          "ename": "ValueError",
          "evalue": "ignored",
          "traceback": [
            "\u001b[0;31m---------------------------------------------------------------------------\u001b[0m",
            "\u001b[0;31mValueError\u001b[0m                                Traceback (most recent call last)",
            "\u001b[0;32m<ipython-input-15-25cded273311>\u001b[0m in \u001b[0;36m<module>\u001b[0;34m\u001b[0m\n\u001b[0;32m----> 1\u001b[0;31m \u001b[0mget_time\u001b[0m\u001b[0;34m(\u001b[0m\u001b[0;34m-\u001b[0m\u001b[0;36m25\u001b[0m\u001b[0;34m,\u001b[0m \u001b[0;36m100\u001b[0m\u001b[0;34m)\u001b[0m\u001b[0;34m\u001b[0m\u001b[0;34m\u001b[0m\u001b[0m\n\u001b[0m",
            "\u001b[0;32m<ipython-input-14-f74ccbe1e152>\u001b[0m in \u001b[0;36mget_time\u001b[0;34m(distance, speed)\u001b[0m\n\u001b[1;32m      6\u001b[0m         \u001b[0;31m# Дополнительно в скобках после слова ValueError пишем текст сообщения\u001b[0m\u001b[0;34m\u001b[0m\u001b[0;34m\u001b[0m\u001b[0m\n\u001b[1;32m      7\u001b[0m         \u001b[0;31m# об ошибке, чтобы сразу было понятно, чем вызвана ошибка.\u001b[0m\u001b[0;34m\u001b[0m\u001b[0;34m\u001b[0m\u001b[0m\n\u001b[0;32m----> 8\u001b[0;31m         \u001b[0;32mraise\u001b[0m \u001b[0mValueError\u001b[0m\u001b[0;34m(\u001b[0m\u001b[0;34m\"Distance or speed cannot be below 0!\"\u001b[0m\u001b[0;34m)\u001b[0m\u001b[0;34m\u001b[0m\u001b[0;34m\u001b[0m\u001b[0m\n\u001b[0m\u001b[1;32m      9\u001b[0m     \u001b[0mresult\u001b[0m \u001b[0;34m=\u001b[0m \u001b[0mdistance\u001b[0m \u001b[0;34m/\u001b[0m \u001b[0mspeed\u001b[0m\u001b[0;34m\u001b[0m\u001b[0;34m\u001b[0m\u001b[0m\n\u001b[1;32m     10\u001b[0m     \u001b[0;32mreturn\u001b[0m \u001b[0mresult\u001b[0m\u001b[0;34m\u001b[0m\u001b[0;34m\u001b[0m\u001b[0m\n",
            "\u001b[0;31mValueError\u001b[0m: Distance or speed cannot be below 0!"
          ]
        }
      ]
    },
    {
      "cell_type": "code",
      "source": [
        "get_time(50, -100)"
      ],
      "metadata": {
        "colab": {
          "base_uri": "https://localhost:8080/",
          "height": 287
        },
        "id": "jIN7vmDnw6vB",
        "outputId": "9cc0c4f0-779c-4d6b-a558-08902abc85c8"
      },
      "execution_count": 16,
      "outputs": [
        {
          "output_type": "error",
          "ename": "ValueError",
          "evalue": "ignored",
          "traceback": [
            "\u001b[0;31m---------------------------------------------------------------------------\u001b[0m",
            "\u001b[0;31mValueError\u001b[0m                                Traceback (most recent call last)",
            "\u001b[0;32m<ipython-input-16-6385f4a0e849>\u001b[0m in \u001b[0;36m<module>\u001b[0;34m\u001b[0m\n\u001b[0;32m----> 1\u001b[0;31m \u001b[0mget_time\u001b[0m\u001b[0;34m(\u001b[0m\u001b[0;36m50\u001b[0m\u001b[0;34m,\u001b[0m \u001b[0;34m-\u001b[0m\u001b[0;36m100\u001b[0m\u001b[0;34m)\u001b[0m\u001b[0;34m\u001b[0m\u001b[0;34m\u001b[0m\u001b[0m\n\u001b[0m",
            "\u001b[0;32m<ipython-input-14-f74ccbe1e152>\u001b[0m in \u001b[0;36mget_time\u001b[0;34m(distance, speed)\u001b[0m\n\u001b[1;32m      6\u001b[0m         \u001b[0;31m# Дополнительно в скобках после слова ValueError пишем текст сообщения\u001b[0m\u001b[0;34m\u001b[0m\u001b[0;34m\u001b[0m\u001b[0m\n\u001b[1;32m      7\u001b[0m         \u001b[0;31m# об ошибке, чтобы сразу было понятно, чем вызвана ошибка.\u001b[0m\u001b[0;34m\u001b[0m\u001b[0;34m\u001b[0m\u001b[0m\n\u001b[0;32m----> 8\u001b[0;31m         \u001b[0;32mraise\u001b[0m \u001b[0mValueError\u001b[0m\u001b[0;34m(\u001b[0m\u001b[0;34m\"Distance or speed cannot be below 0!\"\u001b[0m\u001b[0;34m)\u001b[0m\u001b[0;34m\u001b[0m\u001b[0;34m\u001b[0m\u001b[0m\n\u001b[0m\u001b[1;32m      9\u001b[0m     \u001b[0mresult\u001b[0m \u001b[0;34m=\u001b[0m \u001b[0mdistance\u001b[0m \u001b[0;34m/\u001b[0m \u001b[0mspeed\u001b[0m\u001b[0;34m\u001b[0m\u001b[0;34m\u001b[0m\u001b[0m\n\u001b[1;32m     10\u001b[0m     \u001b[0;32mreturn\u001b[0m \u001b[0mresult\u001b[0m\u001b[0;34m\u001b[0m\u001b[0;34m\u001b[0m\u001b[0m\n",
            "\u001b[0;31mValueError\u001b[0m: Distance or speed cannot be below 0!"
          ]
        }
      ]
    },
    {
      "cell_type": "code",
      "source": [
        "get_time(50, -100)"
      ],
      "metadata": {
        "colab": {
          "base_uri": "https://localhost:8080/",
          "height": 287
        },
        "id": "lr3XnSHAw8fn",
        "outputId": "4747bced-7009-43c7-e725-2bf0f4c263b4"
      },
      "execution_count": 17,
      "outputs": [
        {
          "output_type": "error",
          "ename": "ValueError",
          "evalue": "ignored",
          "traceback": [
            "\u001b[0;31m---------------------------------------------------------------------------\u001b[0m",
            "\u001b[0;31mValueError\u001b[0m                                Traceback (most recent call last)",
            "\u001b[0;32m<ipython-input-17-6385f4a0e849>\u001b[0m in \u001b[0;36m<module>\u001b[0;34m\u001b[0m\n\u001b[0;32m----> 1\u001b[0;31m \u001b[0mget_time\u001b[0m\u001b[0;34m(\u001b[0m\u001b[0;36m50\u001b[0m\u001b[0;34m,\u001b[0m \u001b[0;34m-\u001b[0m\u001b[0;36m100\u001b[0m\u001b[0;34m)\u001b[0m\u001b[0;34m\u001b[0m\u001b[0;34m\u001b[0m\u001b[0m\n\u001b[0m",
            "\u001b[0;32m<ipython-input-14-f74ccbe1e152>\u001b[0m in \u001b[0;36mget_time\u001b[0;34m(distance, speed)\u001b[0m\n\u001b[1;32m      6\u001b[0m         \u001b[0;31m# Дополнительно в скобках после слова ValueError пишем текст сообщения\u001b[0m\u001b[0;34m\u001b[0m\u001b[0;34m\u001b[0m\u001b[0m\n\u001b[1;32m      7\u001b[0m         \u001b[0;31m# об ошибке, чтобы сразу было понятно, чем вызвана ошибка.\u001b[0m\u001b[0;34m\u001b[0m\u001b[0;34m\u001b[0m\u001b[0m\n\u001b[0;32m----> 8\u001b[0;31m         \u001b[0;32mraise\u001b[0m \u001b[0mValueError\u001b[0m\u001b[0;34m(\u001b[0m\u001b[0;34m\"Distance or speed cannot be below 0!\"\u001b[0m\u001b[0;34m)\u001b[0m\u001b[0;34m\u001b[0m\u001b[0;34m\u001b[0m\u001b[0m\n\u001b[0m\u001b[1;32m      9\u001b[0m     \u001b[0mresult\u001b[0m \u001b[0;34m=\u001b[0m \u001b[0mdistance\u001b[0m \u001b[0;34m/\u001b[0m \u001b[0mspeed\u001b[0m\u001b[0;34m\u001b[0m\u001b[0;34m\u001b[0m\u001b[0m\n\u001b[1;32m     10\u001b[0m     \u001b[0;32mreturn\u001b[0m \u001b[0mresult\u001b[0m\u001b[0;34m\u001b[0m\u001b[0;34m\u001b[0m\u001b[0m\n",
            "\u001b[0;31mValueError\u001b[0m: Distance or speed cannot be below 0!"
          ]
        }
      ]
    },
    {
      "cell_type": "markdown",
      "source": [
        "Как видите, теперь при попытке передать некорректные аргументы вы сразу получаете сообщение об ошибке и понимаете, что входные данные необходимо изменить, чтобы они соответствовали требованиям функции."
      ],
      "metadata": {
        "id": "up2Cfl7MxJGq"
      }
    },
    {
      "cell_type": "markdown",
      "source": [
        "Попробуйте добавить в новую функцию get_time из примера выше проверку скорости на равенство нулю. Если скорость равна нулю, верните ValueError с сообщением \"Speed cannot be equal to 0!\".\n",
        "\n",
        "Вы можете проверить своё решение, вызвав функцию get_time:"
      ],
      "metadata": {
        "id": "WhHGuma107pe"
      }
    },
    {
      "cell_type": "code",
      "source": [
        "def get_time(distance, speed):\n",
        "    if distance < 0 or speed < 0:\n",
        "        raise ValueError('Distance or speed cannot be below 0!')\n",
        "    if speed == 0:\n",
        "        raise ValueError('Speed cannot be equal to 0!')\n",
        "    result = distance / speed\n",
        "    return result"
      ],
      "metadata": {
        "id": "SJLS9ZXKxFcP"
      },
      "execution_count": 18,
      "outputs": []
    },
    {
      "cell_type": "code",
      "source": [
        "#попытка вызвать функцию с некорректными аргументами\n",
        "try:\n",
        "    print(get_time(100, 0))\n",
        "#должна завершиться с ошибкой ValueError, которую мы выведем в блоке except\n",
        "except ValueError as e:\n",
        "    print(e)"
      ],
      "metadata": {
        "colab": {
          "base_uri": "https://localhost:8080/"
        },
        "id": "xCPpJ7Yk1AKY",
        "outputId": "a20ee284-ab3c-4952-d84d-84d5b3c908d3"
      },
      "execution_count": 19,
      "outputs": [
        {
          "output_type": "stream",
          "name": "stdout",
          "text": [
            "Speed cannot be equal to 0!\n"
          ]
        }
      ]
    },
    {
      "cell_type": "code",
      "source": [
        "def get_time(distance, speed):\n",
        "    if speed == 0:\n",
        "        raise ValueError('Speed cannot be equal to 0!')\n",
        "    if distance < 0 or speed < 0:\n",
        "        raise ValueError('Distance or speed cannot be below 0!')\n",
        "    result = distance / speed\n",
        "    return result\n",
        "#попытка вызвать функцию с некорректными аргументами\n",
        "try:\n",
        "    print(get_time(100, 0))\n",
        "#должна завершиться с ошибкой ValueError, которую мы выведем в блоке except\n",
        "except ValueError as e:\n",
        "    print(e)    "
      ],
      "metadata": {
        "colab": {
          "base_uri": "https://localhost:8080/"
        },
        "id": "-ScSxXN61N4u",
        "outputId": "4bb3599e-78a4-4d36-8272-22fd3a4cfaaa"
      },
      "execution_count": 20,
      "outputs": [
        {
          "output_type": "stream",
          "name": "stdout",
          "text": [
            "Speed cannot be equal to 0!\n"
          ]
        }
      ]
    },
    {
      "cell_type": "markdown",
      "source": [
        "АРГУМЕНТЫ ПО УМОЛЧАНИЮ\n",
        "\n",
        "Представьте, что вы пришли в ресторан быстрого питания с золотой буквой M на логотипе и заказали колу среднего размера. Скорее всего, продавец не спросит вас, добавлять ли в напиток лёд, но при этом в газировке лёд будет.\n",
        "Допустим, вы хотели напиток безо льда, но не сообщили об этом. К сожалению, в этом случае вы по умолчанию получили колу со льдом. А ведь вам всего-то нужно было сказать, что лёд не требуется!\n",
        "Точно так же можно создавать функции, в которые можно передавать не все аргументы, а, например, задать часть аргументов (или даже все) аргументами по умолчанию, то есть сообщить функции, какие данные использовать, если они не были переданы в функцию извне.\n",
        "\n",
        "Очень важный пример использования аргументов по умолчанию — обработка даты.\n",
        "\n",
        "По долгу службы вам предстоит обрабатывать даты, записанные в различных форматах, например, чтобы оценить популярность какого-либо сервиса в зависимости от месяца. Чаще всего, находясь в России или Европе, вы будете сталкиваться с привычным форматом вроде 19.05.2021 (то есть дд.мм.гггг). Однако в США, например, дату записывают по-другому: 05.19.2021 (то есть мм.дд.гггг). Когда вы будете писать функцию, чтобы узнать номер месяца из даты, будет удобно по умолчанию использовать привычный формат, но при этом оставить возможность при необходимости передать в функцию необычный формат даты.\n",
        "\n",
        "Аргументы по умолчанию задаются в Python очень просто: достаточно после названия переменной сразу же прописать знак = (равно) и то значение, которое вы бы хотели присвоить по умолчанию.\n",
        "\n",
        "Давайте напишем шуточную функцию get_cola, которая принимает на вход только один аргумент — ice. ice будет принимать значения True или False, причём по умолчанию будет задано True. В зависимости от True или False функция будет печатать \"Кола со льдом готова!\" или \"Кола безо льда готова!\", соответственно.\n",
        "\n",
        "Вот её исходный код:"
      ],
      "metadata": {
        "id": "koTG2aBv2cY8"
      }
    },
    {
      "cell_type": "code",
      "source": [
        "# С помощью оператора '=' присвоим\n",
        "# переменной ice значение True по умолчанию\n",
        "def get_cola(ice=True):\n",
        "    if ice == True:\n",
        "        print(\"Cola with ice is ready!\")\n",
        "    else:\n",
        "        print(\"Cola without ice is ready!\")"
      ],
      "metadata": {
        "id": "VKla3M0r1Pzc"
      },
      "execution_count": 21,
      "outputs": []
    },
    {
      "cell_type": "code",
      "source": [
        "get_cola(True)"
      ],
      "metadata": {
        "colab": {
          "base_uri": "https://localhost:8080/"
        },
        "id": "6yicJO9E2eTc",
        "outputId": "2cc8da69-f46d-4ef2-d9ba-1981e924431f"
      },
      "execution_count": 22,
      "outputs": [
        {
          "output_type": "stream",
          "name": "stdout",
          "text": [
            "Cola with ice is ready!\n"
          ]
        }
      ]
    },
    {
      "cell_type": "code",
      "source": [
        "get_cola(False)"
      ],
      "metadata": {
        "colab": {
          "base_uri": "https://localhost:8080/"
        },
        "id": "-Iqnfq792gEE",
        "outputId": "4a525122-69b9-4348-8309-41a885462427"
      },
      "execution_count": 23,
      "outputs": [
        {
          "output_type": "stream",
          "name": "stdout",
          "text": [
            "Cola without ice is ready!\n"
          ]
        }
      ]
    },
    {
      "cell_type": "markdown",
      "source": [
        "Как видите, в поведении функции пока что нет ничего необычного, однако давайте запустим функцию без аргументов:"
      ],
      "metadata": {
        "id": "jne4i5Ex3N1q"
      }
    },
    {
      "cell_type": "code",
      "source": [
        "get_cola()"
      ],
      "metadata": {
        "colab": {
          "base_uri": "https://localhost:8080/"
        },
        "id": "j0YNCpaS3Jzt",
        "outputId": "826f3e75-e838-4d0a-87ce-8da759933acf"
      },
      "execution_count": 24,
      "outputs": [
        {
          "output_type": "stream",
          "name": "stdout",
          "text": [
            "Cola with ice is ready!\n"
          ]
        }
      ]
    },
    {
      "cell_type": "markdown",
      "source": [
        "Функция сработала и без передачи аргументов, и мы по умолчанию получили колу со льдом.\n",
        "\n",
        "Посмотрим теперь, что бы произошло, если бы мы не указали при создании функции значение по умолчанию для аргумента ice:"
      ],
      "metadata": {
        "id": "4GxhpwIx3TAw"
      }
    },
    {
      "cell_type": "code",
      "source": [
        "# Аргументу ice не присваиваем значение по умолчанию:\n",
        "def get_cola(ice):\n",
        "    if ice == True:\n",
        "        print(\"Cola with ice is ready!\")\n",
        "    else:\n",
        "        print(\"Cola without ice is ready!\")\n",
        " \n",
        "get_cola()"
      ],
      "metadata": {
        "colab": {
          "base_uri": "https://localhost:8080/",
          "height": 200
        },
        "id": "WiV5WuYe3P3n",
        "outputId": "ea65e362-efc6-4624-c842-bf67e6384c9e"
      },
      "execution_count": 25,
      "outputs": [
        {
          "output_type": "error",
          "ename": "TypeError",
          "evalue": "ignored",
          "traceback": [
            "\u001b[0;31m---------------------------------------------------------------------------\u001b[0m",
            "\u001b[0;31mTypeError\u001b[0m                                 Traceback (most recent call last)",
            "\u001b[0;32m<ipython-input-25-30bc27e04021>\u001b[0m in \u001b[0;36m<module>\u001b[0;34m\u001b[0m\n\u001b[1;32m      6\u001b[0m         \u001b[0mprint\u001b[0m\u001b[0;34m(\u001b[0m\u001b[0;34m\"Cola without ice is ready!\"\u001b[0m\u001b[0;34m)\u001b[0m\u001b[0;34m\u001b[0m\u001b[0;34m\u001b[0m\u001b[0m\n\u001b[1;32m      7\u001b[0m \u001b[0;34m\u001b[0m\u001b[0m\n\u001b[0;32m----> 8\u001b[0;31m \u001b[0mget_cola\u001b[0m\u001b[0;34m(\u001b[0m\u001b[0;34m)\u001b[0m\u001b[0;34m\u001b[0m\u001b[0;34m\u001b[0m\u001b[0m\n\u001b[0m",
            "\u001b[0;31mTypeError\u001b[0m: get_cola() missing 1 required positional argument: 'ice'"
          ]
        }
      ]
    },
    {
      "cell_type": "markdown",
      "source": [
        "Вы заметили, что возникла ошибка. Она переводится так: «В функции get_cola() не хватает одного обязательного позиционного аргумента 'ice'».\n",
        "\n",
        "Итак, использование аргументов по умолчанию позволяет передавать в функцию не все аргументы и не получать из-за этого сообщение об ошибке. Можно сказать, что если у аргумента есть значение по умолчанию, он становится необязательным.\n",
        "\n",
        "Теперь напишем более серьёзную функцию: она будет извлекать корень n-ой степени из заданного числа. Назовём функцию root. Она будет принимать на вход value (число, из которого необходимо извлечь корень) и n (степень корня).\n",
        "\n",
        "Давайте вспомним, что для возведения в степень в Python используется оператор **:"
      ],
      "metadata": {
        "id": "YjUeAtGK3Zry"
      }
    },
    {
      "cell_type": "code",
      "source": [
        "# В функцию должны передаваться 2 значения:\n",
        "# число и степень корня\n",
        "def root(value, n):\n",
        "    # Как мы уже выяснили, чтобы посчитать\n",
        "    # корень степени n из числа, можно возвести это число\n",
        "    # в степень 1/n\n",
        "    result = value ** (1/n)\n",
        "    return result\n",
        "\n",
        "# Посчитаем корень 3-ей степени (кубический корень) из 27\n",
        "print(root(27, 3))"
      ],
      "metadata": {
        "colab": {
          "base_uri": "https://localhost:8080/"
        },
        "id": "JhP6j3TQ3Uek",
        "outputId": "e1a18039-b057-4741-df8e-da3eec784c09"
      },
      "execution_count": 26,
      "outputs": [
        {
          "output_type": "stream",
          "name": "stdout",
          "text": [
            "3.0\n"
          ]
        }
      ]
    },
    {
      "cell_type": "markdown",
      "source": [
        "Модифицируйте функцию root так, чтобы передавать степень корня было необязательно. Если степень корня не передана, функция должна возвращать значение квадратного корня.\n",
        "\n",
        "Проверьте своё решение, вызвав функцию root:"
      ],
      "metadata": {
        "id": "YorZ901E3rT5"
      }
    },
    {
      "cell_type": "code",
      "source": [
        "# Необходимо добавить только n=2,\n",
        "# чтобы задать параметру n значение по умолчанию\n",
        "def root(value, n=2):\n",
        "    result = value ** (1/n)\n",
        "    return result"
      ],
      "metadata": {
        "id": "M2KjtCz_3i0F"
      },
      "execution_count": 27,
      "outputs": []
    },
    {
      "cell_type": "code",
      "source": [
        "print(root(81))"
      ],
      "metadata": {
        "colab": {
          "base_uri": "https://localhost:8080/"
        },
        "id": "ao5FD-fe3uVy",
        "outputId": "b90123b0-ac36-4d7a-e011-92cec94cce4b"
      },
      "execution_count": 28,
      "outputs": [
        {
          "output_type": "stream",
          "name": "stdout",
          "text": [
            "9.0\n"
          ]
        }
      ]
    },
    {
      "cell_type": "markdown",
      "source": [
        "Важное замечание. Указывать аргументам значения по умолчанию можно только после того, как в функции перечислены все обязательные аргументы.\n",
        "\n",
        "Поменяем в модифицированной функции root порядок аргументов:"
      ],
      "metadata": {
        "id": "i3c6lqVM3yUg"
      }
    },
    {
      "cell_type": "code",
      "source": [
        "def wrong_root(n=2, value):\n",
        "    result = value ** (1/n)\n",
        "    return result\n",
        "# Возникнет ошибка:\n",
        "# SyntaxError: non-default argument follows default argument"
      ],
      "metadata": {
        "colab": {
          "base_uri": "https://localhost:8080/",
          "height": 130
        },
        "id": "o8tr70f33wHJ",
        "outputId": "49ec7569-0576-4bd8-e1ba-31427e8267a7"
      },
      "execution_count": 29,
      "outputs": [
        {
          "output_type": "error",
          "ename": "SyntaxError",
          "evalue": "ignored",
          "traceback": [
            "\u001b[0;36m  File \u001b[0;32m\"<ipython-input-29-a608cf995c0d>\"\u001b[0;36m, line \u001b[0;32m1\u001b[0m\n\u001b[0;31m    def wrong_root(n=2, value):\u001b[0m\n\u001b[0m                             ^\u001b[0m\n\u001b[0;31mSyntaxError\u001b[0m\u001b[0;31m:\u001b[0m non-default argument follows default argument\n"
          ]
        }
      ]
    },
    {
      "cell_type": "markdown",
      "source": [
        "Эта ошибка переводится так: «Синтаксическая ошибка: аргумент без значения по умолчанию следует после аргумента по умолчанию». Чтобы её избежать, необходимо указывать аргументы по умолчанию только после обязательных."
      ],
      "metadata": {
        "id": "PTTEKjGt37Jw"
      }
    },
    {
      "cell_type": "markdown",
      "source": [
        "Создадим функцию, поведение которой будет неверным (и заодно повторим использование словарей).\n",
        "\n",
        "Функция add_mark будет записывать оценку студента в словарь. Словарь не требуется обязательно передавать в функцию: будем использовать пустой словарь в качестве аргумента по умолчанию (⛔ сейчас будет пример того, как делать не нужно!).\n",
        "\n",
        "Итак, получим функцию:"
      ],
      "metadata": {
        "id": "g65Ga9e6390W"
      }
    },
    {
      "cell_type": "code",
      "source": [
        "# Функция add_mark (от англ. add mark — \"добавить оценку\")\n",
        "# принимает обязательные аргументы name (имя) и\n",
        "# mark (оценка). Необязательным аргументом является journal\n",
        "# (журнал оценок), который по умолчанию является пустым словарём.\n",
        "def add_mark(name, mark, journal={}):\n",
        "    # Присваиваем имени в журнале переданную оценку\n",
        "    journal[name] = mark\n",
        "    return journal"
      ],
      "metadata": {
        "id": "MRwnE7Zb30bt"
      },
      "execution_count": 30,
      "outputs": []
    },
    {
      "cell_type": "code",
      "source": [
        "# Создадим пустой словарь, в который будем\n",
        "# сохранять оценки группы 1\n",
        "group1 = {}\n",
        "# Добавим оценки двух студентов\n",
        "group1 = add_mark('Ivanov', 5, group1)\n",
        "group1 = add_mark('Tihonova', 4, group1)\n",
        "print(group1)\n"
      ],
      "metadata": {
        "colab": {
          "base_uri": "https://localhost:8080/"
        },
        "id": "u0mRsuWA4TnB",
        "outputId": "b9529394-a255-4f12-bb09-849b053a4b64"
      },
      "execution_count": 35,
      "outputs": [
        {
          "output_type": "stream",
          "name": "stdout",
          "text": [
            "{'Ivanov': 5, 'Tihonova': 4}\n"
          ]
        }
      ]
    },
    {
      "cell_type": "markdown",
      "source": [
        "Поведение функции выглядит именно так, как мы и задумывали: в новый журнал оценок (тип данных: словарь) добавляем оценки студентов, причём пустой журнал мы создали в основном скрипте, а не использовали его из значения по умолчанию.\n",
        "\n",
        "А теперь не будем передавать пустой журнал изначально в качестве аргумента — он ведь и так создаётся по умолчанию:"
      ],
      "metadata": {
        "id": "BaaGl_f_4efM"
      }
    },
    {
      "cell_type": "code",
      "source": [
        "# Добавим в журнал для новой группы оценку Смирнову\n",
        "# Сам журнал не передаём в виде аргумента\n",
        "# Пустой журнал будет использован как аргумент по умолчанию\n",
        "group2 = add_mark('Smirnov', 3)\n",
        "print(group2)\n",
        "# Будет напечатано:\n",
        "# {'Smirnov': 3}\n",
        " \n",
        "# Аналогично для новой группы 3 добавим оценку Кузнецовой\n",
        "group3 = add_mark('Kuznetsova', 5)\n",
        "print(group3)\n",
        "# Будет напечатано:\n",
        "# {'Smirnov': 3, 'Kuznetsova': 5}"
      ],
      "metadata": {
        "colab": {
          "base_uri": "https://localhost:8080/"
        },
        "id": "99B9e32L4ZsE",
        "outputId": "f0db17d0-a82e-4113-ba22-11fc22189ad7"
      },
      "execution_count": 36,
      "outputs": [
        {
          "output_type": "stream",
          "name": "stdout",
          "text": [
            "{'Smirnov': 3}\n",
            "{'Smirnov': 3, 'Kuznetsova': 5}\n"
          ]
        }
      ]
    },
    {
      "cell_type": "markdown",
      "source": [
        "Очень неожиданно, не так ли? Мы думали, что по умолчанию используется пустой словарь для группы 3, но в нём почему-то уже оказались оценки для второй группы. Как же так?\n",
        "\n",
        "Дело в том, что пустой словарь был присвоен как новый объект аргументу journal только один раз: когда интерпретатор впервые прочитал объявление функции в коде. В аргументе journal по умолчанию теперь хранится указатель на созданный при прочтении функции словарь. В первый раз [group2 = add_mark('Смирнов', 3)] мы действительно воспользовались новым словарём. А вот при повторном использовании данного словаря в качестве аргумента по умолчанию [group3 = add_mark('Кузнецова', 5)], мы модифицировали уже созданный ранее словарь."
      ],
      "metadata": {
        "id": "KsfR_eUW4ttc"
      }
    },
    {
      "cell_type": "markdown",
      "source": [
        "Звучит сложно, не правда ли?\n",
        "\n",
        "Если вы не поняли предыдущее объяснение, попробуйте осознать следующую иллюстрацию и сопоставить её с описанной выше проблемой.\n",
        "\n",
        "Допустим, в учебную часть пришел преподаватель и спросил, куда ставить оценки за экзамен, если в кабинете нет ведомости. Ему сказали, что новая ведомость лежит в третьем ящике стола у входа (то есть преподаватель получил указатель на пустую ведомость, узнал, где она должна храниться).\n",
        "\n",
        "Преподаватель пришёл на экзамен, ведомости не было, поэтому он взял ведомость из третьего ящика стола (перешёл по указателю), вписал туда оценки (изменил данный объект) и вернул ведомость на место.\n",
        "\n",
        "Этот же преподаватель пришёл принимать экзамен у ещё одной группы. Ведомость снова никто не принёс, но он помнит, что в таком случае необходимо использовать ведомость из третьего ящика стола (снова переходит по указателю). Преподаватель внёс в эту ведомость новые оценки и вернул её на место.\n",
        "\n",
        "Что же теперь записано в ведомости? Оценки обеих групп! Преподаватель только один раз получил указания, где брать ведомость, если её нет, и записывал оценки только в неё.\n",
        "\n",
        "То же самое происходит и с пустым словарём, который мы установили в виде аргумента по умолчанию: он был создан только 1 раз, а затем он только модифицировался функцией, а не создавался пустым заново."
      ],
      "metadata": {
        "id": "2_o6xQM94yOo"
      }
    },
    {
      "cell_type": "markdown",
      "source": [
        "Давайте сделаем так, чтобы каждый раз при запуске функции без словаря всё-таки создавался пустой словарь, а не использовался однажды созданный. Для этого изначально присвоим аргументу journal значение по умолчанию None и уже непосредственно в теле функции будем создавать пустой словарь, если journal является None:"
      ],
      "metadata": {
        "id": "_Zb4PeYz41Co"
      }
    },
    {
      "cell_type": "code",
      "source": [
        "def add_mark(name, mark, journal=None):\n",
        "    # Если журнал является None\n",
        "    # (напоминание: сравнивать объект с None\n",
        "    # корректнее через оператор is),\n",
        "    # запишем в journal пустой словарь\n",
        "    if journal is None:\n",
        "        journal = {}\n",
        "    journal[name] = mark\n",
        "    return journal"
      ],
      "metadata": {
        "id": "jUZC8CSX40y0"
      },
      "execution_count": 42,
      "outputs": []
    },
    {
      "cell_type": "code",
      "source": [
        "group2 = add_mark('Smirnov', 3)\n",
        "print(group2)"
      ],
      "metadata": {
        "colab": {
          "base_uri": "https://localhost:8080/"
        },
        "id": "9W91tDQk4gbl",
        "outputId": "6a2ab350-6ace-4207-fa49-ee19d27ee0f9"
      },
      "execution_count": 43,
      "outputs": [
        {
          "output_type": "stream",
          "name": "stdout",
          "text": [
            "{'Smirnov': 3}\n"
          ]
        }
      ]
    },
    {
      "cell_type": "code",
      "source": [
        "group3 = add_mark('Kuznetsova', 5)\n",
        "print(group3)"
      ],
      "metadata": {
        "colab": {
          "base_uri": "https://localhost:8080/"
        },
        "id": "UmV9rgIU48zA",
        "outputId": "24dc9abe-3f23-44ce-c80b-6f483dda9a6f"
      },
      "execution_count": 44,
      "outputs": [
        {
          "output_type": "stream",
          "name": "stdout",
          "text": [
            "{'Kuznetsova': 5}\n"
          ]
        }
      ]
    },
    {
      "cell_type": "code",
      "source": [
        "group2 = add_mark('Kuznetsova', 5,group2)\n",
        "print(group2)"
      ],
      "metadata": {
        "colab": {
          "base_uri": "https://localhost:8080/"
        },
        "id": "tyvVhvze5Aob",
        "outputId": "97b9cec3-c279-41e6-c1e6-ac4a54593aae"
      },
      "execution_count": 45,
      "outputs": [
        {
          "output_type": "stream",
          "name": "stdout",
          "text": [
            "{'Smirnov': 3, 'Kuznetsova': 5}\n"
          ]
        }
      ]
    },
    {
      "cell_type": "code",
      "source": [
        "group2 = add_mark('beridze', 5)\n",
        "print(group2)"
      ],
      "metadata": {
        "colab": {
          "base_uri": "https://localhost:8080/"
        },
        "id": "dHM3w0k75EZ4",
        "outputId": "056f7363-4460-432e-81d2-d96cc8543fd4"
      },
      "execution_count": 46,
      "outputs": [
        {
          "output_type": "stream",
          "name": "stdout",
          "text": [
            "{'beridze': 5}\n"
          ]
        }
      ]
    },
    {
      "cell_type": "code",
      "source": [
        "group2 = add_mark('saginadze', 5,group2)\n",
        "print(group2)"
      ],
      "metadata": {
        "colab": {
          "base_uri": "https://localhost:8080/"
        },
        "id": "eay0Am1D6OZc",
        "outputId": "7b3cc1f3-c470-41c1-ef70-53e077f4b2d9"
      },
      "execution_count": 47,
      "outputs": [
        {
          "output_type": "stream",
          "name": "stdout",
          "text": [
            "{'beridze': 5, 'saginadze': 5}\n"
          ]
        }
      ]
    },
    {
      "cell_type": "markdown",
      "source": [
        "Дана функция add_mark:\n",
        "\n",
        "def add_mark(name, mark, journal=None):\n",
        "    # Добавьте здесь проверку аргумента mark\n",
        "    if journal is None:\n",
        "        journal = {}\n",
        "    journal[name] = mark\n",
        "    return journal\n",
        "Дополните её код таким образом, чтобы возникала ошибка ValueError с текстом \"Invalid Mark!\" при попытке поставить оценку не из списка: 2, 3, 4 или 5.\n",
        "\n",
        "Пример:\n",
        "\n",
        "add_mark('Ivanov', 6)\n",
        "ValueError: Invalid Mark!"
      ],
      "metadata": {
        "id": "XntCkxEj6Xya"
      }
    },
    {
      "cell_type": "code",
      "source": [
        "def add_mark(name, mark, journal=None):\n",
        "   # Добавьте здесь проверку аргумента mark\n",
        "    if mark not in [2, 3, 4, 5]:\n",
        "        raise ValueError('Invalid Mark!')\n",
        "    if journal is None:\n",
        "        journal = {}\n",
        "    journal[name] = mark\n",
        "    return journal\n",
        "\n",
        "#попытка вызвать функцию с некорректными аргументами\n",
        "try:\n",
        "    print(add_mark('Ivanov', 6))\n",
        "#должна завершиться с ошибкой ValueError, которую мы выведем в блоке except\n",
        "except ValueError as e:\n",
        "    print(e)"
      ],
      "metadata": {
        "colab": {
          "base_uri": "https://localhost:8080/"
        },
        "id": "-lWljR2N6S8Y",
        "outputId": "f25dee9c-6942-42b6-cbbc-b9281be5ae0c"
      },
      "execution_count": 48,
      "outputs": [
        {
          "output_type": "stream",
          "name": "stdout",
          "text": [
            "Invalid Mark!\n"
          ]
        }
      ]
    },
    {
      "cell_type": "code",
      "source": [],
      "metadata": {
        "id": "HFzQQ9Hz6kIh"
      },
      "execution_count": null,
      "outputs": []
    }
  ]
}