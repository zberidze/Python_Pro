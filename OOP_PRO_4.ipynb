{
  "nbformat": 4,
  "nbformat_minor": 0,
  "metadata": {
    "colab": {
      "provenance": []
    },
    "kernelspec": {
      "name": "python3",
      "display_name": "Python 3"
    },
    "language_info": {
      "name": "python"
    }
  },
  "cells": [
    {
      "cell_type": "code",
      "execution_count": 3,
      "metadata": {
        "colab": {
          "base_uri": "https://localhost:8080/",
          "height": 200
        },
        "id": "5LJsTESaGMK1",
        "outputId": "81b2785e-546e-409a-9ffd-24b8929b86b0"
      },
      "outputs": [
        {
          "output_type": "error",
          "ename": "TypeError",
          "evalue": "ignored",
          "traceback": [
            "\u001b[0;31m---------------------------------------------------------------------------\u001b[0m",
            "\u001b[0;31mTypeError\u001b[0m                                 Traceback (most recent call last)",
            "\u001b[0;32m<ipython-input-3-b3a675109342>\u001b[0m in \u001b[0;36m<module>\u001b[0;34m\u001b[0m\n\u001b[1;32m     14\u001b[0m \u001b[0;34m\u001b[0m\u001b[0m\n\u001b[1;32m     15\u001b[0m \u001b[0mivan\u001b[0m\u001b[0;34m=\u001b[0m\u001b[0mPerson\u001b[0m\u001b[0;34m(\u001b[0m\u001b[0;34m\"ivan doberman\"\u001b[0m\u001b[0;34m)\u001b[0m\u001b[0;34m\u001b[0m\u001b[0;34m\u001b[0m\u001b[0m\n\u001b[0;32m---> 16\u001b[0;31m \u001b[0mivan\u001b[0m\u001b[0;34m.\u001b[0m\u001b[0msmethod\u001b[0m\u001b[0;34m(\u001b[0m\u001b[0;34m)\u001b[0m\u001b[0;34m\u001b[0m\u001b[0;34m\u001b[0m\u001b[0m\n\u001b[0m",
            "\u001b[0;31mTypeError\u001b[0m: smethod() takes 0 positional arguments but 1 was given"
          ]
        }
      ],
      "source": [
        "class Person():\n",
        "  def __init__(self,n):\n",
        "    self.name=n\n",
        "\n",
        "  def smethod():\n",
        "    print(\"persons\")  \n",
        "\n",
        "class Employee(Person):\n",
        "  def __init__(self,n):\n",
        "    super().__init__(n)\n",
        "\n",
        "  def smethod():\n",
        "    print(\"employee\")\n",
        "\n",
        "ivan=Person(\"ivan doberman\")\n",
        "ivan.smethod()          "
      ]
    },
    {
      "cell_type": "code",
      "source": [
        "class Person():\n",
        "  def __init__(self,n):\n",
        "    self.name=n\n",
        "  @staticmethod\n",
        "  def smethod():\n",
        "    print(\"persons\")  \n",
        "\n",
        "class Employee(Person):\n",
        "  def __init__(self,n):\n",
        "    super().__init__(n)\n",
        "\n",
        "  def smethod():\n",
        "    print(\"employee\")\n",
        "\n",
        "ivan=Person(\"ivan doberman\")\n",
        "ivan.smethod()   "
      ],
      "metadata": {
        "colab": {
          "base_uri": "https://localhost:8080/"
        },
        "id": "-BNcJzKbKRBt",
        "outputId": "db17f6a6-baa1-440e-873d-2200e3ec24e2"
      },
      "execution_count": 4,
      "outputs": [
        {
          "output_type": "stream",
          "name": "stdout",
          "text": [
            "persons\n"
          ]
        }
      ]
    },
    {
      "cell_type": "code",
      "source": [
        "baba=Employee(\"buba valya\")\n",
        "buba.smethod()"
      ],
      "metadata": {
        "colab": {
          "base_uri": "https://localhost:8080/",
          "height": 183
        },
        "id": "pe2LtfF2KmnV",
        "outputId": "3279f47d-d28c-4853-e9ac-1db411be6e52"
      },
      "execution_count": 5,
      "outputs": [
        {
          "output_type": "error",
          "ename": "NameError",
          "evalue": "ignored",
          "traceback": [
            "\u001b[0;31m---------------------------------------------------------------------------\u001b[0m",
            "\u001b[0;31mNameError\u001b[0m                                 Traceback (most recent call last)",
            "\u001b[0;32m<ipython-input-5-482e8472df16>\u001b[0m in \u001b[0;36m<module>\u001b[0;34m\u001b[0m\n\u001b[1;32m      1\u001b[0m \u001b[0mbaba\u001b[0m\u001b[0;34m=\u001b[0m\u001b[0mEmployee\u001b[0m\u001b[0;34m(\u001b[0m\u001b[0;34m\"buba valya\"\u001b[0m\u001b[0;34m)\u001b[0m\u001b[0;34m\u001b[0m\u001b[0;34m\u001b[0m\u001b[0m\n\u001b[0;32m----> 2\u001b[0;31m \u001b[0mbuba\u001b[0m\u001b[0;34m.\u001b[0m\u001b[0msmethod\u001b[0m\u001b[0;34m(\u001b[0m\u001b[0;34m)\u001b[0m\u001b[0;34m\u001b[0m\u001b[0;34m\u001b[0m\u001b[0m\n\u001b[0m",
            "\u001b[0;31mNameError\u001b[0m: name 'buba' is not defined"
          ]
        }
      ]
    },
    {
      "cell_type": "code",
      "source": [
        "class Person():\n",
        "  def __init__(self,n):\n",
        "    self.name=n\n",
        "  @staticmethod\n",
        "  def smethod():\n",
        "    print(\"persons\")  \n",
        "\n",
        "class Employee(Person):\n",
        "  def __init__(self,n):\n",
        "    super().__init__(n)\n",
        "  @staticmethod\n",
        "  def smethod():\n",
        "    print(\"employee\")\n",
        "\n",
        "baba=Employee(\"buba valya\")\n",
        "baba.smethod()    "
      ],
      "metadata": {
        "colab": {
          "base_uri": "https://localhost:8080/"
        },
        "id": "yqexMe2mLEOe",
        "outputId": "6f54779d-46bb-410c-91eb-6085f10a028f"
      },
      "execution_count": 7,
      "outputs": [
        {
          "output_type": "stream",
          "name": "stdout",
          "text": [
            "employee\n"
          ]
        }
      ]
    },
    {
      "cell_type": "code",
      "source": [
        "Person.smethod()"
      ],
      "metadata": {
        "colab": {
          "base_uri": "https://localhost:8080/"
        },
        "id": "EFv8yDr9LLD5",
        "outputId": "1b5461ff-28c8-41ef-e923-1a302db0bd7c"
      },
      "execution_count": 9,
      "outputs": [
        {
          "output_type": "stream",
          "name": "stdout",
          "text": [
            "persons\n"
          ]
        }
      ]
    },
    {
      "cell_type": "code",
      "source": [
        "Employee.smethod()"
      ],
      "metadata": {
        "colab": {
          "base_uri": "https://localhost:8080/"
        },
        "id": "B6XQZCPmLyg9",
        "outputId": "b639ce54-8f1f-4f47-ba62-b59b06c47d28"
      },
      "execution_count": 10,
      "outputs": [
        {
          "output_type": "stream",
          "name": "stdout",
          "text": [
            "employee\n"
          ]
        }
      ]
    },
    {
      "cell_type": "code",
      "source": [
        "class Person():\n",
        "  def __init__(self,n):\n",
        "    self.name=n \n",
        "\n",
        "class Employee(Person):\n",
        "  def __init__(self,n):\n",
        "    super().__init__(n)\n",
        "\n",
        "baba=Employee(\"baba.valya\")\n",
        "ivan=Employee(\"ivan doberman\")\n",
        "baba.salary=120000\n",
        "print(baba.salary)\n",
        "print(ivan.salary)"
      ],
      "metadata": {
        "colab": {
          "base_uri": "https://localhost:8080/",
          "height": 217
        },
        "id": "V_cVBxVQL392",
        "outputId": "91bd6404-6b13-4535-b195-07fdef7086e2"
      },
      "execution_count": 12,
      "outputs": [
        {
          "output_type": "stream",
          "name": "stdout",
          "text": [
            "120000\n"
          ]
        },
        {
          "output_type": "error",
          "ename": "AttributeError",
          "evalue": "ignored",
          "traceback": [
            "\u001b[0;31m---------------------------------------------------------------------------\u001b[0m",
            "\u001b[0;31mAttributeError\u001b[0m                            Traceback (most recent call last)",
            "\u001b[0;32m<ipython-input-12-c94b2a4871b2>\u001b[0m in \u001b[0;36m<module>\u001b[0;34m\u001b[0m\n\u001b[1;32m     11\u001b[0m \u001b[0mbaba\u001b[0m\u001b[0;34m.\u001b[0m\u001b[0msalary\u001b[0m\u001b[0;34m=\u001b[0m\u001b[0;36m120000\u001b[0m\u001b[0;34m\u001b[0m\u001b[0;34m\u001b[0m\u001b[0m\n\u001b[1;32m     12\u001b[0m \u001b[0mprint\u001b[0m\u001b[0;34m(\u001b[0m\u001b[0mbaba\u001b[0m\u001b[0;34m.\u001b[0m\u001b[0msalary\u001b[0m\u001b[0;34m)\u001b[0m\u001b[0;34m\u001b[0m\u001b[0;34m\u001b[0m\u001b[0m\n\u001b[0;32m---> 13\u001b[0;31m \u001b[0mprint\u001b[0m\u001b[0;34m(\u001b[0m\u001b[0mivan\u001b[0m\u001b[0;34m.\u001b[0m\u001b[0msalary\u001b[0m\u001b[0;34m)\u001b[0m\u001b[0;34m\u001b[0m\u001b[0;34m\u001b[0m\u001b[0m\n\u001b[0m",
            "\u001b[0;31mAttributeError\u001b[0m: 'Employee' object has no attribute 'salary'"
          ]
        }
      ]
    },
    {
      "cell_type": "code",
      "source": [
        "class Person():\n",
        "  def __init__(self,n):\n",
        "    self.name=n \n",
        "\n",
        "class Employee(Person):\n",
        "  def __init__(self,n):\n",
        "    super().__init__(n)\n",
        "  \n",
        "  @property\n",
        "  def salary(self):\n",
        "    return self.salary_\n",
        "\n",
        "  \n",
        "baba=Employee(\"baba.valya\")\n",
        "ivan=Employee(\"ivan doberman\")\n",
        "\n",
        "baba.salary=12000\n",
        "print(baba.salary)"
      ],
      "metadata": {
        "colab": {
          "base_uri": "https://localhost:8080/",
          "height": 217
        },
        "id": "8tbvxGHcN7lF",
        "outputId": "3d5eb83a-362e-4e58-86c5-fc92f78f4645"
      },
      "execution_count": 19,
      "outputs": [
        {
          "output_type": "error",
          "ename": "AttributeError",
          "evalue": "ignored",
          "traceback": [
            "\u001b[0;31m---------------------------------------------------------------------------\u001b[0m",
            "\u001b[0;31mAttributeError\u001b[0m                            Traceback (most recent call last)",
            "\u001b[0;32m<ipython-input-19-1321cddf8a2d>\u001b[0m in \u001b[0;36m<module>\u001b[0;34m\u001b[0m\n\u001b[1;32m     15\u001b[0m \u001b[0mivan\u001b[0m\u001b[0;34m=\u001b[0m\u001b[0mEmployee\u001b[0m\u001b[0;34m(\u001b[0m\u001b[0;34m\"ivan doberman\"\u001b[0m\u001b[0;34m)\u001b[0m\u001b[0;34m\u001b[0m\u001b[0;34m\u001b[0m\u001b[0m\n\u001b[1;32m     16\u001b[0m \u001b[0;34m\u001b[0m\u001b[0m\n\u001b[0;32m---> 17\u001b[0;31m \u001b[0mbaba\u001b[0m\u001b[0;34m.\u001b[0m\u001b[0msalary\u001b[0m\u001b[0;34m=\u001b[0m\u001b[0;36m12000\u001b[0m\u001b[0;34m\u001b[0m\u001b[0;34m\u001b[0m\u001b[0m\n\u001b[0m\u001b[1;32m     18\u001b[0m \u001b[0mprint\u001b[0m\u001b[0;34m(\u001b[0m\u001b[0mbaba\u001b[0m\u001b[0;34m.\u001b[0m\u001b[0msalary\u001b[0m\u001b[0;34m)\u001b[0m\u001b[0;34m\u001b[0m\u001b[0;34m\u001b[0m\u001b[0m\n",
            "\u001b[0;31mAttributeError\u001b[0m: can't set attribute"
          ]
        }
      ]
    },
    {
      "cell_type": "code",
      "source": [
        "class Person():\n",
        "  def __init__(self,n):\n",
        "    self.name=n \n",
        "\n",
        "class Employee(Person):\n",
        "  def __init__(self,n):\n",
        "    super().__init__(n)\n",
        "  def __str__(self):\n",
        "    s = \"Name:\\t%s\\nSalary:\\t%i\\n\" % (self.name, self.salary_)\n",
        "    return s\n",
        "\n",
        "  @property\n",
        "  def salary(self):\n",
        "    return self.salary_\n",
        "\n",
        "  @salary.setter\n",
        "  def salary(self, n):\n",
        "        self.salary_ = n  \n",
        "\n",
        "baba=Employee(\"baba.valya\")\n",
        "ivan=Employee(\"ivan doberman\")\n",
        "\n",
        "baba.salary=12000\n",
        "print(baba.salary)\n",
        "#print(ivan.salary)"
      ],
      "metadata": {
        "colab": {
          "base_uri": "https://localhost:8080/"
        },
        "id": "hrKIs4VyMZ2X",
        "outputId": "67f4a01d-9f09-4325-f9b0-f4ba6a7e83ea"
      },
      "execution_count": 18,
      "outputs": [
        {
          "output_type": "stream",
          "name": "stdout",
          "text": [
            "12000\n"
          ]
        }
      ]
    },
    {
      "cell_type": "code",
      "source": [
        "class Person():\n",
        "  def __init__(self,n):\n",
        "    self.name=n \n",
        "\n",
        "class Employee(Person):\n",
        "  def __init__(self,n):\n",
        "    super().__init__(n)\n",
        "  \n",
        "  def __str__(self):\n",
        "    s = \"Name:\\t%s\\nSalary:\\t%i\\n\" % (self.name, self.salary_)\n",
        "    return s\n",
        "\n",
        "  @property\n",
        "  def salary(self):\n",
        "    return self.salary_\n",
        "\n",
        "  @salary.setter\n",
        "  def salary(self, n):\n",
        "        self.salary_ = n  \n",
        "\n",
        "baba=Employee(\"baba valya\")\n",
        "ivan=Employee(\"ivan doberman\")\n",
        "\n",
        "baba.salary=12000\n",
        "print(baba)\n",
        "print(baba.salary)\n",
        "#print(ivan.salary)"
      ],
      "metadata": {
        "colab": {
          "base_uri": "https://localhost:8080/"
        },
        "id": "pdiCK6McNJLI",
        "outputId": "d62e33bb-a3e1-4225-ca02-ea23e58b511c"
      },
      "execution_count": 29,
      "outputs": [
        {
          "output_type": "stream",
          "name": "stdout",
          "text": [
            "Name:\tbaba valya\n",
            "Salary:\t12000\n",
            "\n",
            "12000\n"
          ]
        }
      ]
    },
    {
      "cell_type": "code",
      "source": [
        "class Person():\n",
        "  def __init__(self,n):\n",
        "    self.name=n \n",
        "\n",
        "class Employee(Person):\n",
        "  def __init__(self,n):\n",
        "    super().__init__(n)\n",
        "  \n",
        "  def __str__(self):\n",
        "    s = \"Name:\\t%s\\nSalary:\\t%i\\n\" % (self.name, self.salary_)\n",
        "    return s\n",
        "\n",
        "  @property\n",
        "  def salary(self):\n",
        "    res = self.salary_\n",
        "    if self.name == \"baba valya\":\n",
        "        res = \"А вы с какой целью интересуетесь?..\"\n",
        "    return res\n",
        "    \n",
        "\n",
        "  @salary.setter\n",
        "  def salary(self, n):\n",
        "        self.salary_ = n  \n",
        "\n",
        "baba=Employee(\"baba valya\")\n",
        "ivan = Employee(\"Ivan Doberman\")\n",
        "\n",
        "baba.salary = 120000\n",
        "ivan.salary = 12000\n",
        "\n",
        "print(baba)\n",
        "print(ivan)\n"
      ],
      "metadata": {
        "colab": {
          "base_uri": "https://localhost:8080/"
        },
        "id": "bTzLnEp8PWvz",
        "outputId": "d18cda06-6eb3-4146-a995-bf80fa868092"
      },
      "execution_count": 32,
      "outputs": [
        {
          "output_type": "stream",
          "name": "stdout",
          "text": [
            "Name:\tbaba valya\n",
            "Salary:\t120000\n",
            "\n",
            "Name:\tIvan Doberman\n",
            "Salary:\t12000\n",
            "\n"
          ]
        }
      ]
    },
    {
      "cell_type": "code",
      "source": [
        "print(baba.salary)\n",
        "print(ivan.salary)"
      ],
      "metadata": {
        "colab": {
          "base_uri": "https://localhost:8080/"
        },
        "id": "Fn3ePEtXP1jL",
        "outputId": "cc39cd3d-d1b3-40b2-baed-a612530a676d"
      },
      "execution_count": 33,
      "outputs": [
        {
          "output_type": "stream",
          "name": "stdout",
          "text": [
            "А вы с какой целью интересуетесь?..\n",
            "12000\n"
          ]
        }
      ]
    }
  ]
}