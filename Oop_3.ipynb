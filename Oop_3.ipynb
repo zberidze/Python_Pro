{
 "cells": [
  {
   "cell_type": "markdown",
   "metadata": {
    "id": "c3FfHhRpywL6"
   },
   "source": [
    "Как использовать полиморфизм при создании классов\n",
    "Полиморфизм в ООП обрабатывает разные типы данных, принадлежащих к разным классам, с помощью одной и той же функции (метода). По сути, одинаковым является только имя метода, но результаты работы одноимённых методов могут различаться.\n",
    "\n",
    "img  Рассмотрим пример\n",
    "\n",
    "Нам необходимо рассчитать площадь геометрической фигуры на основе полиморфизма:"
   ]
  },
  {
   "cell_type": "code",
   "execution_count": 1,
   "metadata": {
    "id": "w7Pidbtax9t7"
   },
   "outputs": [],
   "source": [
    "class Rectangle:\n",
    "    def __init__(self,a,b):\n",
    "        self.a = a\n",
    "       \tself.b = b\t\t  \n",
    "    def get_area(self):\t\t\n",
    "        return self.a * self.b"
   ]
  },
  {
   "cell_type": "markdown",
   "metadata": {
    "id": "o0LpW6_7z1kw"
   },
   "source": [
    "Как организовать работу \n",
    "Откройте PyCharm и выполняйте параллельно все действия, в том числе впишите код со скриншотов. Следите за ходом рассуждений.\n",
    "\n",
    "Итак, у нас есть класс Rectangle с двумя параметрами: ширина и высота (a и b). Мы можем найти площадь прямоугольника. Для этого нужно длину умножить на высоту (строка кода 6). Для решения используем специальный метод get_area. Он принимает аргумент self, то есть сам класс Rectangle, и возвращает произведение атрибута a (ширина) на b (высота). \n",
    "\n",
    "Создадим файл rectangle_2.py в отдельной директории в папке (назовём её python_practice). Выполним импорт класса Rectangle:"
   ]
  },
  {
   "cell_type": "code",
   "execution_count": 2,
   "metadata": {
    "colab": {
     "base_uri": "https://localhost:8080/"
    },
    "id": "9WrHMdAKzyWq",
    "outputId": "df49a0e4-4c1f-42e1-97e9-653fecceb826"
   },
   "outputs": [
    {
     "name": "stdout",
     "output_type": "stream",
     "text": [
      "12\n",
      "60\n"
     ]
    }
   ],
   "source": [
    "# Далее создаём два прямоугольника\n",
    "\n",
    "rect_1 = Rectangle(3,4)\n",
    "rect_2 = Rectangle(12,5)\n",
    "# Вывод площади наших двух прямоугольников\n",
    "print(rect_1.get_area())\n",
    "print(rect_2.get_area())"
   ]
  },
  {
   "cell_type": "markdown",
   "metadata": {
    "id": "shKwqS3z0EMm"
   },
   "source": [
    "Добавим в нашу программу ещё один объект, например Square (квадрат), который принимает в качестве аргументов одну сторону. Добавляем данные в исходном файле rectangle.py:"
   ]
  },
  {
   "cell_type": "code",
   "execution_count": 3,
   "metadata": {
    "id": "ccBhzZmtz5eI"
   },
   "outputs": [],
   "source": [
    "class Rectangle:\n",
    "    def __init__(self,a,b):\n",
    "       self.a = a\n",
    "       self.b = b\n",
    "\t  \n",
    "    def get_area(self):\t\t\n",
    "        return self.a * self.b\n",
    "\t\t\n",
    "class Square:\n",
    "    def __init__(self,a):\n",
    "\t    self.a = a\n",
    "    def get_area_square(self):\t\t\n",
    "        return self.a ** 2  \n",
    "\t\t"
   ]
  },
  {
   "cell_type": "code",
   "execution_count": 4,
   "metadata": {
    "colab": {
     "base_uri": "https://localhost:8080/"
    },
    "id": "9mPzKcvs0G06",
    "outputId": "07655fe2-46b8-4ce7-f8b6-d5b94c4c908f"
   },
   "outputs": [
    {
     "name": "stdout",
     "output_type": "stream",
     "text": [
      "12\n",
      "60\n",
      "25 100\n"
     ]
    }
   ],
   "source": [
    "\n",
    "rect_1 = Rectangle(3,4)\n",
    "rect_2 = Rectangle(12,5)\n",
    "# Вывод площади наших двух прямоугольников\n",
    "print(rect_1.get_area())\n",
    "print(rect_2.get_area())\n",
    "\n",
    "square_1 = Square(5)\n",
    "square_2 = Square(10)\n",
    "\n",
    "print(square_1.get_area_square(),\n",
    "      square_2.get_area_square())\n",
    "\t\t"
   ]
  },
  {
   "cell_type": "markdown",
   "metadata": {
    "id": "cNvUzDU91VMG"
   },
   "source": [
    "Запустите программу и посмотрите ожидаемый результат в консоли: площадь прямоугольника и квадрата. Можно более лаконично выводить два квадрата — через запятую (см. 14 строчку).\n",
    "\n",
    "Теперь мы хотим в нашей программе все объекты перенести в единую коллекцию. Назовём фигуры (figures). Коллекция содержит список, в который и помещаем наш первый прямоугольник, квадрат и т. д. (см. 17 строчку). Работаем в файле rectangle_2.py:"
   ]
  },
  {
   "cell_type": "code",
   "execution_count": 5,
   "metadata": {
    "colab": {
     "base_uri": "https://localhost:8080/"
    },
    "id": "C8aEyFfu1Vmw",
    "outputId": "b56f622e-cf86-4b7d-f0d4-f7d89cb1104a"
   },
   "outputs": [
    {
     "name": "stdout",
     "output_type": "stream",
     "text": [
      "12\n",
      "60\n",
      "25 100\n"
     ]
    }
   ],
   "source": [
    "# Далее создаём два прямоугольника\n",
    "\n",
    "rect_1 = Rectangle(3,4)\n",
    "rect_2 = Rectangle(12,5)\n",
    "# Вывод площади наших двух прямоугольников\n",
    "print(rect_1.get_area())\n",
    "print(rect_2.get_area())\n",
    "\n",
    "square_1 = Square(5)\n",
    "square_2 = Square(10)\n",
    "\n",
    "print(square_1.get_area_square(),\n",
    "      square_2.get_area_square())\n",
    "\t  \n",
    "figures = [rect_1, rect_2, square_1, square_2]"
   ]
  },
  {
   "cell_type": "code",
   "execution_count": 6,
   "metadata": {
    "colab": {
     "base_uri": "https://localhost:8080/"
    },
    "id": "3KyxVSAy1bdx",
    "outputId": "18c2ff9d-74d7-4c10-9622-63df87ad9e2d"
   },
   "outputs": [
    {
     "name": "stdout",
     "output_type": "stream",
     "text": [
      "12\n",
      "60\n",
      "25\n",
      "100\n"
     ]
    }
   ],
   "source": [
    "for figure in figures:\n",
    "    if isinstance (figure, Square):\n",
    "        print(figure.get_area_square())\n",
    "    else:\n",
    "\t      print(figure.get_area())\t"
   ]
  },
  {
   "cell_type": "markdown",
   "metadata": {
    "id": "kXwEwz9u1pz-"
   },
   "source": [
    "Мы обходим наши фигуры по циклу, чтобы для каждой фигуры найти площадь. Обратите внимание, мы будем работать с прямоугольниками и квадратами с помощью разных методов:  (get_area() и get_area_square()).\n",
    "\n",
    "Внутри цикла проверяем: \n",
    "\n",
    "если экземпляр класса figure — квадрат, то вызываем метод get_area_square();\n",
    "в противном случае мы обрабатываем данные для прямоугольника методом get_area().\n",
    "В условии есть функция isinstance, поддерживающая наследование. Она проверяет, является ли аргумент объекта экземпляром класса или экземпляром класса из кортежа. В случае если является, функция возвращает True, если не является — False. "
   ]
  },
  {
   "cell_type": "markdown",
   "metadata": {
    "id": "o4lxLy7V1vz5"
   },
   "source": [
    "Давайте рассмотрим ещё один полезный пример полиморфизма в классах Python — перегрузку операторов и методов.\n",
    "\n",
    "Перегрузка представляет собой изменение поведения стандартного оператора или метода под особенности класса.\n",
    "Возьмём несколько наиболее часто используемых методов:\n",
    "\n",
    "__eq__ определяет поведение оператора равенства ==;\n",
    "\n",
    "__str__ определяет поведение функции str() или вызов внутри функции print().\n",
    "\n",
    "А теперь рассмотрим примеры.\n",
    "\n",
    "\n",
    "Создадим файл points.py. Внутри файла определим класс Dot, который будет хранить в себе информацию о точках на плоскости в системе координат х, y:"
   ]
  },
  {
   "cell_type": "code",
   "execution_count": 7,
   "metadata": {
    "id": "aGsM63x11qSX"
   },
   "outputs": [],
   "source": [
    "class Dot:\n",
    "   def __init__(self,x,y):\n",
    "       self.x=x\n",
    "       self.y=y\n",
    "   def __eq__(self,other):\n",
    "    return self.x==other.x and self.y==other.y\n",
    "   def __str__(self):\n",
    "    return f'Dot: {self.x,self.y}' "
   ]
  },
  {
   "cell_type": "markdown",
   "metadata": {
    "id": "ht7Pebzl15cq"
   },
   "source": [
    "Нам необходимо уметь сравнивать точки между собой и выводить их для пользователя. Соответственно, переопределим методы __eq__ и __str__ внутри класса Dot."
   ]
  },
  {
   "cell_type": "code",
   "execution_count": 8,
   "metadata": {
    "colab": {
     "base_uri": "https://localhost:8080/"
    },
    "id": "uNKVxv4H2B_Y",
    "outputId": "74ed668b-a5ef-4515-b1c8-8639166f0569"
   },
   "outputs": [
    {
     "name": "stdout",
     "output_type": "stream",
     "text": [
      "True\n",
      "Dot: (1, 2)\n",
      "Dot: (1, 2)\n"
     ]
    }
   ],
   "source": [
    "p1=Dot(1,2)\n",
    "p2=Dot(1,2)\n",
    "print(p1==p2)\n",
    "print(str(p1))\n",
    "print(p2)"
   ]
  },
  {
   "cell_type": "markdown",
   "metadata": {
    "id": "dslspa0I2Xlv"
   },
   "source": [
    "В первой строке видим, что точки успешно сравниваются между собой. Во второй и третьей строке выводится информация об экземплярах класса. Обратите внимание, что перегруженный метод str автоматически используется в функции print, поэтому писать его необязательно."
   ]
  },
  {
   "cell_type": "markdown",
   "metadata": {
    "id": "sp0zy5mk2cX6"
   },
   "source": [
    "Выполните задание, взяв за основу код из примера выше.\n",
    "\n",
    "Добавьте ещё один класс — круг ( class Circle), конструктор которого содержит параметр «радиус». Добавьте метод для расчёта площади круга (вспомните формулу).\n",
    "\n",
    "Далее сделайте вывод информации о площади в консоль.\n",
    "\n",
    "\n"
   ]
  },
  {
   "cell_type": "code",
   "execution_count": 9,
   "metadata": {
    "colab": {
     "base_uri": "https://localhost:8080/"
    },
    "id": "y2D8eOE-2FX_",
    "outputId": "3d82171c-431c-4218-d8b6-92cb8a5351be"
   },
   "outputs": [
    {
     "name": "stdout",
     "output_type": "stream",
     "text": [
      "12\n",
      "60\n",
      "25\n",
      "100\n",
      "3.14\n",
      "12.56\n"
     ]
    }
   ],
   "source": [
    "class Rectangle:\n",
    "    def __init__(self, a, b):\n",
    "        self.a = a\n",
    "        self.b = b\n",
    "    def get_area(self):\n",
    "        return self.a * self.b\n",
    " \n",
    " \n",
    "class Square:\n",
    "    def __init__(self, a):\n",
    "        self.a = a\n",
    "    def get_area_square(self):\n",
    "        return self.a ** 2\n",
    " \n",
    "\n",
    "class Circle:\n",
    "    def __init__(self, a):\n",
    "        self.a = a\n",
    "    def get_area_circle(self):\n",
    "        return (self.a ** 2) * 3.14\n",
    " \n",
    " \n",
    " \n",
    "rect_1 = Rectangle(3,4)\n",
    "rect_2 = Rectangle(12,5)\n",
    "square_1 = Square(5)\n",
    "square_2 = Square(10)\n",
    "circle_1 = Circle(1)\n",
    "circle_2 = Circle(2)\n",
    " \n",
    " \n",
    "figures = [rect_1, rect_2, square_1, square_2, circle_1, circle_2]\n",
    "for figure in figures:\n",
    "    if isinstance(figure, Square):\n",
    "        print(figure.get_area_square())\n",
    "    elif isinstance(figure, Rectangle):\n",
    "        print(figure.get_area())\n",
    "    else:\n",
    "        print(figure.get_area_circle())"
   ]
  },
  {
   "cell_type": "markdown",
   "metadata": {
    "id": "PcibdPi_2ogJ"
   },
   "source": [
    "Добавьте в класс Rectangle перегрузку оператора == и сравните несколько экземпляров одного класса."
   ]
  },
  {
   "cell_type": "code",
   "execution_count": 10,
   "metadata": {
    "colab": {
     "base_uri": "https://localhost:8080/"
    },
    "id": "9Cw5IM2X2o8H",
    "outputId": "331c89ec-e329-47f3-93de-473f364b73d7"
   },
   "outputs": [
    {
     "name": "stdout",
     "output_type": "stream",
     "text": [
      "False\n"
     ]
    }
   ],
   "source": [
    "class Rectangle:\n",
    "    def __init__(self, a, b):\n",
    "        self.a = a\n",
    "        self.b = b\n",
    "    def get_area(self):\n",
    "        return self.a * self.b\n",
    "\n",
    "    def __eq__(self,other):\n",
    "        return self.a==other.a and self.b==other.b\n",
    "        \n",
    "rect_1 = Rectangle(3,4)\n",
    "rect_2 = Rectangle(12,5)\n",
    "\n",
    "print(rect_1==rect_2)"
   ]
  },
  {
   "cell_type": "code",
   "execution_count": 11,
   "metadata": {
    "colab": {
     "base_uri": "https://localhost:8080/"
    },
    "id": "CjL6y6LN2wmw",
    "outputId": "8c49a61c-bf1f-435f-b2ef-408d4f253150"
   },
   "outputs": [
    {
     "name": "stdout",
     "output_type": "stream",
     "text": [
      "True\n"
     ]
    }
   ],
   "source": [
    "rect_1 = Rectangle(3,4)\n",
    "rect_2 = Rectangle(3,4)\n",
    "\n",
    "print(rect_1==rect_2)"
   ]
  },
  {
   "cell_type": "markdown",
   "metadata": {
    "id": "S3FQpfmR27JU"
   },
   "source": [
    "https://www.geeksforgeeks.org/polymorphism-in-python/"
   ]
  },
  {
   "cell_type": "markdown",
   "metadata": {
    "id": "mqmCntKU29hp"
   },
   "source": [
    "https://www.edureka.co/blog/polymorphism-in-python/"
   ]
  },
  {
   "cell_type": "markdown",
   "metadata": {
    "id": "u0k24XD93FGa"
   },
   "source": [
    "Создайте класс одной из геометрических фигур, например прямоугольника, где в конструкторе задаются атрибуты:  начальные координаты x, y, width и height (или другие в зависимости от выбранной фигуры).\n",
    "\n",
    "Создайте метод, который возвращает атрибуты прямоугольника как строку (постарайтесь применить магический метод __str__). Для объекта прямоугольника со значениями атрибута x = 5, y = 10, width = 50, height = 100 метод должен вернуть строку Rectangle : 5, 10, 50, 100."
   ]
  },
  {
   "cell_type": "code",
   "execution_count": 12,
   "metadata": {
    "colab": {
     "base_uri": "https://localhost:8080/"
    },
    "id": "TnpIbPJo205y",
    "outputId": "dcd88a50-d36d-48b4-c887-35abfa41bbf4"
   },
   "outputs": [
    {
     "name": "stdout",
     "output_type": "stream",
     "text": [
      "Rectangle : 5, 10, 50, 100.\n"
     ]
    }
   ],
   "source": [
    "class Rectangle:\n",
    "    def __init__(self, x,y, width,heigth):\n",
    "        self.x = x\n",
    "        self.y = y\n",
    "        self.width=width\n",
    "        self.heigth=heigth\n",
    " \n",
    "    def __str__(self):\n",
    "        return f'Rectangle : {self.x}, {self.y}, {self.width}, {self.heigth}.'\n",
    " \n",
    "rect_1=Rectangle(5,10,50,100)\n",
    "print(rect_1)"
   ]
  },
  {
   "cell_type": "markdown",
   "metadata": {
    "id": "z9tOBWgs3Nqm"
   },
   "source": [
    "В классе, написанном в предыдущем задании, создайте метод, который будет рассчитывать площадь фигуры. Выведите значение площади на экран.\n",
    "\n"
   ]
  },
  {
   "cell_type": "code",
   "execution_count": 13,
   "metadata": {
    "colab": {
     "base_uri": "https://localhost:8080/"
    },
    "id": "NA7SClBd3KhW",
    "outputId": "ea5d9188-ff2c-44c3-9e5f-008f19f4b671"
   },
   "outputs": [
    {
     "name": "stdout",
     "output_type": "stream",
     "text": [
      "Rectangle : 5, 10, 50, 100.\n",
      "5000\n"
     ]
    }
   ],
   "source": [
    "class Rectangle:\n",
    "    def __init__(self, x,y, width,heigth):\n",
    "        self.x = x\n",
    "        self.y = y\n",
    "        self.width=width\n",
    "        self.heigth=heigth\n",
    " \n",
    "    def __str__(self):\n",
    "        return f'Rectangle : {self.x}, {self.y}, {self.width}, {self.heigth}.'\n",
    " \n",
    "    def get_area(self):\n",
    "        return self.width*self.heigth\n",
    " \n",
    "rect_1=Rectangle(5,10,50,100)\n",
    "print(rect_1)\n",
    "print(rect_1.get_area())\n"
   ]
  },
  {
   "cell_type": "markdown",
   "metadata": {
    "id": "g17_J1Nh3Xa2"
   },
   "source": [
    "В проекте «Дом питомца» добавим новую услугу — электронный кошелёк. Необходимо создать класс «Клиент», который будет содержать данные о клиентах и их финансовых операциях. О клиенте известна следующая информация: имя, фамилия, город, баланс.\n",
    "\n",
    "Далее сделайте вывод о клиентах в консоль в формате:\n",
    "\n",
    "«Иван Петров. Москва. Баланс: 50 руб.»"
   ]
  },
  {
   "cell_type": "code",
   "execution_count": 14,
   "metadata": {
    "colab": {
     "base_uri": "https://localhost:8080/"
    },
    "id": "1q919Jt53X27",
    "outputId": "d70a2b00-ae89-4457-b790-740c8585e90f"
   },
   "outputs": [
    {
     "name": "stdout",
     "output_type": "stream",
     "text": [
      "\"Иван Петров\". Москва. Баланс: 50 руб.\n"
     ]
    }
   ],
   "source": [
    "class Customers:\n",
    "    def __init__(self, first_name,second_name,city, balance):\n",
    "        self.first_name = first_name\n",
    "        self.second_name = second_name\n",
    "        self.balance = balance\n",
    "        self.city=city\n",
    " \n",
    "    def __str__(self):\n",
    "        return f'''\"{self.first_name} {self.second_name}\". {self.city}. Баланс: {self.balance} руб.'''\n",
    " \n",
    "customer_1 = Customers('Иван','Петров','Москва',50)\n",
    "print(customer_1)"
   ]
  },
  {
   "cell_type": "markdown",
   "metadata": {
    "id": "AgCCBsO-3itO"
   },
   "source": [
    "Команда проекта «Дом питомца» планирует большой корпоратив для своих клиентов. Вам необходимо написать программу, которая позволит составить список гостей. В класс «Клиент» добавьте метод, который будет возвращать информацию только об имени, фамилии и городе клиента.\n",
    "\n",
    "Затем создайте список, в который будут добавлены все клиенты, и выведете его в консоль."
   ]
  },
  {
   "cell_type": "code",
   "execution_count": 15,
   "metadata": {
    "colab": {
     "base_uri": "https://localhost:8080/"
    },
    "id": "Fk_hKGyd3jJM",
    "outputId": "0ba2cf12-9a7c-41bc-9028-eb40b80ca771"
   },
   "outputs": [
    {
     "name": "stdout",
     "output_type": "stream",
     "text": [
      "Иван Петров,г. Москва\n",
      "Владимир Зайцев,г. Кострома\n",
      "Олеся Янина,г. Новосибирск\n"
     ]
    }
   ],
   "source": [
    "class Customers:\n",
    "    def __init__(self, first_name,second_name,city, balance):\n",
    "        self.first_name = first_name\n",
    "        self.second_name = second_name\n",
    "        self.balance = balance\n",
    "        self.city=city\n",
    "\n",
    "    def __str__(self):\n",
    "        return f'''\"{self.first_name} {self.second_name}\". {self.city}. Баланс: {self.balance} руб.'''\n",
    "\n",
    "    def get_guest(self):\n",
    "        return f'{self.first_name} {self.second_name},г. {self.city}'\n",
    "\n",
    "\n",
    "costomer_1 = Customers('Иван','Петров','Москва',50)\n",
    "costomer_2 = Customers('Владимир','Зайцев','Кострома',50)\n",
    "costomer_3 = Customers('Олеся','Янина','Новосибирск',50)\n",
    "\n",
    "guest_list=[costomer_1,costomer_2,costomer_3]\n",
    "\n",
    "\n",
    "for guest in guest_list:\n",
    "    print(guest.get_guest())"
   ]
  },
  {
   "cell_type": "code",
   "execution_count": 16,
   "metadata": {
    "colab": {
     "base_uri": "https://localhost:8080/",
     "height": 35
    },
    "id": "vQ3-0-L64D5u",
    "outputId": "86d26b78-9cb7-4690-f07a-0509aed1196a"
   },
   "outputs": [
    {
     "data": {
      "text/plain": [
       "'Иван Петров,г. Москва'"
      ]
     },
     "execution_count": 16,
     "metadata": {},
     "output_type": "execute_result"
    }
   ],
   "source": [
    "guest_list[0].get_guest()"
   ]
  },
  {
   "cell_type": "markdown",
   "metadata": {
    "id": "pH3bUtJR43cI"
   },
   "source": [
    " Мы изучили базовый подход к объектно-ориентированному программированию. Теперь вам должно быть лучше понятно, что всё, с чем мы работаем в Python, — это объекты.\n",
    "\n",
    "Использование объектов удобно, поскольку они сами предлагают структуру для хранения необходимых данных и обеспечивают их сохранность на основе инкапсуляции. \n",
    "\n",
    "Теперь мы можем создавать свои классы и объекты, в том числе основанные на ранее разработанных классах. Механизм наследования позволяет взять всё необходимое из родительского класса и добавить недостающее. А механизм полиморфизма позволяет даже переписать ранее описанные методы для своих нужд."
   ]
  },
  {
   "cell_type": "code",
   "execution_count": null,
   "metadata": {
    "id": "sbeKPcA44GOK"
   },
   "outputs": [],
   "source": []
  }
 ],
 "metadata": {
  "colab": {
   "provenance": []
  },
  "kernelspec": {
   "display_name": "Python 3 (ipykernel)",
   "language": "python",
   "name": "python3"
  },
  "language_info": {
   "codemirror_mode": {
    "name": "ipython",
    "version": 3
   },
   "file_extension": ".py",
   "mimetype": "text/x-python",
   "name": "python",
   "nbconvert_exporter": "python",
   "pygments_lexer": "ipython3",
   "version": "3.9.13"
  }
 },
 "nbformat": 4,
 "nbformat_minor": 1
}
